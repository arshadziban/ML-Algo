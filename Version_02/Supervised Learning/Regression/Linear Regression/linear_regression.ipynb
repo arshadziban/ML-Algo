{
 "cells": [
  {
   "cell_type": "markdown",
   "id": "6fe5a8fc",
   "metadata": {},
   "source": [
    "# Linear Regression\n",
    "\n",
    "---\n",
    "\n",
    "## What is Linear Regression?\n",
    "\n",
    "**Linear Regression** is a statistical method used to model the relationship between:\n",
    "\n",
    "- **Independent variable** (input): `x`\n",
    "- **Dependent variable** (output): `y`\n",
    "\n",
    "It tries to draw a **straight line** through the data points that best predicts `y` based on `x`.\n",
    "\n",
    "---\n",
    "\n",
    "## Why Use Linear Regression?\n",
    "\n",
    "We use it to:\n",
    "\n",
    "- Predict future values\n",
    "- Understand how variables are related\n",
    "- Analyze trends\n",
    "\n",
    "For example, if `x` is study hours and `y` is exam scores, it helps predict scores for future hours.\n",
    "\n",
    "---\n",
    "\n",
    "## Given Dataset\n",
    "\n",
    "| x | y |\n",
    "|---|---|\n",
    "| 1 | 2 |\n",
    "| 2 | 3 |\n",
    "| 3 | 5 |\n",
    "\n",
    "We want to fit a **line equation**:\n",
    "\n",
    "$$\n",
    "y = wx + b\n",
    "$$\n",
    "\n",
    "Where:\n",
    "\n",
    "- \\( w \\): slope of the line  \n",
    "- \\( b \\): intercept  \n",
    "- \\( y \\): predicted value\n",
    "\n",
    "---\n",
    "\n",
    "## Step-by-Step Calculation\n",
    "\n",
    "### Step 1: Mean of x and y\n",
    "\n",
    "$$\n",
    "\\bar{x} = \\frac{1 + 2 + 3}{3} = 2\n",
    "$$\n",
    "\n",
    "$$\n",
    "\\bar{y} = \\frac{2 + 3 + 5}{3} = 3.33\n",
    "$$\n",
    "\n",
    "---\n",
    "\n",
    "### Step 2: Find slope (w)\n",
    "\n",
    "$$\n",
    "w = \\frac{\\sum{(x_i - \\bar{x})(y_i - \\bar{y})}}{\\sum{(x_i - \\bar{x})^2}}\n",
    "$$\n",
    "\n",
    "### Compute:\n",
    "\n",
    "| \\( x_i \\) | \\( y_i \\) | \\( x_i - \\bar{x} \\) | \\( y_i - \\bar{y} \\) | Product |\n",
    "|----------|-----------|---------------------|---------------------|---------|\n",
    "| 1        | 2         | \\( -1 \\)            | \\( -1.33 \\)         | \\( 1.33 \\) |\n",
    "| 2        | 3         | \\( 0 \\)             | \\( -0.33 \\)         | \\( 0 \\)    |\n",
    "| 3        | 5         | \\( 1 \\)             | \\( 1.67 \\)          | \\( 1.67 \\) |\n",
    "\n",
    "**Numerator**: \\( 1.33 + 0 + 1.67 = 3 \\)  \n",
    "**Denominator**: \\( (-1)^2 + 0^2 + 1^2 = 2 \\)\n",
    "\n",
    "\n",
    "$$\n",
    "w = \\frac{3}{2} = 1.5\n",
    "$$\n",
    "\n",
    "---\n",
    "\n",
    "### Step 3: Find intercept (b)\n",
    "\n",
    "$$\n",
    "b = \\bar{y} - w\\bar{x} = 3.33 - 1.5 \\times 2 = 0.33\n",
    "$$\n",
    "\n",
    "---\n",
    "\n",
    "## Final Equation\n",
    "\n",
    "$$\n",
    "y = 1.5x + 0.33\n",
    "$$\n",
    "\n",
    "---\n",
    "\n",
    "## Prediction Example\n",
    "\n",
    "To predict for \\( x = 4 \\):\n",
    "\n",
    "$$\n",
    "y = 1.5 \\times 4 + 0.33 = 6.33\n",
    "$$\n",
    "\n",
    "---\n",
    "\n",
    "## Summary\n",
    "\n",
    "- **Line equation**: \\( y = 1.5x + 0.33 \\)\n",
    "- **Used to**: Predict future values, find trends, analyze relationships\n"
   ]
  },
  {
   "cell_type": "code",
   "execution_count": 4,
   "id": "4ed97c64",
   "metadata": {},
   "outputs": [],
   "source": [
    "# Sample dataset\n",
    "x = [1, 2, 3]\n",
    "y = [2, 3, 5]"
   ]
  },
  {
   "cell_type": "code",
   "execution_count": 5,
   "id": "f812c127",
   "metadata": {},
   "outputs": [],
   "source": [
    "# Step 1: Calculate means\n",
    "x_mean = sum(x) / len(x)\n",
    "y_mean = sum(y) / len(y)"
   ]
  },
  {
   "cell_type": "code",
   "execution_count": 6,
   "id": "babb6d23",
   "metadata": {},
   "outputs": [
    {
     "data": {
      "text/plain": [
       "(2.0, 3.3333333333333335)"
      ]
     },
     "execution_count": 6,
     "metadata": {},
     "output_type": "execute_result"
    }
   ],
   "source": [
    "x_mean, y_mean"
   ]
  },
  {
   "cell_type": "code",
   "execution_count": 7,
   "id": "ddc00460",
   "metadata": {},
   "outputs": [],
   "source": [
    "# Step 2: Calculate the slope (w)\n",
    "numerator = sum((xi - x_mean) * (yi - y_mean) for xi, yi in zip(x, y))\n",
    "denominator = sum((xi - x_mean) ** 2 for xi in x)\n",
    "w = numerator / denominator"
   ]
  },
  {
   "cell_type": "code",
   "execution_count": 8,
   "id": "1f0a6991",
   "metadata": {},
   "outputs": [
    {
     "data": {
      "text/plain": [
       "1.5"
      ]
     },
     "execution_count": 8,
     "metadata": {},
     "output_type": "execute_result"
    }
   ],
   "source": [
    "w"
   ]
  },
  {
   "cell_type": "code",
   "execution_count": 9,
   "id": "4b132379",
   "metadata": {},
   "outputs": [],
   "source": [
    "# Step 3: Calculate the intercept (b)\n",
    "b = y_mean - w * x_mean"
   ]
  },
  {
   "cell_type": "code",
   "execution_count": 10,
   "id": "dafbb980",
   "metadata": {},
   "outputs": [],
   "source": [
    "# Step 4: Define the prediction function\n",
    "def predict(x_val):\n",
    "    return w * x_val + b"
   ]
  },
  {
   "cell_type": "code",
   "execution_count": 11,
   "id": "67118737",
   "metadata": {},
   "outputs": [
    {
     "name": "stdout",
     "output_type": "stream",
     "text": [
      "Regression Line: ŷ = 1.50x + 0.33\n"
     ]
    }
   ],
   "source": [
    "# Output the equation of the line\n",
    "print(f\"Regression Line: ŷ = {w:.2f}x + {b:.2f}\")"
   ]
  },
  {
   "cell_type": "code",
   "execution_count": 12,
   "id": "30ebcfd8",
   "metadata": {},
   "outputs": [
    {
     "name": "stdout",
     "output_type": "stream",
     "text": [
      "Prediction for x = 4: ŷ = 6.33\n"
     ]
    }
   ],
   "source": [
    "# Step 5: Make a prediction for x = 4\n",
    "x_test = 4\n",
    "y_pred = predict(x_test)\n",
    "print(f\"Prediction for x = {x_test}: ŷ = {y_pred:.2f}\")"
   ]
  },
  {
   "cell_type": "markdown",
   "id": "919c5a3d",
   "metadata": {},
   "source": [
    " # Manual Least Squares Implementation"
   ]
  },
  {
   "cell_type": "markdown",
   "id": "a6ab2d2c",
   "metadata": {},
   "source": [
    "The Least Squares Method (LSM) is a standard approach used in linear regression to determine the best-fitting line through a set of data points. It does so by minimizing the sum of the squared differences between the actual observed values and the values predicted by the linear model."
   ]
  },
  {
   "cell_type": "markdown",
   "id": "9c321b4b",
   "metadata": {},
   "source": [
    "# Linear Regression Using the Least Squares Method — Manual Calculation\n",
    "\n",
    "---\n",
    "\n",
    "## Dataset\n",
    "\n",
    "$$\n",
    "\\begin{array}{|c|c|}\n",
    "\\hline\n",
    "x & y \\\\\n",
    "\\hline\n",
    "1 & 2 \\\\\n",
    "2 & 3 \\\\\n",
    "3 & 5 \\\\\n",
    "\\hline\n",
    "\\end{array}\n",
    "$$\n",
    "\n",
    "---\n",
    "\n",
    "## Step-by-Step Using Least Squares Formula\n",
    "\n",
    "We want to find:\n",
    "\n",
    "$$\n",
    "y = wx + b\n",
    "$$\n",
    "\n",
    "Where:\n",
    "\n",
    "- \\( w \\): slope  \n",
    "- \\( b \\): intercept\n",
    "\n",
    "---\n",
    "\n",
    "### Step 1: Compute Needed Values\n",
    "\n",
    "| x | y | \\( x^2 \\) | \\( xy \\) |\n",
    "|---|---|-----------|----------|\n",
    "| 1 | 2 | 1         | 2        |\n",
    "| 2 | 3 | 4         | 6        |\n",
    "| 3 | 5 | 9         | 15       |\n",
    "| **∑** | **∑** | **∑** | **∑** |\n",
    "| 6 | 10 | 14        | 23       |\n",
    "\n",
    "---\n",
    "\n",
    "### Step 2: Use the Least Squares Formulas\n",
    "\n",
    "Let:\n",
    "\n",
    "- \\( n = 3 \\) (number of data points)  \n",
    "- \\( \\sum x = 6 \\)  \n",
    "- \\( \\sum y = 10 \\)  \n",
    "- \\( \\sum x^2 = 14 \\)  \n",
    "- \\( \\sum xy = 23 \\)\n",
    "\n",
    "---\n",
    "\n",
    "### Slope \\( w \\)\n",
    "\n",
    "$$\n",
    "w = \\frac{n\\sum xy - (\\sum x)(\\sum y)}{n\\sum x^2 - (\\sum x)^2}\n",
    "$$\n",
    "\n",
    "$$\n",
    "w = \\frac{3 \\cdot 23 - 6 \\cdot 10}{3 \\cdot 14 - 6^2} = \\frac{69 - 60}{42 - 36} = \\frac{9}{6} = 1.5\n",
    "$$\n",
    "\n",
    "---\n",
    "\n",
    "### Intercept \\( b \\)\n",
    "\n",
    "$$\n",
    "b = \\frac{\\sum y - w \\cdot \\sum x}{n}\n",
    "$$\n",
    "\n",
    "$$\n",
    "b = \\frac{10 - 1.5 \\cdot 6}{3} = \\frac{10 - 9}{3} = \\frac{1}{3} = 0.33\n",
    "$$\n",
    "\n",
    "---\n",
    "\n",
    "## Final Equation\n",
    "\n",
    "$$\n",
    "y = 1.5x + 0.33\n",
    "$$\n",
    "\n",
    "---\n",
    "\n",
    "## Prediction Example\n",
    "\n",
    "Predict \\( y \\) when \\( x = 4 \\):\n",
    "\n",
    "$$\n",
    "y = 1.5 \\cdot 4 + 0.33 = 6 + 0.33 = 6.33\n",
    "$$\n",
    "\n"
   ]
  },
  {
   "cell_type": "code",
   "execution_count": 13,
   "id": "3ca6ce3a",
   "metadata": {},
   "outputs": [],
   "source": [
    "# Number of data points\n",
    "n = len(x)"
   ]
  },
  {
   "cell_type": "code",
   "execution_count": 14,
   "id": "157321bc",
   "metadata": {},
   "outputs": [
    {
     "data": {
      "text/plain": [
       "3"
      ]
     },
     "execution_count": 14,
     "metadata": {},
     "output_type": "execute_result"
    }
   ],
   "source": [
    "n"
   ]
  },
  {
   "cell_type": "code",
   "execution_count": 15,
   "id": "db84028e",
   "metadata": {},
   "outputs": [],
   "source": [
    "# Compute sums\n",
    "sum_x = sum(x)\n",
    "sum_y = sum(y)\n",
    "sum_xy = sum(x[i] * y[i] for i in range(n))\n",
    "sum_x_squared = sum(x[i] ** 2 for i in range(n))"
   ]
  },
  {
   "cell_type": "code",
   "execution_count": 16,
   "id": "aa28e7f3",
   "metadata": {},
   "outputs": [
    {
     "data": {
      "text/plain": [
       "(6, 10, 23, 14)"
      ]
     },
     "execution_count": 16,
     "metadata": {},
     "output_type": "execute_result"
    }
   ],
   "source": [
    "sum_x, sum_y, sum_xy, sum_x_squared"
   ]
  },
  {
   "cell_type": "code",
   "execution_count": 17,
   "id": "82121f20",
   "metadata": {},
   "outputs": [],
   "source": [
    "# Calculate weight (w) and bias (b)\n",
    "w = (n * sum_xy - sum_x * sum_y) / (n * sum_x_squared - sum_x ** 2)\n",
    "b = (sum_y - w * sum_x) / n"
   ]
  },
  {
   "cell_type": "code",
   "execution_count": 18,
   "id": "0b621450",
   "metadata": {},
   "outputs": [],
   "source": [
    "x_value = 4\n",
    "y_pred = w * x_value + b"
   ]
  },
  {
   "cell_type": "code",
   "execution_count": 19,
   "id": "ac0c1064",
   "metadata": {},
   "outputs": [
    {
     "data": {
      "text/plain": [
       "6.333333333333333"
      ]
     },
     "execution_count": 19,
     "metadata": {},
     "output_type": "execute_result"
    }
   ],
   "source": [
    "y_pred"
   ]
  },
  {
   "cell_type": "markdown",
   "id": "1719422f",
   "metadata": {},
   "source": [
    "# MSE (Cost Function) and R²"
   ]
  },
  {
   "cell_type": "markdown",
   "id": "f6945db0",
   "metadata": {},
   "source": [
    "# Linear Regression Using the Least Squares Method — Manual Calculation with MSE\n",
    "\n",
    "---\n",
    "\n",
    "## Dataset\n",
    "\n",
    "$$\n",
    "\\begin{array}{|c|c|}\n",
    "\\hline\n",
    "x & y \\\\\n",
    "\\hline\n",
    "1 & 2 \\\\\n",
    "2 & 3 \\\\\n",
    "3 & 5 \\\\\n",
    "\\hline\n",
    "\\end{array}\n",
    "$$\n",
    "\n",
    "---\n",
    "\n",
    "## Final Line Equation\n",
    "\n",
    "From the previous calculation:\n",
    "\n",
    "$$\n",
    "y = 1.5x + 0.33\n",
    "$$\n",
    "\n",
    "---\n",
    "\n",
    "## What is MSE?\n",
    "\n",
    "**MSE (Mean Squared Error)** is a common metric used to measure how well a regression model fits the data.\n",
    "\n",
    "It calculates the **average of the squared differences** between the actual values and the predicted values.\n",
    "\n",
    "---\n",
    "\n",
    "## Why Use MSE?\n",
    "\n",
    "- Measures how far off predictions are from true values  \n",
    "- Penalizes large errors more due to squaring  \n",
    "- A lower MSE means a better model  \n",
    "- Common for comparing multiple regression models\n",
    "\n",
    "---\n",
    "\n",
    "## Prediction Table\n",
    "\n",
    "| \\( x \\) | Actual \\( y \\) | Predicted \\( y = 1.5x + 0.33 \\) | Error  | Squared Error |\n",
    "|--------|----------------|----------------------------------|--------------------------------------|----------------|\n",
    "| 1      | 2              | \\( 1.5(1) + 0.33 = 1.83 \\)        | \\( 2 - 1.83 = 0.17 \\)                | \\( 0.17^2 = 0.0289 \\) |\n",
    "| 2      | 3              | \\( 1.5(2) + 0.33 = 3.33 \\)        | \\( 3 - 3.33 = -0.33 \\)               | \\( (-0.33)^2 = 0.1089 \\) |\n",
    "| 3      | 5              | \\( 1.5(3) + 0.33 = 4.83 \\)        | \\( 5 - 4.83 = 0.17 \\)                | \\( 0.17^2 = 0.0289 \\) |\n",
    "\n",
    "---\n",
    "\n",
    "## Step-by-Step MSE Calculation\n",
    "\n",
    "### Step 1: Sum of Squared Errors\n",
    "\n",
    "$$\n",
    "\\text{SSE} = 0.0289 + 0.1089 + 0.0289 = 0.1667\n",
    "$$\n",
    "\n",
    "### Step 2: Mean Squared Error (MSE)\n",
    "\n",
    "Let \\( n = 3 \\) (number of data points)\n",
    "\n",
    "$$\n",
    "\\text{MSE} = \\frac{\\text{SSE}}{n} = \\frac{0.1667}{3} \\approx 0.0556\n",
    "$$\n",
    "\n",
    "---\n",
    "\n",
    "## Final Result\n",
    "\n",
    "- **MSE** ≈ **0.0556**\n",
    "\n",
    "This means that on average, the squared prediction error is about **0.0556**."
   ]
  },
  {
   "cell_type": "code",
   "execution_count": 20,
   "id": "d8ef77ba",
   "metadata": {},
   "outputs": [],
   "source": [
    "# Compute predicted values for each x\n",
    "y_pred_list = [w * xi + b for xi in x]\n",
    "mse = sum((y[i] - y_pred_list[i]) ** 2 for i in range(n)) / n"
   ]
  },
  {
   "cell_type": "code",
   "execution_count": 21,
   "id": "8edeba45",
   "metadata": {},
   "outputs": [
    {
     "data": {
      "text/plain": [
       "[1.8333333333333333, 3.3333333333333335, 4.833333333333333]"
      ]
     },
     "execution_count": 21,
     "metadata": {},
     "output_type": "execute_result"
    }
   ],
   "source": [
    "y_pred_list"
   ]
  },
  {
   "cell_type": "code",
   "execution_count": 22,
   "id": "c9734a38",
   "metadata": {},
   "outputs": [
    {
     "data": {
      "text/plain": [
       "0.05555555555555563"
      ]
     },
     "execution_count": 22,
     "metadata": {},
     "output_type": "execute_result"
    }
   ],
   "source": [
    "mse"
   ]
  },
  {
   "cell_type": "markdown",
   "id": "9c8845c5",
   "metadata": {},
   "source": [
    "# Linear Regression — Manual Calculation of R² (R-squared) Score\n",
    "\n",
    "---\n",
    "\n",
    "## What is R²?\n",
    "\n",
    "**R² (R-squared)**, also called the **coefficient of determination**, measures how well the regression model explains the variability of the output data.\n",
    "\n",
    "---\n",
    "\n",
    "## Why Use R²?\n",
    "\n",
    "- Indicates **how well the model fits the data**\n",
    "- Ranges from **0 to 1**:\n",
    "  - \\( R^2 = 1 \\): perfect fit (all points lie exactly on the line)\n",
    "  - \\( R^2 = 0 \\): model predicts no better than the mean of y\n",
    "- Higher \\( R^2 \\) = better model\n",
    "\n",
    "---\n",
    "\n",
    "## Step-by-Step Calculation\n",
    "\n",
    "### Dataset\n",
    "\n",
    "| \\( x \\) | \\( y \\) (actual) |\n",
    "|--------|------------------|\n",
    "| 1      | 2                |\n",
    "| 2      | 3                |\n",
    "| 3      | 5                |\n",
    "\n",
    "### Model equation:\n",
    "\n",
    "$$\n",
    "y = 1.5x + 0.33\n",
    "$$\n",
    "\n",
    "### Step 1: Predicted \\( y \\)\n",
    "\n",
    "| \\( x \\) | \\( y \\) (actual) | \\( y \\) (predicted) |\n",
    "|--------|------------------|---------------------|\n",
    "| 1      | 2                | 1.83                |\n",
    "| 2      | 3                | 3.33                |\n",
    "| 3      | 5                | 4.83                |\n",
    "\n",
    "---\n",
    "\n",
    "### Step 2: Calculate Total Sum of Squares (TSS)\n",
    "\n",
    "$$\n",
    "\\bar{y} = \\frac{2 + 3 + 5}{3} = 3.33\n",
    "$$\n",
    "\n",
    "$$\n",
    "\\text{TSS} = \\sum (y_i - \\bar{y})^2 = (2 - 3.33)^2 + (3 - 3.33)^2 + (5 - 3.33)^2\n",
    "$$\n",
    "\n",
    "$$\n",
    "\\text{TSS} = 1.7689 + 0.1089 + 2.7889 = 4.6667\n",
    "$$\n",
    "\n",
    "---\n",
    "\n",
    "### Step 3: Calculate Residual Sum of Squares (RSS)\n",
    "\n",
    "$$\n",
    "\\text{RSS} = \\sum (y_i - y_{\\text{pred}})^2 = (2 - 1.83)^2 + (3 - 3.33)^2 + (5 - 4.83)^2\n",
    "$$\n",
    "\n",
    "$$\n",
    "\\text{RSS} = 0.0289 + 0.1089 + 0.0289 = 0.1667\n",
    "$$\n",
    "\n",
    "---\n",
    "\n",
    "### Step 4: Compute R²\n",
    "\n",
    "$$\n",
    "R^2 = 1 - \\frac{\\text{RSS}}{\\text{TSS}} = 1 - \\frac{0.1667}{4.6667} \\approx 1 - 0.0357 = 0.9643\n",
    "$$\n",
    "\n",
    "---\n",
    "\n",
    "## Final Result\n",
    "\n",
    "- R^2 ~= 0.9643\n",
    "\n",
    "This means **96.43% of the variance** in \\( y \\) is explained by the model — indicating a **very good fit**.\n"
   ]
  },
  {
   "cell_type": "code",
   "execution_count": 23,
   "id": "9a8f9499",
   "metadata": {},
   "outputs": [],
   "source": [
    "# Calculate R²\n",
    "y_mean = sum_y / n\n",
    "ss_tot = sum((y[i] - y_mean) ** 2 for i in range(n))\n",
    "ss_res = sum((y[i] - y_pred_list[i]) ** 2 for i in range(n))\n",
    "r2 = 1 - (ss_res / ss_tot)"
   ]
  },
  {
   "cell_type": "code",
   "execution_count": 24,
   "id": "c7c14d12",
   "metadata": {},
   "outputs": [
    {
     "data": {
      "text/plain": [
       "0.9642857142857142"
      ]
     },
     "execution_count": 24,
     "metadata": {},
     "output_type": "execute_result"
    }
   ],
   "source": [
    "r2"
   ]
  },
  {
   "cell_type": "markdown",
   "id": "38e53eac",
   "metadata": {},
   "source": [
    "# Linear Regression using a library function"
   ]
  },
  {
   "cell_type": "code",
   "execution_count": 25,
   "id": "f96bfa10",
   "metadata": {},
   "outputs": [],
   "source": [
    "import pandas as pd\n",
    "from sklearn.linear_model import LinearRegression"
   ]
  },
  {
   "cell_type": "code",
   "execution_count": 26,
   "id": "56217dd1",
   "metadata": {},
   "outputs": [],
   "source": [
    "df = pd.DataFrame({'x': x, 'y': y})"
   ]
  },
  {
   "cell_type": "code",
   "execution_count": 27,
   "id": "42de422f",
   "metadata": {},
   "outputs": [
    {
     "data": {
      "text/html": [
       "<div>\n",
       "<style scoped>\n",
       "    .dataframe tbody tr th:only-of-type {\n",
       "        vertical-align: middle;\n",
       "    }\n",
       "\n",
       "    .dataframe tbody tr th {\n",
       "        vertical-align: top;\n",
       "    }\n",
       "\n",
       "    .dataframe thead th {\n",
       "        text-align: right;\n",
       "    }\n",
       "</style>\n",
       "<table border=\"1\" class=\"dataframe\">\n",
       "  <thead>\n",
       "    <tr style=\"text-align: right;\">\n",
       "      <th></th>\n",
       "      <th>x</th>\n",
       "      <th>y</th>\n",
       "    </tr>\n",
       "  </thead>\n",
       "  <tbody>\n",
       "    <tr>\n",
       "      <th>0</th>\n",
       "      <td>1</td>\n",
       "      <td>2</td>\n",
       "    </tr>\n",
       "    <tr>\n",
       "      <th>1</th>\n",
       "      <td>2</td>\n",
       "      <td>3</td>\n",
       "    </tr>\n",
       "    <tr>\n",
       "      <th>2</th>\n",
       "      <td>3</td>\n",
       "      <td>5</td>\n",
       "    </tr>\n",
       "  </tbody>\n",
       "</table>\n",
       "</div>"
      ],
      "text/plain": [
       "   x  y\n",
       "0  1  2\n",
       "1  2  3\n",
       "2  3  5"
      ]
     },
     "execution_count": 27,
     "metadata": {},
     "output_type": "execute_result"
    }
   ],
   "source": [
    "df"
   ]
  },
  {
   "cell_type": "code",
   "execution_count": 28,
   "id": "6b6736d5",
   "metadata": {},
   "outputs": [],
   "source": [
    "# Define input and output\n",
    "X = df[['x']]  # must be 2D\n",
    "Y = df['y']    # can be 1D"
   ]
  },
  {
   "cell_type": "code",
   "execution_count": 29,
   "id": "f682c5d0",
   "metadata": {},
   "outputs": [
    {
     "data": {
      "text/html": [
       "<div>\n",
       "<style scoped>\n",
       "    .dataframe tbody tr th:only-of-type {\n",
       "        vertical-align: middle;\n",
       "    }\n",
       "\n",
       "    .dataframe tbody tr th {\n",
       "        vertical-align: top;\n",
       "    }\n",
       "\n",
       "    .dataframe thead th {\n",
       "        text-align: right;\n",
       "    }\n",
       "</style>\n",
       "<table border=\"1\" class=\"dataframe\">\n",
       "  <thead>\n",
       "    <tr style=\"text-align: right;\">\n",
       "      <th></th>\n",
       "      <th>x</th>\n",
       "    </tr>\n",
       "  </thead>\n",
       "  <tbody>\n",
       "    <tr>\n",
       "      <th>0</th>\n",
       "      <td>1</td>\n",
       "    </tr>\n",
       "    <tr>\n",
       "      <th>1</th>\n",
       "      <td>2</td>\n",
       "    </tr>\n",
       "    <tr>\n",
       "      <th>2</th>\n",
       "      <td>3</td>\n",
       "    </tr>\n",
       "  </tbody>\n",
       "</table>\n",
       "</div>"
      ],
      "text/plain": [
       "   x\n",
       "0  1\n",
       "1  2\n",
       "2  3"
      ]
     },
     "execution_count": 29,
     "metadata": {},
     "output_type": "execute_result"
    }
   ],
   "source": [
    "X"
   ]
  },
  {
   "cell_type": "code",
   "execution_count": 30,
   "id": "0906806e",
   "metadata": {},
   "outputs": [
    {
     "data": {
      "text/html": [
       "<style>#sk-container-id-1 {\n",
       "  /* Definition of color scheme common for light and dark mode */\n",
       "  --sklearn-color-text: #000;\n",
       "  --sklearn-color-text-muted: #666;\n",
       "  --sklearn-color-line: gray;\n",
       "  /* Definition of color scheme for unfitted estimators */\n",
       "  --sklearn-color-unfitted-level-0: #fff5e6;\n",
       "  --sklearn-color-unfitted-level-1: #f6e4d2;\n",
       "  --sklearn-color-unfitted-level-2: #ffe0b3;\n",
       "  --sklearn-color-unfitted-level-3: chocolate;\n",
       "  /* Definition of color scheme for fitted estimators */\n",
       "  --sklearn-color-fitted-level-0: #f0f8ff;\n",
       "  --sklearn-color-fitted-level-1: #d4ebff;\n",
       "  --sklearn-color-fitted-level-2: #b3dbfd;\n",
       "  --sklearn-color-fitted-level-3: cornflowerblue;\n",
       "\n",
       "  /* Specific color for light theme */\n",
       "  --sklearn-color-text-on-default-background: var(--sg-text-color, var(--theme-code-foreground, var(--jp-content-font-color1, black)));\n",
       "  --sklearn-color-background: var(--sg-background-color, var(--theme-background, var(--jp-layout-color0, white)));\n",
       "  --sklearn-color-border-box: var(--sg-text-color, var(--theme-code-foreground, var(--jp-content-font-color1, black)));\n",
       "  --sklearn-color-icon: #696969;\n",
       "\n",
       "  @media (prefers-color-scheme: dark) {\n",
       "    /* Redefinition of color scheme for dark theme */\n",
       "    --sklearn-color-text-on-default-background: var(--sg-text-color, var(--theme-code-foreground, var(--jp-content-font-color1, white)));\n",
       "    --sklearn-color-background: var(--sg-background-color, var(--theme-background, var(--jp-layout-color0, #111)));\n",
       "    --sklearn-color-border-box: var(--sg-text-color, var(--theme-code-foreground, var(--jp-content-font-color1, white)));\n",
       "    --sklearn-color-icon: #878787;\n",
       "  }\n",
       "}\n",
       "\n",
       "#sk-container-id-1 {\n",
       "  color: var(--sklearn-color-text);\n",
       "}\n",
       "\n",
       "#sk-container-id-1 pre {\n",
       "  padding: 0;\n",
       "}\n",
       "\n",
       "#sk-container-id-1 input.sk-hidden--visually {\n",
       "  border: 0;\n",
       "  clip: rect(1px 1px 1px 1px);\n",
       "  clip: rect(1px, 1px, 1px, 1px);\n",
       "  height: 1px;\n",
       "  margin: -1px;\n",
       "  overflow: hidden;\n",
       "  padding: 0;\n",
       "  position: absolute;\n",
       "  width: 1px;\n",
       "}\n",
       "\n",
       "#sk-container-id-1 div.sk-dashed-wrapped {\n",
       "  border: 1px dashed var(--sklearn-color-line);\n",
       "  margin: 0 0.4em 0.5em 0.4em;\n",
       "  box-sizing: border-box;\n",
       "  padding-bottom: 0.4em;\n",
       "  background-color: var(--sklearn-color-background);\n",
       "}\n",
       "\n",
       "#sk-container-id-1 div.sk-container {\n",
       "  /* jupyter's `normalize.less` sets `[hidden] { display: none; }`\n",
       "     but bootstrap.min.css set `[hidden] { display: none !important; }`\n",
       "     so we also need the `!important` here to be able to override the\n",
       "     default hidden behavior on the sphinx rendered scikit-learn.org.\n",
       "     See: https://github.com/scikit-learn/scikit-learn/issues/21755 */\n",
       "  display: inline-block !important;\n",
       "  position: relative;\n",
       "}\n",
       "\n",
       "#sk-container-id-1 div.sk-text-repr-fallback {\n",
       "  display: none;\n",
       "}\n",
       "\n",
       "div.sk-parallel-item,\n",
       "div.sk-serial,\n",
       "div.sk-item {\n",
       "  /* draw centered vertical line to link estimators */\n",
       "  background-image: linear-gradient(var(--sklearn-color-text-on-default-background), var(--sklearn-color-text-on-default-background));\n",
       "  background-size: 2px 100%;\n",
       "  background-repeat: no-repeat;\n",
       "  background-position: center center;\n",
       "}\n",
       "\n",
       "/* Parallel-specific style estimator block */\n",
       "\n",
       "#sk-container-id-1 div.sk-parallel-item::after {\n",
       "  content: \"\";\n",
       "  width: 100%;\n",
       "  border-bottom: 2px solid var(--sklearn-color-text-on-default-background);\n",
       "  flex-grow: 1;\n",
       "}\n",
       "\n",
       "#sk-container-id-1 div.sk-parallel {\n",
       "  display: flex;\n",
       "  align-items: stretch;\n",
       "  justify-content: center;\n",
       "  background-color: var(--sklearn-color-background);\n",
       "  position: relative;\n",
       "}\n",
       "\n",
       "#sk-container-id-1 div.sk-parallel-item {\n",
       "  display: flex;\n",
       "  flex-direction: column;\n",
       "}\n",
       "\n",
       "#sk-container-id-1 div.sk-parallel-item:first-child::after {\n",
       "  align-self: flex-end;\n",
       "  width: 50%;\n",
       "}\n",
       "\n",
       "#sk-container-id-1 div.sk-parallel-item:last-child::after {\n",
       "  align-self: flex-start;\n",
       "  width: 50%;\n",
       "}\n",
       "\n",
       "#sk-container-id-1 div.sk-parallel-item:only-child::after {\n",
       "  width: 0;\n",
       "}\n",
       "\n",
       "/* Serial-specific style estimator block */\n",
       "\n",
       "#sk-container-id-1 div.sk-serial {\n",
       "  display: flex;\n",
       "  flex-direction: column;\n",
       "  align-items: center;\n",
       "  background-color: var(--sklearn-color-background);\n",
       "  padding-right: 1em;\n",
       "  padding-left: 1em;\n",
       "}\n",
       "\n",
       "\n",
       "/* Toggleable style: style used for estimator/Pipeline/ColumnTransformer box that is\n",
       "clickable and can be expanded/collapsed.\n",
       "- Pipeline and ColumnTransformer use this feature and define the default style\n",
       "- Estimators will overwrite some part of the style using the `sk-estimator` class\n",
       "*/\n",
       "\n",
       "/* Pipeline and ColumnTransformer style (default) */\n",
       "\n",
       "#sk-container-id-1 div.sk-toggleable {\n",
       "  /* Default theme specific background. It is overwritten whether we have a\n",
       "  specific estimator or a Pipeline/ColumnTransformer */\n",
       "  background-color: var(--sklearn-color-background);\n",
       "}\n",
       "\n",
       "/* Toggleable label */\n",
       "#sk-container-id-1 label.sk-toggleable__label {\n",
       "  cursor: pointer;\n",
       "  display: flex;\n",
       "  width: 100%;\n",
       "  margin-bottom: 0;\n",
       "  padding: 0.5em;\n",
       "  box-sizing: border-box;\n",
       "  text-align: center;\n",
       "  align-items: start;\n",
       "  justify-content: space-between;\n",
       "  gap: 0.5em;\n",
       "}\n",
       "\n",
       "#sk-container-id-1 label.sk-toggleable__label .caption {\n",
       "  font-size: 0.6rem;\n",
       "  font-weight: lighter;\n",
       "  color: var(--sklearn-color-text-muted);\n",
       "}\n",
       "\n",
       "#sk-container-id-1 label.sk-toggleable__label-arrow:before {\n",
       "  /* Arrow on the left of the label */\n",
       "  content: \"▸\";\n",
       "  float: left;\n",
       "  margin-right: 0.25em;\n",
       "  color: var(--sklearn-color-icon);\n",
       "}\n",
       "\n",
       "#sk-container-id-1 label.sk-toggleable__label-arrow:hover:before {\n",
       "  color: var(--sklearn-color-text);\n",
       "}\n",
       "\n",
       "/* Toggleable content - dropdown */\n",
       "\n",
       "#sk-container-id-1 div.sk-toggleable__content {\n",
       "  display: none;\n",
       "  text-align: left;\n",
       "  /* unfitted */\n",
       "  background-color: var(--sklearn-color-unfitted-level-0);\n",
       "}\n",
       "\n",
       "#sk-container-id-1 div.sk-toggleable__content.fitted {\n",
       "  /* fitted */\n",
       "  background-color: var(--sklearn-color-fitted-level-0);\n",
       "}\n",
       "\n",
       "#sk-container-id-1 div.sk-toggleable__content pre {\n",
       "  margin: 0.2em;\n",
       "  border-radius: 0.25em;\n",
       "  color: var(--sklearn-color-text);\n",
       "  /* unfitted */\n",
       "  background-color: var(--sklearn-color-unfitted-level-0);\n",
       "}\n",
       "\n",
       "#sk-container-id-1 div.sk-toggleable__content.fitted pre {\n",
       "  /* unfitted */\n",
       "  background-color: var(--sklearn-color-fitted-level-0);\n",
       "}\n",
       "\n",
       "#sk-container-id-1 input.sk-toggleable__control:checked~div.sk-toggleable__content {\n",
       "  /* Expand drop-down */\n",
       "  display: block;\n",
       "  width: 100%;\n",
       "  overflow: visible;\n",
       "}\n",
       "\n",
       "#sk-container-id-1 input.sk-toggleable__control:checked~label.sk-toggleable__label-arrow:before {\n",
       "  content: \"▾\";\n",
       "}\n",
       "\n",
       "/* Pipeline/ColumnTransformer-specific style */\n",
       "\n",
       "#sk-container-id-1 div.sk-label input.sk-toggleable__control:checked~label.sk-toggleable__label {\n",
       "  color: var(--sklearn-color-text);\n",
       "  background-color: var(--sklearn-color-unfitted-level-2);\n",
       "}\n",
       "\n",
       "#sk-container-id-1 div.sk-label.fitted input.sk-toggleable__control:checked~label.sk-toggleable__label {\n",
       "  background-color: var(--sklearn-color-fitted-level-2);\n",
       "}\n",
       "\n",
       "/* Estimator-specific style */\n",
       "\n",
       "/* Colorize estimator box */\n",
       "#sk-container-id-1 div.sk-estimator input.sk-toggleable__control:checked~label.sk-toggleable__label {\n",
       "  /* unfitted */\n",
       "  background-color: var(--sklearn-color-unfitted-level-2);\n",
       "}\n",
       "\n",
       "#sk-container-id-1 div.sk-estimator.fitted input.sk-toggleable__control:checked~label.sk-toggleable__label {\n",
       "  /* fitted */\n",
       "  background-color: var(--sklearn-color-fitted-level-2);\n",
       "}\n",
       "\n",
       "#sk-container-id-1 div.sk-label label.sk-toggleable__label,\n",
       "#sk-container-id-1 div.sk-label label {\n",
       "  /* The background is the default theme color */\n",
       "  color: var(--sklearn-color-text-on-default-background);\n",
       "}\n",
       "\n",
       "/* On hover, darken the color of the background */\n",
       "#sk-container-id-1 div.sk-label:hover label.sk-toggleable__label {\n",
       "  color: var(--sklearn-color-text);\n",
       "  background-color: var(--sklearn-color-unfitted-level-2);\n",
       "}\n",
       "\n",
       "/* Label box, darken color on hover, fitted */\n",
       "#sk-container-id-1 div.sk-label.fitted:hover label.sk-toggleable__label.fitted {\n",
       "  color: var(--sklearn-color-text);\n",
       "  background-color: var(--sklearn-color-fitted-level-2);\n",
       "}\n",
       "\n",
       "/* Estimator label */\n",
       "\n",
       "#sk-container-id-1 div.sk-label label {\n",
       "  font-family: monospace;\n",
       "  font-weight: bold;\n",
       "  display: inline-block;\n",
       "  line-height: 1.2em;\n",
       "}\n",
       "\n",
       "#sk-container-id-1 div.sk-label-container {\n",
       "  text-align: center;\n",
       "}\n",
       "\n",
       "/* Estimator-specific */\n",
       "#sk-container-id-1 div.sk-estimator {\n",
       "  font-family: monospace;\n",
       "  border: 1px dotted var(--sklearn-color-border-box);\n",
       "  border-radius: 0.25em;\n",
       "  box-sizing: border-box;\n",
       "  margin-bottom: 0.5em;\n",
       "  /* unfitted */\n",
       "  background-color: var(--sklearn-color-unfitted-level-0);\n",
       "}\n",
       "\n",
       "#sk-container-id-1 div.sk-estimator.fitted {\n",
       "  /* fitted */\n",
       "  background-color: var(--sklearn-color-fitted-level-0);\n",
       "}\n",
       "\n",
       "/* on hover */\n",
       "#sk-container-id-1 div.sk-estimator:hover {\n",
       "  /* unfitted */\n",
       "  background-color: var(--sklearn-color-unfitted-level-2);\n",
       "}\n",
       "\n",
       "#sk-container-id-1 div.sk-estimator.fitted:hover {\n",
       "  /* fitted */\n",
       "  background-color: var(--sklearn-color-fitted-level-2);\n",
       "}\n",
       "\n",
       "/* Specification for estimator info (e.g. \"i\" and \"?\") */\n",
       "\n",
       "/* Common style for \"i\" and \"?\" */\n",
       "\n",
       ".sk-estimator-doc-link,\n",
       "a:link.sk-estimator-doc-link,\n",
       "a:visited.sk-estimator-doc-link {\n",
       "  float: right;\n",
       "  font-size: smaller;\n",
       "  line-height: 1em;\n",
       "  font-family: monospace;\n",
       "  background-color: var(--sklearn-color-background);\n",
       "  border-radius: 1em;\n",
       "  height: 1em;\n",
       "  width: 1em;\n",
       "  text-decoration: none !important;\n",
       "  margin-left: 0.5em;\n",
       "  text-align: center;\n",
       "  /* unfitted */\n",
       "  border: var(--sklearn-color-unfitted-level-1) 1pt solid;\n",
       "  color: var(--sklearn-color-unfitted-level-1);\n",
       "}\n",
       "\n",
       ".sk-estimator-doc-link.fitted,\n",
       "a:link.sk-estimator-doc-link.fitted,\n",
       "a:visited.sk-estimator-doc-link.fitted {\n",
       "  /* fitted */\n",
       "  border: var(--sklearn-color-fitted-level-1) 1pt solid;\n",
       "  color: var(--sklearn-color-fitted-level-1);\n",
       "}\n",
       "\n",
       "/* On hover */\n",
       "div.sk-estimator:hover .sk-estimator-doc-link:hover,\n",
       ".sk-estimator-doc-link:hover,\n",
       "div.sk-label-container:hover .sk-estimator-doc-link:hover,\n",
       ".sk-estimator-doc-link:hover {\n",
       "  /* unfitted */\n",
       "  background-color: var(--sklearn-color-unfitted-level-3);\n",
       "  color: var(--sklearn-color-background);\n",
       "  text-decoration: none;\n",
       "}\n",
       "\n",
       "div.sk-estimator.fitted:hover .sk-estimator-doc-link.fitted:hover,\n",
       ".sk-estimator-doc-link.fitted:hover,\n",
       "div.sk-label-container:hover .sk-estimator-doc-link.fitted:hover,\n",
       ".sk-estimator-doc-link.fitted:hover {\n",
       "  /* fitted */\n",
       "  background-color: var(--sklearn-color-fitted-level-3);\n",
       "  color: var(--sklearn-color-background);\n",
       "  text-decoration: none;\n",
       "}\n",
       "\n",
       "/* Span, style for the box shown on hovering the info icon */\n",
       ".sk-estimator-doc-link span {\n",
       "  display: none;\n",
       "  z-index: 9999;\n",
       "  position: relative;\n",
       "  font-weight: normal;\n",
       "  right: .2ex;\n",
       "  padding: .5ex;\n",
       "  margin: .5ex;\n",
       "  width: min-content;\n",
       "  min-width: 20ex;\n",
       "  max-width: 50ex;\n",
       "  color: var(--sklearn-color-text);\n",
       "  box-shadow: 2pt 2pt 4pt #999;\n",
       "  /* unfitted */\n",
       "  background: var(--sklearn-color-unfitted-level-0);\n",
       "  border: .5pt solid var(--sklearn-color-unfitted-level-3);\n",
       "}\n",
       "\n",
       ".sk-estimator-doc-link.fitted span {\n",
       "  /* fitted */\n",
       "  background: var(--sklearn-color-fitted-level-0);\n",
       "  border: var(--sklearn-color-fitted-level-3);\n",
       "}\n",
       "\n",
       ".sk-estimator-doc-link:hover span {\n",
       "  display: block;\n",
       "}\n",
       "\n",
       "/* \"?\"-specific style due to the `<a>` HTML tag */\n",
       "\n",
       "#sk-container-id-1 a.estimator_doc_link {\n",
       "  float: right;\n",
       "  font-size: 1rem;\n",
       "  line-height: 1em;\n",
       "  font-family: monospace;\n",
       "  background-color: var(--sklearn-color-background);\n",
       "  border-radius: 1rem;\n",
       "  height: 1rem;\n",
       "  width: 1rem;\n",
       "  text-decoration: none;\n",
       "  /* unfitted */\n",
       "  color: var(--sklearn-color-unfitted-level-1);\n",
       "  border: var(--sklearn-color-unfitted-level-1) 1pt solid;\n",
       "}\n",
       "\n",
       "#sk-container-id-1 a.estimator_doc_link.fitted {\n",
       "  /* fitted */\n",
       "  border: var(--sklearn-color-fitted-level-1) 1pt solid;\n",
       "  color: var(--sklearn-color-fitted-level-1);\n",
       "}\n",
       "\n",
       "/* On hover */\n",
       "#sk-container-id-1 a.estimator_doc_link:hover {\n",
       "  /* unfitted */\n",
       "  background-color: var(--sklearn-color-unfitted-level-3);\n",
       "  color: var(--sklearn-color-background);\n",
       "  text-decoration: none;\n",
       "}\n",
       "\n",
       "#sk-container-id-1 a.estimator_doc_link.fitted:hover {\n",
       "  /* fitted */\n",
       "  background-color: var(--sklearn-color-fitted-level-3);\n",
       "}\n",
       "\n",
       ".estimator-table summary {\n",
       "    padding: .5rem;\n",
       "    font-family: monospace;\n",
       "    cursor: pointer;\n",
       "}\n",
       "\n",
       ".estimator-table details[open] {\n",
       "    padding-left: 0.1rem;\n",
       "    padding-right: 0.1rem;\n",
       "    padding-bottom: 0.3rem;\n",
       "}\n",
       "\n",
       ".estimator-table .parameters-table {\n",
       "    margin-left: auto !important;\n",
       "    margin-right: auto !important;\n",
       "}\n",
       "\n",
       ".estimator-table .parameters-table tr:nth-child(odd) {\n",
       "    background-color: #fff;\n",
       "}\n",
       "\n",
       ".estimator-table .parameters-table tr:nth-child(even) {\n",
       "    background-color: #f6f6f6;\n",
       "}\n",
       "\n",
       ".estimator-table .parameters-table tr:hover {\n",
       "    background-color: #e0e0e0;\n",
       "}\n",
       "\n",
       ".estimator-table table td {\n",
       "    border: 1px solid rgba(106, 105, 104, 0.232);\n",
       "}\n",
       "\n",
       ".user-set td {\n",
       "    color:rgb(255, 94, 0);\n",
       "    text-align: left;\n",
       "}\n",
       "\n",
       ".user-set td.value pre {\n",
       "    color:rgb(255, 94, 0) !important;\n",
       "    background-color: transparent !important;\n",
       "}\n",
       "\n",
       ".default td {\n",
       "    color: black;\n",
       "    text-align: left;\n",
       "}\n",
       "\n",
       ".user-set td i,\n",
       ".default td i {\n",
       "    color: black;\n",
       "}\n",
       "\n",
       ".copy-paste-icon {\n",
       "    background-image: url(data:image/svg+xml;base64,PHN2ZyB4bWxucz0iaHR0cDovL3d3dy53My5vcmcvMjAwMC9zdmciIHZpZXdCb3g9IjAgMCA0NDggNTEyIj48IS0tIUZvbnQgQXdlc29tZSBGcmVlIDYuNy4yIGJ5IEBmb250YXdlc29tZSAtIGh0dHBzOi8vZm9udGF3ZXNvbWUuY29tIExpY2Vuc2UgLSBodHRwczovL2ZvbnRhd2Vzb21lLmNvbS9saWNlbnNlL2ZyZWUgQ29weXJpZ2h0IDIwMjUgRm9udGljb25zLCBJbmMuLS0+PHBhdGggZD0iTTIwOCAwTDMzMi4xIDBjMTIuNyAwIDI0LjkgNS4xIDMzLjkgMTQuMWw2Ny45IDY3LjljOSA5IDE0LjEgMjEuMiAxNC4xIDMzLjlMNDQ4IDMzNmMwIDI2LjUtMjEuNSA0OC00OCA0OGwtMTkyIDBjLTI2LjUgMC00OC0yMS41LTQ4LTQ4bDAtMjg4YzAtMjYuNSAyMS41LTQ4IDQ4LTQ4ek00OCAxMjhsODAgMCAwIDY0LTY0IDAgMCAyNTYgMTkyIDAgMC0zMiA2NCAwIDAgNDhjMCAyNi41LTIxLjUgNDgtNDggNDhMNDggNTEyYy0yNi41IDAtNDgtMjEuNS00OC00OEwwIDE3NmMwLTI2LjUgMjEuNS00OCA0OC00OHoiLz48L3N2Zz4=);\n",
       "    background-repeat: no-repeat;\n",
       "    background-size: 14px 14px;\n",
       "    background-position: 0;\n",
       "    display: inline-block;\n",
       "    width: 14px;\n",
       "    height: 14px;\n",
       "    cursor: pointer;\n",
       "}\n",
       "</style><body><div id=\"sk-container-id-1\" class=\"sk-top-container\"><div class=\"sk-text-repr-fallback\"><pre>LinearRegression()</pre><b>In a Jupyter environment, please rerun this cell to show the HTML representation or trust the notebook. <br />On GitHub, the HTML representation is unable to render, please try loading this page with nbviewer.org.</b></div><div class=\"sk-container\" hidden><div class=\"sk-item\"><div class=\"sk-estimator fitted sk-toggleable\"><input class=\"sk-toggleable__control sk-hidden--visually\" id=\"sk-estimator-id-1\" type=\"checkbox\" checked><label for=\"sk-estimator-id-1\" class=\"sk-toggleable__label fitted sk-toggleable__label-arrow\"><div><div>LinearRegression</div></div><div><a class=\"sk-estimator-doc-link fitted\" rel=\"noreferrer\" target=\"_blank\" href=\"https://scikit-learn.org/1.7/modules/generated/sklearn.linear_model.LinearRegression.html\">?<span>Documentation for LinearRegression</span></a><span class=\"sk-estimator-doc-link fitted\">i<span>Fitted</span></span></div></label><div class=\"sk-toggleable__content fitted\" data-param-prefix=\"\">\n",
       "        <div class=\"estimator-table\">\n",
       "            <details>\n",
       "                <summary>Parameters</summary>\n",
       "                <table class=\"parameters-table\">\n",
       "                  <tbody>\n",
       "                    \n",
       "        <tr class=\"default\">\n",
       "            <td><i class=\"copy-paste-icon\"\n",
       "                 onclick=\"copyToClipboard('fit_intercept',\n",
       "                          this.parentElement.nextElementSibling)\"\n",
       "            ></i></td>\n",
       "            <td class=\"param\">fit_intercept&nbsp;</td>\n",
       "            <td class=\"value\">True</td>\n",
       "        </tr>\n",
       "    \n",
       "\n",
       "        <tr class=\"default\">\n",
       "            <td><i class=\"copy-paste-icon\"\n",
       "                 onclick=\"copyToClipboard('copy_X',\n",
       "                          this.parentElement.nextElementSibling)\"\n",
       "            ></i></td>\n",
       "            <td class=\"param\">copy_X&nbsp;</td>\n",
       "            <td class=\"value\">True</td>\n",
       "        </tr>\n",
       "    \n",
       "\n",
       "        <tr class=\"default\">\n",
       "            <td><i class=\"copy-paste-icon\"\n",
       "                 onclick=\"copyToClipboard('tol',\n",
       "                          this.parentElement.nextElementSibling)\"\n",
       "            ></i></td>\n",
       "            <td class=\"param\">tol&nbsp;</td>\n",
       "            <td class=\"value\">1e-06</td>\n",
       "        </tr>\n",
       "    \n",
       "\n",
       "        <tr class=\"default\">\n",
       "            <td><i class=\"copy-paste-icon\"\n",
       "                 onclick=\"copyToClipboard('n_jobs',\n",
       "                          this.parentElement.nextElementSibling)\"\n",
       "            ></i></td>\n",
       "            <td class=\"param\">n_jobs&nbsp;</td>\n",
       "            <td class=\"value\">None</td>\n",
       "        </tr>\n",
       "    \n",
       "\n",
       "        <tr class=\"default\">\n",
       "            <td><i class=\"copy-paste-icon\"\n",
       "                 onclick=\"copyToClipboard('positive',\n",
       "                          this.parentElement.nextElementSibling)\"\n",
       "            ></i></td>\n",
       "            <td class=\"param\">positive&nbsp;</td>\n",
       "            <td class=\"value\">False</td>\n",
       "        </tr>\n",
       "    \n",
       "                  </tbody>\n",
       "                </table>\n",
       "            </details>\n",
       "        </div>\n",
       "    </div></div></div></div></div><script>function copyToClipboard(text, element) {\n",
       "    // Get the parameter prefix from the closest toggleable content\n",
       "    const toggleableContent = element.closest('.sk-toggleable__content');\n",
       "    const paramPrefix = toggleableContent ? toggleableContent.dataset.paramPrefix : '';\n",
       "    const fullParamName = paramPrefix ? `${paramPrefix}${text}` : text;\n",
       "\n",
       "    const originalStyle = element.style;\n",
       "    const computedStyle = window.getComputedStyle(element);\n",
       "    const originalWidth = computedStyle.width;\n",
       "    const originalHTML = element.innerHTML.replace('Copied!', '');\n",
       "\n",
       "    navigator.clipboard.writeText(fullParamName)\n",
       "        .then(() => {\n",
       "            element.style.width = originalWidth;\n",
       "            element.style.color = 'green';\n",
       "            element.innerHTML = \"Copied!\";\n",
       "\n",
       "            setTimeout(() => {\n",
       "                element.innerHTML = originalHTML;\n",
       "                element.style = originalStyle;\n",
       "            }, 2000);\n",
       "        })\n",
       "        .catch(err => {\n",
       "            console.error('Failed to copy:', err);\n",
       "            element.style.color = 'red';\n",
       "            element.innerHTML = \"Failed!\";\n",
       "            setTimeout(() => {\n",
       "                element.innerHTML = originalHTML;\n",
       "                element.style = originalStyle;\n",
       "            }, 2000);\n",
       "        });\n",
       "    return false;\n",
       "}\n",
       "\n",
       "document.querySelectorAll('.fa-regular.fa-copy').forEach(function(element) {\n",
       "    const toggleableContent = element.closest('.sk-toggleable__content');\n",
       "    const paramPrefix = toggleableContent ? toggleableContent.dataset.paramPrefix : '';\n",
       "    const paramName = element.parentElement.nextElementSibling.textContent.trim();\n",
       "    const fullParamName = paramPrefix ? `${paramPrefix}${paramName}` : paramName;\n",
       "\n",
       "    element.setAttribute('title', fullParamName);\n",
       "});\n",
       "</script></body>"
      ],
      "text/plain": [
       "LinearRegression()"
      ]
     },
     "execution_count": 30,
     "metadata": {},
     "output_type": "execute_result"
    }
   ],
   "source": [
    "# Fit linear regression model\n",
    "model = LinearRegression()\n",
    "model.fit(X, Y)"
   ]
  },
  {
   "cell_type": "code",
   "execution_count": 31,
   "id": "991e4333",
   "metadata": {},
   "outputs": [],
   "source": [
    "# Output the equation\n",
    "slope = model.coef_[0]\n",
    "intercept = model.intercept_"
   ]
  },
  {
   "cell_type": "code",
   "execution_count": 33,
   "id": "5481a9bd",
   "metadata": {},
   "outputs": [
    {
     "data": {
      "text/plain": [
       "(np.float64(1.4999999999999993), np.float64(0.3333333333333348))"
      ]
     },
     "execution_count": 33,
     "metadata": {},
     "output_type": "execute_result"
    }
   ],
   "source": [
    "slope, intercept"
   ]
  },
  {
   "cell_type": "code",
   "execution_count": 34,
   "id": "c043f008",
   "metadata": {},
   "outputs": [
    {
     "name": "stdout",
     "output_type": "stream",
     "text": [
      "   x  y    y_pred\n",
      "0  1  2  1.833333\n",
      "1  2  3  3.333333\n",
      "2  3  5  4.833333\n"
     ]
    }
   ],
   "source": [
    "df['y_pred'] = model.predict(X)\n",
    "print(df)"
   ]
  },
  {
   "cell_type": "code",
   "execution_count": 35,
   "id": "75328a2a",
   "metadata": {},
   "outputs": [
    {
     "name": "stderr",
     "output_type": "stream",
     "text": [
      "e:\\Important\\Skills\\ML-Algo\\env\\Lib\\site-packages\\sklearn\\utils\\validation.py:2749: UserWarning: X does not have valid feature names, but LinearRegression was fitted with feature names\n",
      "  warnings.warn(\n"
     ]
    }
   ],
   "source": [
    "# predict for x = 6\n",
    "new_x = [[6]]\n",
    "predicted_y = model.predict(new_x)"
   ]
  },
  {
   "cell_type": "code",
   "execution_count": 36,
   "id": "71f24749",
   "metadata": {},
   "outputs": [
    {
     "data": {
      "text/plain": [
       "array([9.33333333])"
      ]
     },
     "execution_count": 36,
     "metadata": {},
     "output_type": "execute_result"
    }
   ],
   "source": [
    "predicted_y"
   ]
  },
  {
   "cell_type": "code",
   "execution_count": 37,
   "id": "5645e952",
   "metadata": {},
   "outputs": [],
   "source": [
    "from sklearn.metrics import mean_squared_error, r2_score"
   ]
  },
  {
   "cell_type": "code",
   "execution_count": 38,
   "id": "a4e8bfdd",
   "metadata": {},
   "outputs": [],
   "source": [
    "mse = mean_squared_error(Y, df['y_pred'])"
   ]
  },
  {
   "cell_type": "code",
   "execution_count": 39,
   "id": "dfea61f5",
   "metadata": {},
   "outputs": [
    {
     "data": {
      "text/plain": [
       "0.05555555555555553"
      ]
     },
     "execution_count": 39,
     "metadata": {},
     "output_type": "execute_result"
    }
   ],
   "source": [
    "mse"
   ]
  },
  {
   "cell_type": "code",
   "execution_count": 41,
   "id": "2103b4a9",
   "metadata": {},
   "outputs": [],
   "source": [
    "r2 = r2_score(Y, df['y_pred'])"
   ]
  },
  {
   "cell_type": "code",
   "execution_count": 42,
   "id": "9734a0f2",
   "metadata": {},
   "outputs": [
    {
     "data": {
      "text/plain": [
       "0.9642857142857143"
      ]
     },
     "execution_count": 42,
     "metadata": {},
     "output_type": "execute_result"
    }
   ],
   "source": [
    "r2"
   ]
  },
  {
   "cell_type": "code",
   "execution_count": 44,
   "id": "dc66b99c",
   "metadata": {},
   "outputs": [
    {
     "data": {
      "text/html": [
       "<div>\n",
       "<style scoped>\n",
       "    .dataframe tbody tr th:only-of-type {\n",
       "        vertical-align: middle;\n",
       "    }\n",
       "\n",
       "    .dataframe tbody tr th {\n",
       "        vertical-align: top;\n",
       "    }\n",
       "\n",
       "    .dataframe thead th {\n",
       "        text-align: right;\n",
       "    }\n",
       "</style>\n",
       "<table border=\"1\" class=\"dataframe\">\n",
       "  <thead>\n",
       "    <tr style=\"text-align: right;\">\n",
       "      <th></th>\n",
       "      <th>x</th>\n",
       "      <th>y</th>\n",
       "      <th>y_pred</th>\n",
       "    </tr>\n",
       "  </thead>\n",
       "  <tbody>\n",
       "    <tr>\n",
       "      <th>0</th>\n",
       "      <td>1</td>\n",
       "      <td>2</td>\n",
       "      <td>1.833333</td>\n",
       "    </tr>\n",
       "    <tr>\n",
       "      <th>1</th>\n",
       "      <td>2</td>\n",
       "      <td>3</td>\n",
       "      <td>3.333333</td>\n",
       "    </tr>\n",
       "    <tr>\n",
       "      <th>2</th>\n",
       "      <td>3</td>\n",
       "      <td>5</td>\n",
       "      <td>4.833333</td>\n",
       "    </tr>\n",
       "  </tbody>\n",
       "</table>\n",
       "</div>"
      ],
      "text/plain": [
       "   x  y    y_pred\n",
       "0  1  2  1.833333\n",
       "1  2  3  3.333333\n",
       "2  3  5  4.833333"
      ]
     },
     "execution_count": 44,
     "metadata": {},
     "output_type": "execute_result"
    }
   ],
   "source": [
    "df"
   ]
  },
  {
   "cell_type": "code",
   "execution_count": 46,
   "id": "f2a6fd22",
   "metadata": {},
   "outputs": [],
   "source": [
    "import matplotlib.pyplot as plt"
   ]
  },
  {
   "cell_type": "code",
   "execution_count": 47,
   "id": "9664d769",
   "metadata": {},
   "outputs": [
    {
     "data": {
      "image/png": "[encoded data removed]",
      "text/plain": [
       "<Figure size 640x480 with 1 Axes>"
      ]
     },
     "metadata": {},
     "output_type": "display_data"
    }
   ],
   "source": [
    "\n",
    "plt.scatter(df['x'], df['y'], color='blue', label='Actual Points')\n",
    "plt.plot(df['x'], df['y_pred'], color='red', label='Regression Line')\n",
    "plt.title(f\"Linear Regression: ŷ = {slope:.2f}x + {intercept:.2f}\\nMSE = {mse:.4f}, R² = {r2:.4f}\")\n",
    "plt.xlabel('x')\n",
    "plt.ylabel('y')\n",
    "plt.legend()\n",
    "plt.grid(True)\n",
    "plt.show()"
   ]
  },
  {
   "cell_type": "code",
   "execution_count": null,
   "id": "4070be1f",
   "metadata": {},
   "outputs": [],
   "source": []
  }
 ],
 "metadata": {
  "kernelspec": {
   "display_name": "env",
   "language": "python",
   "name": "python3"
  },
  "language_info": {
   "codemirror_mode": {
    "name": "ipython",
    "version": 3
   },
   "file_extension": ".py",
   "mimetype": "text/x-python",
   "name": "python",
   "nbconvert_exporter": "python",
   "pygments_lexer": "ipython3",
   "version": "3.11.0"
  }
 },
 "nbformat": 4,
 "nbformat_minor": 5
}
