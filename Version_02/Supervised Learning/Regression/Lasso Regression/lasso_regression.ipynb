{
 "cells": [
  {
   "cell_type": "markdown",
   "id": "c5b02f19",
   "metadata": {},
   "source": [
    "# Lasso Regression\n",
    "\n",
    "---\n",
    "\n",
    "## What is Lasso Regression?\n",
    "\n",
    "Lasso Regression is a special type of linear regression.\n",
    "It’s just like normal linear regression but it can **remove useless features** (columns) all by itself!\n",
    "\n",
    "---\n",
    "\n",
    "## What is L1 Regularization?\n",
    "\n",
    "* L1 regularization is a special rule.\n",
    "* It **punishes big numbers** in your model by adding their **absolute values** to the error.\n",
    "* \"Absolute value\" just means ignoring whether the number is negative or positive.\n",
    "\n",
    "**Formula:**\n",
    "\n",
    "$$\n",
    "\\text{Total Error} = \\text{Prediction Error} + \\lambda \\cdot (\\text{Sum of absolute values of weights})\n",
    "$$\n",
    "\n",
    "* $\\lambda$ is just a number you pick for how strong the punishment should be.\n",
    "\n",
    "---\n",
    "\n",
    "## Feature Selection (How Lasso Picks the Best Columns)\n",
    "\n",
    "Here’s the magic part:\n",
    "\n",
    "* Lasso can make some weights **exactly zero**!\n",
    "* When a weight is zero, that feature is **not used at all**—it’s like it disappeared!\n",
    "* So Lasso automatically keeps the most useful columns and ignores the rest.\n",
    "\n",
    "---\n",
    "\n",
    "## Real-World Example\n",
    "\n",
    "Suppose you want to predict the price of a toy using:\n",
    "\n",
    "* color\n",
    "* weight\n",
    "* brand\n",
    "* barcode number\n",
    "\n",
    "But only **weight** and **brand** really matter.\n",
    "Lasso can figure this out and set the other weights (like color and barcode) to **zero**!\n",
    "So your final formula only uses the important features.\n",
    "\n",
    "---\n",
    "\n",
    "## Quick Comparison (Lasso vs Ridge)\n",
    "\n",
    "|         | Ridge Regression      | **Lasso Regression**            |\n",
    "| ------- | --------------------- | ------------------------------- |\n",
    "| Penalty | Adds squared weights  | Adds absolute values of weights |\n",
    "| Effect  | Makes weights smaller | Makes some weights exactly zero |\n",
    "| Use     | Keeps all features    | **Removes useless features**    |\n",
    "\n",
    "---\n",
    "\n",
    "## Simple Analogy\n",
    "\n",
    "Think of Lasso as a smart robot that:\n",
    "\n",
    "* **Keeps only the things you need**\n",
    "* **Throws away** (sets to zero) the things you don’t!\n",
    "\n",
    "---\n",
    "\n",
    "## Bottom Line\n",
    "\n",
    "* **Lasso Regression** = Linear Regression + L1 Regularization\n",
    "* **L1 Regularization** helps the model pick only the best features by setting others to zero\n",
    "* This makes your model **simpler and smarter**!\n",
    "\n"
   ]
  },
  {
   "cell_type": "markdown",
   "id": "48a0afb6",
   "metadata": {},
   "source": [
    "# Lasso Regression _Example\n",
    "\n",
    "Suppose you want to fit a line:\n",
    "\n",
    "$$\n",
    "y = w \\cdot x\n",
    "$$\n",
    "\n",
    "with some very simple data:\n",
    "\n",
    "| x | y (actual) |\n",
    "| - | ---------- |\n",
    "| 1 | 2          |\n",
    "| 2 | 4          |\n",
    "| 3 | 6          |\n",
    "\n",
    "Let's see how **Lasso Regression** works!\n",
    "\n",
    "---\n",
    "\n",
    "## Step 1: Lasso Cost Function\n",
    "\n",
    "$$\n",
    "\\text{Cost} = \\text{Average Error} + \\lambda \\cdot |w|\n",
    "$$\n",
    "\n",
    "Let's pick $\\lambda = 1$ (just for example).\n",
    "\n",
    "---\n",
    "\n",
    "## Try $w = 2$\n",
    "\n",
    "$$\n",
    "y_{\\text{predicted}} = 2 \\cdot x\n",
    "$$\n",
    "\n",
    "| x | y_actual | y_predicted | Error | Error² |\n",
    "| - | -------- | ----------- | ----- | ------ |\n",
    "| 1 | 2        | 2           | 0     | 0      |\n",
    "| 2 | 4        | 4           | 0     | 0      |\n",
    "| 3 | 6        | 6           | 0     | 0      |\n",
    "\n",
    "- Total error = $0 + 0 + 0 = 0$\n",
    "- Average error = $\\frac{0}{3} = 0$\n",
    "- L1 penalty = $1 \\times |2| = 2$\n",
    "- **Total cost = 0 + 2 = 2**\n",
    "\n",
    "---\n",
    "\n",
    "## Try $w = 1$\n",
    "\n",
    "$$\n",
    "y_{\\text{predicted}} = 1 \\cdot x\n",
    "$$\n",
    "\n",
    "| x | y_actual | y_predicted | Error | Error² |\n",
    "| - | -------- | ----------- | ----- | ------ |\n",
    "| 1 | 2        | 1           | 1     | 1      |\n",
    "| 2 | 4        | 2           | 2     | 4      |\n",
    "| 3 | 6        | 3           | 3     | 9      |\n",
    "\n",
    "- Total error = $1 + 4 + 9 = 14$\n",
    "- Average error = $\\frac{14}{3} \\approx 4.67$\n",
    "- L1 penalty = $1 \\times |1| = 1$\n",
    "- **Total cost = 4.67 + 1 = 5.67**\n",
    "\n",
    "---\n",
    "\n",
    "## Try $w = 0$\n",
    "\n",
    "$$\n",
    "y_{\\text{predicted}} = 0 \\cdot x = 0\n",
    "$$\n",
    "\n",
    "| x | y_actual | y_predicted | Error | Error² |\n",
    "| - | -------- | ----------- | ----- | ------ |\n",
    "| 1 | 2        | 0           | 2     | 4      |\n",
    "| 2 | 4        | 0           | 4     | 16     |\n",
    "| 3 | 6        | 0           | 6     | 36     |\n",
    "\n",
    "- Total error = $4 + 16 + 36 = 56$\n",
    "- Average error = $\\frac{56}{3} \\approx 18.67$\n",
    "- L1 penalty = $1 \\times |0| = 0$\n",
    "- **Total cost = 18.67 + 0 = 18.67**\n",
    "\n",
    "---\n",
    "\n",
    "\n",
    "\n",
    "## Final Table\n",
    "\n",
    "| w | Average Error | Penalty \\|w\\| | Total Cost |\n",
    "|:---:|:-------------:|:----------:|:----------:|\n",
    "| 2 | 0.00 | 2 | 2.00 |\n",
    "| 1 | 4.67 | 1 | 5.67 |\n",
    "| 0 | 18.67 | 0 | 18.67 |\n",
    "\n",
    "---\n",
    "\n",
    "## Final Answer\n",
    "\n",
    "The **best value for $w$ is 2**, because it gives the lowest total cost!\n",
    "\n",
    "**But:**\n",
    "If you used a bigger $\\lambda$, sometimes Lasso would set $w = 0$ (removing the feature).\n",
    "\n",
    "---\n",
    "\n",
    "# **Key Point:**\n",
    "\n",
    "- **Lasso can make weights exactly zero** (removes useless features automatically).\n",
    "- The penalty part, $\\lambda |w|$, is called **L1 regularization**."
   ]
  },
  {
   "cell_type": "code",
   "execution_count": 1,
   "id": "accd3acb",
   "metadata": {},
   "outputs": [],
   "source": [
    "import numpy as np"
   ]
  },
  {
   "cell_type": "code",
   "execution_count": 2,
   "id": "ce3189ab",
   "metadata": {},
   "outputs": [],
   "source": [
    "X = np.array([1, 2, 3])    \n",
    "y = np.array([2, 4, 6])      "
   ]
  },
  {
   "cell_type": "code",
   "execution_count": 3,
   "id": "41e929cc",
   "metadata": {},
   "outputs": [],
   "source": [
    "lambda_reg = 1   "
   ]
  },
  {
   "cell_type": "code",
   "execution_count": 5,
   "id": "aa47138f",
   "metadata": {},
   "outputs": [],
   "source": [
    "def lasso_cost(w, X, y, lambda_reg):\n",
    "    y_pred = w * X\n",
    "    mse = np.mean((y - y_pred) ** 2)\n",
    "    penalty = lambda_reg * abs(w)  # L1 regularization\n",
    "    return mse + penalty"
   ]
  },
  {
   "cell_type": "code",
   "execution_count": 6,
   "id": "054f9eb6",
   "metadata": {},
   "outputs": [],
   "source": [
    "weights = [0, 1, 2]"
   ]
  },
  {
   "cell_type": "code",
   "execution_count": 7,
   "id": "125b963d",
   "metadata": {},
   "outputs": [],
   "source": [
    "results = []"
   ]
  },
  {
   "cell_type": "code",
   "execution_count": 8,
   "id": "dc2b0b75",
   "metadata": {},
   "outputs": [
    {
     "name": "stdout",
     "output_type": "stream",
     "text": [
      "0\t18.67\t\t0\t\t18.67\n",
      "1\t4.67\t\t1\t\t5.67\n",
      "2\t0.00\t\t2\t\t2.00\n"
     ]
    }
   ],
   "source": [
    "for w in weights:\n",
    "    # Calculate predictions\n",
    "    y_pred = w * X\n",
    "    \n",
    "    # Calculate MSE (Mean Squared Error)\n",
    "    mse = np.mean((y - y_pred) ** 2)\n",
    "    \n",
    "    # Calculate penalty (L1 regularization)\n",
    "    penalty = lambda_reg * abs(w)\n",
    "    \n",
    "    # Total cost\n",
    "    total_cost = mse + penalty\n",
    "    results.append(total_cost)\n",
    "    \n",
    "    print(f\"{w}\\t{mse:.2f}\\t\\t{penalty:.0f}\\t\\t{total_cost:.2f}\")"
   ]
  },
  {
   "cell_type": "code",
   "execution_count": 9,
   "id": "8ccffbcd",
   "metadata": {},
   "outputs": [],
   "source": [
    "# Find optimal weight\n",
    "min_cost = min(results)\n",
    "best_weight_idx = results.index(min_cost)\n",
    "best_weight = weights[best_weight_idx]"
   ]
  },
  {
   "cell_type": "code",
   "execution_count": 10,
   "id": "87d5c90c",
   "metadata": {},
   "outputs": [
    {
     "data": {
      "text/plain": [
       "(2, np.float64(2.0))"
      ]
     },
     "execution_count": 10,
     "metadata": {},
     "output_type": "execute_result"
    }
   ],
   "source": [
    "best_weight, min_cost"
   ]
  },
  {
   "cell_type": "code",
   "execution_count": null,
   "id": "8714df92",
   "metadata": {},
   "outputs": [],
   "source": []
  }
 ],
 "metadata": {
  "kernelspec": {
   "display_name": "env",
   "language": "python",
   "name": "python3"
  },
  "language_info": {
   "codemirror_mode": {
    "name": "ipython",
    "version": 3
   },
   "file_extension": ".py",
   "mimetype": "text/x-python",
   "name": "python",
   "nbconvert_exporter": "python",
   "pygments_lexer": "ipython3",
   "version": "3.11.0"
  }
 },
 "nbformat": 4,
 "nbformat_minor": 5
}
