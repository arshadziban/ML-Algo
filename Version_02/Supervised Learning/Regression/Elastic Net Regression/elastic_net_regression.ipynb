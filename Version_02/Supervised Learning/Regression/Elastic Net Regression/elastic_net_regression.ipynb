{
 "cells": [
  {
   "cell_type": "markdown",
   "id": "29526080",
   "metadata": {},
   "source": [
    "# Elastic Net Regression \n",
    "\n",
    "## What is Elastic Net Regression?\n",
    "It's a smart version of Linear Regression that helps you make better predictions when you have lots of features (columns), especially if some features are related to each other.\n",
    "\n",
    "It combines the ideas of Lasso Regression (L1 penalty) and Ridge Regression (L2 penalty).\n",
    "\n",
    "## Combined L1 and L2 Penalties\n",
    "### L1 Penalty (from Lasso):\n",
    "- Helps the model ignore unimportant features by making their coefficients exactly zero (feature selection)\n",
    "\n",
    "### L2 Penalty (from Ridge):\n",
    "- Helps the model avoid big, wild numbers by making the coefficients smaller (but not exactly zero)\n",
    "\n",
    "**Elastic Net = L1 + L2**\n",
    "- Takes the best of both worlds!\n",
    "- Helps when you have many correlated features (when some columns are similar)\n",
    "\n",
    "## Elastic Net Cost Function\n",
    "The formula looks like this:\n",
    "\n",
    "Cost = MSE + α × [λ₁ × (sum of |w|) + λ₂ × (sum of w²)]\n",
    "\n",
    "Where:\n",
    "- MSE: Mean Squared Error (normal regression loss)\n",
    "- L1: sum of absolute values of weights (|w|)\n",
    "- L2: sum of squared weights (w²)\n",
    "- α (alpha): Overall strength of regularization\n",
    "- λ₁ and λ₂: How much you want to weight L1 and L2 (usually in scikit-learn: l1_ratio)\n",
    "\n",
    "## Hyperparameter Tuning\n",
    "Hyperparameters are the settings that you choose before training your model. For Elastic Net, the main ones are:\n",
    "\n",
    "### alpha\n",
    "- How much you want to regularize (penalize large coefficients)\n",
    "- Higher alpha = more regularization\n",
    "\n",
    "### l1_ratio\n",
    "- How much weight to put on L1 (Lasso) versus L2 (Ridge)\n",
    "- l1_ratio = 0 → pure Ridge\n",
    "- l1_ratio = 1 → pure Lasso\n",
    "- Between 0 and 1 → Elastic Net\n",
    "\n",
    "## How to Choose the Best Values?\n",
    "1. Try different combinations of alpha and l1_ratio\n",
    "2. Use cross-validation to test which settings make your model perform best (not overfitting, not underfitting)\n",
    "3. In Python, you can do this easily with scikit-learn's ElasticNetCV\n"
   ]
  },
  {
   "cell_type": "markdown",
   "id": "abe1825a",
   "metadata": {},
   "source": [
    "\n",
    "\n",
    "## Step-by-Step Example\n",
    "\n",
    "Suppose you have these data points:\n",
    "\n",
    "| x | y |\n",
    "|---|---|\n",
    "| 1 | 2 |\n",
    "| 2 | 3 |\n",
    "| 3 | 6 |\n",
    "\n",
    "You want to fit a line:\n",
    "\n",
    "$$\n",
    "y = w \\cdot x + b\n",
    "$$\n",
    "\n",
    "Let’s set **$ b = 0 $** (to keep it simple).\n",
    "\n",
    "Assume after training (for this example), **$ w = 1.5 $**.\n",
    "\n",
    "### Hyperparameters:\n",
    "- $ \\alpha = 1 $\n",
    "- $ \\text{l1\\_ratio} = 0.6 $\n",
    "\n",
    "### Elastic Net Cost Function:\n",
    "\n",
    "$$\n",
    "\\text{Cost} = \\frac{1}{n} \\sum (y_i - w x_i)^2 + \\alpha \\left[ \\text{l1\\_ratio} \\times |w| + (1 - \\text{l1\\_ratio}) \\times w^2 \\right]\n",
    "$$\n",
    "\n",
    "---\n",
    "\n",
    "### Step 1a: Calculate MSE\n",
    "\n",
    "$$\n",
    "\\text{MSE} = \\frac{1}{3} \\left[ (2 - 1.5 \\times 1)^2 + (3 - 1.5 \\times 2)^2 + (6 - 1.5 \\times 3)^2 \\right]\n",
    "$$\n",
    "\n",
    "Calculate each term:\n",
    "- $ 2 - 1.5 \\times 1 = 0.5 \\rightarrow (0.5)^2 = 0.25 $\n",
    "- $ 3 - 1.5 \\times 2 = 0 \\rightarrow (0)^2 = 0 $\n",
    "- $ 6 - 1.5 \\times 3 = 1.5 \\rightarrow (1.5)^2 = 2.25 $\n",
    "\n",
    "$$\n",
    "\\text{MSE} = \\frac{1}{3} (0.25 + 0 + 2.25) = \\frac{1}{3} (2.5) \\approx 0.833\n",
    "$$\n",
    "\n",
    "---\n",
    "\n",
    "### Step 1b: Calculate L1 and L2 Terms\n",
    "\n",
    "- $ |w| = |1.5| = 1.5 $\n",
    "- $ w^2 = (1.5)^2 = 2.25 $\n",
    "\n",
    "- **L1 part:** $ 0.6 \\times 1.5 = 0.9 $\n",
    "- **L2 part:** $ 0.4 \\times 2.25 = 0.9 $\n",
    "\n",
    "Total regularization: $ 0.9 + 0.9 = 1.8 $\n",
    "\n",
    "---\n",
    "\n",
    "### Step 1c: Total Elastic Net Cost\n",
    "\n",
    "$$\n",
    "\\text{Cost} = \\text{MSE} + \\alpha \\times (\\text{L1} + \\text{L2}) = 0.833 + 1.8 = 2.633\n",
    "$$\n",
    "\n",
    "---\n",
    "\n",
    "# Final Answer: The Elastic Net cost for this example is **2.633**."
   ]
  },
  {
   "cell_type": "code",
   "execution_count": 1,
   "id": "6005a72e",
   "metadata": {},
   "outputs": [],
   "source": [
    "import numpy as np "
   ]
  },
  {
   "cell_type": "code",
   "execution_count": 2,
   "id": "7be1fc64",
   "metadata": {},
   "outputs": [],
   "source": [
    "# Data\n",
    "x = np.array([1, 2, 3])\n",
    "y = np.array([2, 3, 6])\n",
    "w = 1.5\n",
    "b = 0"
   ]
  },
  {
   "cell_type": "code",
   "execution_count": 3,
   "id": "696a5634",
   "metadata": {},
   "outputs": [],
   "source": [
    "# Hyperparameters\n",
    "alpha = 1\n",
    "l1_ratio = 0.6"
   ]
  },
  {
   "cell_type": "code",
   "execution_count": 4,
   "id": "ed93ed59",
   "metadata": {},
   "outputs": [],
   "source": [
    "# 1. Predict y\n",
    "y_pred = w * x + b"
   ]
  },
  {
   "cell_type": "code",
   "execution_count": 5,
   "id": "4d5cf5ee",
   "metadata": {},
   "outputs": [],
   "source": [
    "# 2. Calculate MSE\n",
    "mse = np.mean((y - y_pred)**2)"
   ]
  },
  {
   "cell_type": "code",
   "execution_count": 6,
   "id": "362b1099",
   "metadata": {},
   "outputs": [],
   "source": [
    "# 3. Calculate L1 and L2 penalties\n",
    "l1 = abs(w)\n",
    "l2 = w**2"
   ]
  },
  {
   "cell_type": "code",
   "execution_count": 8,
   "id": "9091b24c",
   "metadata": {},
   "outputs": [],
   "source": [
    "l1_part = l1_ratio * l1\n",
    "l2_part = (1 - l1_ratio) * l2\n",
    "reg_total = l1_part + l2_part"
   ]
  },
  {
   "cell_type": "code",
   "execution_count": 9,
   "id": "77178f83",
   "metadata": {},
   "outputs": [],
   "source": [
    "cost = mse + alpha * reg_total"
   ]
  },
  {
   "cell_type": "code",
   "execution_count": 10,
   "id": "137a8538",
   "metadata": {},
   "outputs": [
    {
     "data": {
      "text/plain": [
       "np.float64(2.6333333333333333)"
      ]
     },
     "execution_count": 10,
     "metadata": {},
     "output_type": "execute_result"
    }
   ],
   "source": [
    "cost"
   ]
  },
  {
   "cell_type": "code",
   "execution_count": null,
   "id": "52119393",
   "metadata": {},
   "outputs": [],
   "source": []
  }
 ],
 "metadata": {
  "kernelspec": {
   "display_name": "base",
   "language": "python",
   "name": "python3"
  },
  "language_info": {
   "codemirror_mode": {
    "name": "ipython",
    "version": 3
   },
   "file_extension": ".py",
   "mimetype": "text/x-python",
   "name": "python",
   "nbconvert_exporter": "python",
   "pygments_lexer": "ipython3",
   "version": "3.12.8"
  }
 },
 "nbformat": 4,
 "nbformat_minor": 5
}
