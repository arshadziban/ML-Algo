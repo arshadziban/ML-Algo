{
 "cells": [
  {
   "cell_type": "markdown",
   "id": "29526080",
   "metadata": {},
   "source": [
    "# Elastic Net Regression \n",
    "\n",
    "## What is Elastic Net Regression?\n",
    "It's a smart version of Linear Regression that helps you make better predictions when you have lots of features (columns), especially if some features are related to each other.\n",
    "\n",
    "It combines the ideas of Lasso Regression (L1 penalty) and Ridge Regression (L2 penalty).\n",
    "\n",
    "## Combined L1 and L2 Penalties\n",
    "### L1 Penalty (from Lasso):\n",
    "- Helps the model ignore unimportant features by making their coefficients exactly zero (feature selection)\n",
    "\n",
    "### L2 Penalty (from Ridge):\n",
    "- Helps the model avoid big, wild numbers by making the coefficients smaller (but not exactly zero)\n",
    "\n",
    "**Elastic Net = L1 + L2**\n",
    "- Takes the best of both worlds!\n",
    "- Helps when you have many correlated features (when some columns are similar)\n",
    "\n",
    "## Elastic Net Cost Function\n",
    "The formula looks like this:\n",
    "\n",
    "Cost = MSE + α × [λ₁ × (sum of |w|) + λ₂ × (sum of w²)]\n",
    "\n",
    "Where:\n",
    "- MSE: Mean Squared Error (normal regression loss)\n",
    "- L1: sum of absolute values of weights (|w|)\n",
    "- L2: sum of squared weights (w²)\n",
    "- α (alpha): Overall strength of regularization\n",
    "- λ₁ and λ₂: How much you want to weight L1 and L2 (usually in scikit-learn: l1_ratio)\n",
    "\n",
    "## Hyperparameter Tuning\n",
    "Hyperparameters are the settings that you choose before training your model. For Elastic Net, the main ones are:\n",
    "\n",
    "### alpha\n",
    "- How much you want to regularize (penalize large coefficients)\n",
    "- Higher alpha = more regularization\n",
    "\n",
    "### l1_ratio\n",
    "- How much weight to put on L1 (Lasso) versus L2 (Ridge)\n",
    "- l1_ratio = 0 → pure Ridge\n",
    "- l1_ratio = 1 → pure Lasso\n",
    "- Between 0 and 1 → Elastic Net\n",
    "\n",
    "## How to Choose the Best Values?\n",
    "1. Try different combinations of alpha and l1_ratio\n",
    "2. Use cross-validation to test which settings make your model perform best (not overfitting, not underfitting)\n",
    "3. In Python, you can do this easily with scikit-learn's ElasticNetCV\n"
   ]
  },
  {
   "cell_type": "markdown",
   "id": "abe1825a",
   "metadata": {},
   "source": []
  }
 ],
 "metadata": {
  "language_info": {
   "name": "python"
  }
 },
 "nbformat": 4,
 "nbformat_minor": 5
}
