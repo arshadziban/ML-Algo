{
 "cells": [
  {
   "cell_type": "markdown",
   "id": "28ee1678",
   "metadata": {},
   "source": [
    "#  Support Vector Regression (SVR)\n",
    "\n",
    "---\n",
    "\n",
    "##  What is SVR?\n",
    "\n",
    "SVR helps a computer **guess a number** (like price, temperature, etc.) from input.\n",
    "It draws a **line (or curve)** that stays **close to the real answers** and **ignores small mistakes**.\n",
    "\n",
    "---\n",
    "\n",
    "## Example Data\n",
    "\n",
    "| x (input) | y (real answer) |\n",
    "| --------: | --------------: |\n",
    "|         1 |               2 |\n",
    "|         2 |               3 |\n",
    "|         3 |             2.5 |\n",
    "\n",
    "We want the computer to learn how to guess `y` from `x`.\n",
    "\n",
    "---\n",
    "\n",
    "## Step-by-Step\n",
    "\n",
    "---\n",
    "\n",
    "###  Step 1: Use a Line to Guess\n",
    "\n",
    "SVR uses this formula:\n",
    "\n",
    "$$\n",
    "y = wx + b\n",
    "$$\n",
    "\n",
    "Let's say the model finds:\n",
    "\n",
    "* $w = 0.5$, $b = 1.2$\n",
    "\n",
    "Then it makes these guesses:\n",
    "\n",
    "| x | Formula: $0.5x + 1.2$ | Predicted y |\n",
    "| - | --------------------- | ----------- |\n",
    "| 1 | 0.5 × 1 + 1.2         | 1.7         |\n",
    "| 2 | 0.5 × 2 + 1.2         | 2.2         |\n",
    "| 3 | 0.5 × 3 + 1.2         | 2.7         |\n",
    "\n",
    "---\n",
    "\n",
    "###  Step 2: Compare Guess with Real Value\n",
    "\n",
    "```\n",
    "Real Values:     ●(2.0)    ●(3.0)   ●(2.5)\n",
    "                /          |        \\\n",
    "Predicted:    (1.7)      (2.2)     (2.7)\n",
    "Errors:        0.3        0.8       0.2\n",
    "```\n",
    "---\n",
    "\n",
    "###  Step 3: Set SVR Rules\n",
    "\n",
    "* **ε (epsilon) = 0.2** → Small errors (≤ 0.2) are allowed\n",
    "* **C = 1** → Tells the model how much to care about big errors\n",
    "\n",
    "---\n",
    "\n",
    "###  Step 4: Apply ε-insensitive Loss\n",
    "\n",
    "We ignore small errors and only punish errors **greater than ε**:\n",
    "\n",
    "$$\n",
    "\\text{Loss} = \n",
    "\\begin{cases}\n",
    "0 & \\text{if error} \\leq ε \\\\\n",
    "C \\times (\\text{error} - ε) & \\text{if error} > ε\n",
    "\\end{cases}\n",
    "$$\n",
    "\n",
    "Let's calculate for each point:\n",
    "\n",
    "**For x = 1:**\n",
    "- Error = 0.3\n",
    "- Since 0.3 > 0.2, Loss = 1 × (0.3 - 0.2) = 1 × 0.1 = **0.1**\n",
    "\n",
    "**For x = 2:**\n",
    "- Error = 0.8  \n",
    "- Since 0.8 > 0.2, Loss = 1 × (0.8 - 0.2) = 1 × 0.6 = **0.6**\n",
    "\n",
    "**For x = 3:**\n",
    "- Error = 0.2\n",
    "- Since 0.2 ≤ 0.2, Loss = **0**\n",
    "\n",
    "| x | Error | Is Error > ε? | Loss Calculation     | Final Loss |\n",
    "| - | ----- | ------------- | -------------------- | ---------- |\n",
    "| 1 | 0.3   | Yes           | 1 × (0.3 - 0.2) = 0.1 | 0.1        |\n",
    "| 2 | 0.8   | Yes           | 1 × (0.8 - 0.2) = 0.6 | 0.6        |\n",
    "| 3 | 0.2   | No            | 0                    | 0          |\n",
    "\n",
    "**Total Error Loss = 0.1 + 0.6 + 0 = 0.7**\n",
    "\n",
    "---\n",
    "\n",
    "###  Step 5: Add Simplicity Rule (Regularization)\n",
    "\n",
    "We want the model to be **simple** — not too sharp or complicated.\n",
    "So we add a **regularization penalty**:\n",
    "\n",
    "$$\n",
    "\\text{Regularization} = \\frac{1}{2}w^2 = \\frac{1}{2}(0.5)^2 = \\frac{1}{2} \\times 0.25 = 0.125\n",
    "$$\n",
    "\n",
    "---\n",
    "\n",
    "###  Step 6: Final Total Loss\n",
    "\n",
    "$$\n",
    "\\text{Total Loss} = \\text{Total Error Loss} + \\text{Regularization}\n",
    "$$\n",
    "\n",
    "$$\n",
    "\\text{Total Loss} = 0.7 + 0.125 = \\boxed{0.825}\n",
    "$$\n",
    "\n",
    "---\n",
    "\n",
    "##  Why Do We Use `C`?\n",
    "\n",
    "| Value of C        | Meaning                                 |\n",
    "| ----------------- | --------------------------------------- |\n",
    "| Small (e.g., 0.1) | \"Mistakes are okay\" (relaxed model)     |\n",
    "| Large (e.g., 100) | \"Mistakes are bad!\" (very strict model) |\n",
    "\n",
    "→ `C` controls **how strict** the model is when errors go beyond ε.\n",
    "\n",
    "---\n",
    "\n",
    "##  Let's Try Another Example with Different Parameters\n",
    "\n",
    "### Same data, but:\n",
    "- **w = 0.6**, **b = 1.0**\n",
    "- **ε = 0.1**\n",
    "- **C = 2**\n",
    "\n",
    "### Step 1: New Predictions\n",
    "\n",
    "| x | Formula: $0.6x + 1.0$ | Predicted y |\n",
    "| - | --------------------- | ----------- |\n",
    "| 1 | 0.6 × 1 + 1.0         | 1.6         |\n",
    "| 2 | 0.6 × 2 + 1.0         | 2.2         |\n",
    "| 3 | 0.6 × 3 + 1.0         | 2.8         |\n",
    "\n",
    "### Step 2: Calculate Errors\n",
    "\n",
    "| x | Real y | Predicted y | Error |\n",
    "| - | ------ | ----------- | ----- |\n",
    "| 1 | 2.0    | 1.6         | 0.4   |\n",
    "| 2 | 3.0    | 2.2         | 0.8   |\n",
    "| 3 | 2.5    | 2.8         | 0.3   |\n",
    "\n",
    "### Step 3: Apply Loss with ε = 0.1, C = 2\n",
    "\n",
    "**For x = 1:**\n",
    "- Error = 0.4 > 0.1\n",
    "- Loss = 2 × (0.4 - 0.1) = 2 × 0.3 = **0.6**\n",
    "\n",
    "**For x = 2:**\n",
    "- Error = 0.8 > 0.1  \n",
    "- Loss = 2 × (0.8 - 0.1) = 2 × 0.7 = **1.4**\n",
    "\n",
    "**For x = 3:**\n",
    "- Error = 0.3 > 0.1\n",
    "- Loss = 2 × (0.3 - 0.1) = 2 × 0.2 = **0.4**\n",
    "\n",
    "**Total Error Loss = 0.6 + 1.4 + 0.4 = 2.4**\n",
    "\n",
    "### Step 4: Regularization\n",
    "\n",
    "$$\n",
    "\\text{Regularization} = \\frac{1}{2}w^2 = \\frac{1}{2}(0.6)^2 = \\frac{1}{2} \\times 0.36 = 0.18\n",
    "$$\n",
    "\n",
    "### Step 5: Final Total Loss\n",
    "\n",
    "$$\n",
    "\\text{Total Loss} = 2.4 + 0.18 = \\boxed{2.58}\n",
    "$$\n",
    "\n",
    "---\n",
    "\n",
    "## Final Summary Table\n",
    "\n",
    "| Term              | Meaning                                             |\n",
    "| ----------------- | --------------------------------------------------- |\n",
    "| SVR               | A model to guess numbers using a line               |\n",
    "| ε (epsilon)       | The \"no-penalty zone\" — small errors are ignored    |\n",
    "| C                 | Controls how strict the model is about errors       |\n",
    "| Loss              | Penalty for being wrong beyond ε                    |\n",
    "| Regularization    | Helps keep the model simple                         |\n",
    "\n",
    "**Remember:** Lower total loss = better model!"
   ]
  },
  {
   "cell_type": "code",
   "execution_count": 14,
   "id": "8ab3c0d8",
   "metadata": {},
   "outputs": [],
   "source": [
    "import numpy as np"
   ]
  },
  {
   "cell_type": "code",
   "execution_count": 15,
   "id": "d6912e93",
   "metadata": {},
   "outputs": [],
   "source": [
    "# Step 1: Data\n",
    "x = np.array([1, 2, 3])\n",
    "y = np.array([2.0, 3.0, 2.5])"
   ]
  },
  {
   "cell_type": "code",
   "execution_count": 16,
   "id": "7f181136",
   "metadata": {},
   "outputs": [],
   "source": [
    "# Step 2: Model parameters (guessed or pre-trained)\n",
    "w = 0.5\n",
    "b = 1.2"
   ]
  },
  {
   "cell_type": "code",
   "execution_count": 17,
   "id": "f6b2fddf",
   "metadata": {},
   "outputs": [],
   "source": [
    "# Step 3: SVR settings\n",
    "epsilon = 0.2\n",
    "C = 1\n"
   ]
  },
  {
   "cell_type": "code",
   "execution_count": 18,
   "id": "0042fb4f",
   "metadata": {},
   "outputs": [],
   "source": [
    "# Step 4: Predict y using the line y = w*x + b\n",
    "y_pred = w * x + b"
   ]
  },
  {
   "cell_type": "code",
   "execution_count": 19,
   "id": "2deeff74",
   "metadata": {},
   "outputs": [],
   "source": [
    "# Step 5: Compute absolute errors\n",
    "errors = np.abs(y - y_pred)"
   ]
  },
  {
   "cell_type": "code",
   "execution_count": 20,
   "id": "6dd074a2",
   "metadata": {},
   "outputs": [],
   "source": [
    "# Step 6: Apply epsilon-insensitive loss\n",
    "losses = []\n",
    "for err in errors:\n",
    "    if err <= epsilon:\n",
    "        losses.append(0)\n",
    "    else:\n",
    "        losses.append(C * (err - epsilon))"
   ]
  },
  {
   "cell_type": "code",
   "execution_count": 21,
   "id": "d2d73d62",
   "metadata": {},
   "outputs": [],
   "source": [
    "# Step 7: Regularization term (keep w small)\n",
    "regularization = 0.5 * (w ** 2)"
   ]
  },
  {
   "cell_type": "code",
   "execution_count": 22,
   "id": "49b5de48",
   "metadata": {},
   "outputs": [
    {
     "data": {
      "text/plain": [
       "0.125"
      ]
     },
     "execution_count": 22,
     "metadata": {},
     "output_type": "execute_result"
    }
   ],
   "source": [
    "regularization"
   ]
  },
  {
   "cell_type": "code",
   "execution_count": 23,
   "id": "b916e421",
   "metadata": {},
   "outputs": [],
   "source": [
    "# Step 8: Total loss\n",
    "total_loss = sum(losses) + regularization"
   ]
  },
  {
   "cell_type": "code",
   "execution_count": 24,
   "id": "fdccc548",
   "metadata": {},
   "outputs": [
    {
     "data": {
      "text/plain": [
       "np.float64(0.8250000000000002)"
      ]
     },
     "execution_count": 24,
     "metadata": {},
     "output_type": "execute_result"
    }
   ],
   "source": [
    "total_loss"
   ]
  },
  {
   "cell_type": "code",
   "execution_count": 25,
   "id": "dac33de7",
   "metadata": {},
   "outputs": [],
   "source": [
    "import matplotlib.pyplot as plt"
   ]
  },
  {
   "cell_type": "code",
   "execution_count": 26,
   "id": "c9a4a5a8",
   "metadata": {},
   "outputs": [
    {
     "data": {
      "image/png": "[encoded data removed]",
      "text/plain": [
       "<Figure size 800x500 with 1 Axes>"
      ]
     },
     "metadata": {},
     "output_type": "display_data"
    }
   ],
   "source": [
    "#Plot\n",
    "x_line = np.linspace(0.5, 3.5, 100)\n",
    "y_line = w * x_line + b\n",
    "\n",
    "plt.figure(figsize=(8, 5))\n",
    "plt.scatter(x, y, color='red', label='Actual Data')\n",
    "plt.plot(x_line, y_line, color='blue', label='Prediction Line: y = 0.5x + 1.2')\n",
    "\n",
    "# Optional: Plot epsilon bands\n",
    "plt.plot(x_line, y_line + epsilon, color='blue', linestyle='--', linewidth=0.8, label='ε = 0.2 Band')\n",
    "plt.plot(x_line, y_line - epsilon, color='blue', linestyle='--', linewidth=0.8)\n",
    "\n",
    "plt.title(\"SVR Prediction from Scratch (No Libraries)\")\n",
    "plt.xlabel(\"x\")\n",
    "plt.ylabel(\"y\")\n",
    "plt.grid(True)\n",
    "plt.legend()\n",
    "plt.ylim(0, 4)\n",
    "plt.xlim(0.5, 3.5)\n",
    "plt.show()"
   ]
  },
  {
   "cell_type": "code",
   "execution_count": null,
   "id": "4d5278e1",
   "metadata": {},
   "outputs": [],
   "source": []
  },
  {
   "cell_type": "code",
   "execution_count": null,
   "id": "f1571e80",
   "metadata": {},
   "outputs": [],
   "source": []
  }
 ],
 "metadata": {
  "kernelspec": {
   "display_name": "env",
   "language": "python",
   "name": "python3"
  },
  "language_info": {
   "codemirror_mode": {
    "name": "ipython",
    "version": 3
   },
   "file_extension": ".py",
   "mimetype": "text/x-python",
   "name": "python",
   "nbconvert_exporter": "python",
   "pygments_lexer": "ipython3",
   "version": "3.11.0"
  }
 },
 "nbformat": 4,
 "nbformat_minor": 5
}
