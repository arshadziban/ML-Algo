{
 "cells": [
  {
   "cell_type": "markdown",
   "id": "758cb10a",
   "metadata": {},
   "source": [
    "## What is a Decision Tree?\n",
    "\n",
    "A **decision tree** is a method used in machine learning to make predictions.\n",
    "It works like a **series of yes/no questions** that split the data into smaller and smaller groups, until you reach an answer (a prediction).\n",
    "\n",
    "* For **regression**, the answer is a **number** (like a price, temperature, or score).\n",
    "* For **classification**, the answer is a **category** (like \"yes/no\", \"apple/orange\").\n",
    "\n",
    "It’s called a “tree” because the splits and branches look like an upside-down tree!\n",
    "\n",
    "---\n",
    "\n",
    "## Why Do We Use Decision Trees?\n",
    "\n",
    "1. **Easy to Understand**\n",
    "\n",
    "   * The “if this, then that” logic is simple and visual—humans can read and follow it.\n",
    "2. **Works for Numbers and Categories**\n",
    "\n",
    "   * Can handle both regression (numbers) and classification (labels).\n",
    "3. **No Need for Complex Data Preparation**\n",
    "\n",
    "   * Handles missing data and different types of features well.\n",
    "4. **Flexible and Powerful**\n",
    "\n",
    "   * Can model complex, non-linear relationships.\n",
    "\n",
    "---\n",
    "\n",
    "## In short:\n",
    "\n",
    "* **A decision tree splits your data using simple questions until it’s easy to make a prediction.**\n",
    "* **We use it because it’s simple, clear, and works for many different types of problems.**\n",
    "\n",
    "---\n"
   ]
  },
  {
   "cell_type": "markdown",
   "id": "539a5d9a",
   "metadata": {},
   "source": [
    "## Step-by-Step: Decision Tree Regression (With Tiny Data)\n",
    "\n",
    "Suppose you have:\n",
    "\n",
    "| x | y |\n",
    "| - | - |\n",
    "| 1 | 2 |\n",
    "| 3 | 4 |\n",
    "| 5 | 6 |\n",
    "\n",
    "---\n",
    "\n",
    "### **List all possible splits**\n",
    "\n",
    "You can only split between values of x.\n",
    "Possible split points are **x = 2** and **x = 4**.\n",
    "\n",
    "---\n",
    "\n",
    "### **Try the first split: x = 2**\n",
    "\n",
    "* **Left group:** x ≤ 2 → (1, 2)\n",
    "* **Right group:** x > 2 → (3, 4), (5, 6)\n",
    "\n",
    "**Group Averages:**\n",
    "\n",
    "* Left: (2) / 1 = **2** (only one point)\n",
    "* Right: (4 + 6) / 2 = **5**\n",
    "\n",
    "**Prediction for each group:**\n",
    "\n",
    "* Left: predict 2\n",
    "* Right: predict 5\n",
    "\n",
    "**Calculate errors (use squared error):**\n",
    "\n",
    "| x | y | Prediction | Error (y - prediction) | Error² |\n",
    "| - | - | ---------- | ---------------------- | ------ |\n",
    "| 1 | 2 | 2          | 0                      | 0      |\n",
    "| 3 | 4 | 5          | -1                     | 1      |\n",
    "| 5 | 6 | 5          | 1                      | 1      |\n",
    "\n",
    "**Total error for this split:** 0 + 1 + 1 = **2**\n",
    "\n",
    "---\n",
    "\n",
    "### **Try the second split: x = 4**\n",
    "\n",
    "* **Left group:** x ≤ 4 → (1, 2), (3, 4)\n",
    "* **Right group:** x > 4 → (5, 6)\n",
    "\n",
    "**Group Averages:**\n",
    "\n",
    "* Left: (2 + 4) / 2 = **3**\n",
    "* Right: (6) / 1 = **6** (only one point)\n",
    "\n",
    "**Prediction for each group:**\n",
    "\n",
    "* Left: predict 3\n",
    "* Right: predict 6\n",
    "\n",
    "**Calculate errors (use squared error):**\n",
    "\n",
    "| x | y | Prediction | Error (y - prediction) | Error² |\n",
    "| - | - | ---------- | ---------------------- | ------ |\n",
    "| 1 | 2 | 3          | -1                     | 1      |\n",
    "| 3 | 4 | 3          | 1                      | 1      |\n",
    "| 5 | 6 | 6          | 0                      | 0      |\n",
    "\n",
    "**Total error for this split:** 1 + 1 + 0 = **2**\n",
    "\n",
    "---\n",
    "\n",
    "### **Choose the best split**\n",
    "\n",
    "Both splits (x = 2 and x = 4) have **the same total error (2)**.\n",
    "You can pick either, or use a rule (like always pick the first, or try further splits).\n",
    "\n",
    "---\n",
    "\n",
    "### **Assign predictions for new data**\n",
    "\n",
    "Suppose you pick **split at x = 2**:\n",
    "\n",
    "* For x = 1: Is 1 ≤ 2? Yes → **predict 2**\n",
    "* For x = 3: Is 3 ≤ 2? No → **predict 5**\n",
    "* For x = 5: Is 5 ≤ 2? No → **predict 5**\n",
    "\n",
    "---\n",
    "\n",
    "## **Summary Table**\n",
    "\n",
    "| Step            | What happens?                                                      |\n",
    "| --------------- | ------------------------------------------------------------------ |\n",
    "| List splits     | Try all splits between values (here, x = 2 and x = 4)              |\n",
    "| Make groups     | For each split, separate data into left/right groups               |\n",
    "| Group average   | For each group, calculate the average y (prediction)               |\n",
    "| Calculate error | For each point, squared difference from group prediction           |\n",
    "| Choose split    | Pick the split with the lowest total error                         |\n",
    "| Predict         | Use the group average for new x values (follow the split question) |\n",
    "\n",
    "---"
   ]
  },
  {
   "cell_type": "markdown",
   "id": "ec9177a2",
   "metadata": {},
   "source": [
    "# Example"
   ]
  },
  {
   "cell_type": "code",
   "execution_count": 1,
   "id": "dabc1ce2",
   "metadata": {},
   "outputs": [],
   "source": [
    "import numpy as np"
   ]
  },
  {
   "cell_type": "code",
   "execution_count": 2,
   "id": "301e3778",
   "metadata": {},
   "outputs": [],
   "source": [
    "# data\n",
    "x = np.array([1, 3, 5])\n",
    "y = np.array([2, 4, 6])"
   ]
  },
  {
   "cell_type": "code",
   "execution_count": 3,
   "id": "ba52fdec",
   "metadata": {},
   "outputs": [],
   "source": [
    "# step 1: try possible splits (between each pair of x)\n",
    "split_points = [(x[i] + x[i+1])/2 for i in range(len(x)-1)]\n",
    "best_split = None\n",
    "best_error = float('inf')\n"
   ]
  },
  {
   "cell_type": "code",
   "execution_count": 4,
   "id": "b69e6dbf",
   "metadata": {},
   "outputs": [
    {
     "data": {
      "text/plain": [
       "[np.float64(2.0), np.float64(4.0)]"
      ]
     },
     "execution_count": 4,
     "metadata": {},
     "output_type": "execute_result"
    }
   ],
   "source": [
    "split_points"
   ]
  },
  {
   "cell_type": "code",
   "execution_count": 5,
   "id": "682954c8",
   "metadata": {},
   "outputs": [
    {
     "name": "stdout",
     "output_type": "stream",
     "text": [
      "Split at 2.0: left mean=2.0, right mean=5.0, total error=2.00\n",
      "Split at 4.0: left mean=3.0, right mean=6.0, total error=2.00\n",
      "\n",
      "Best split at: 2.0\n",
      "Left mean prediction: 2.0\n",
      "Right mean prediction: 5.0\n"
     ]
    }
   ],
   "source": [
    "for split in split_points:\n",
    "    left_mask = x <= split\n",
    "    right_mask = x > split\n",
    "    \n",
    "    if np.sum(left_mask) == 0 or np.sum(right_mask) == 0:\n",
    "        continue  # skip if a group would be empty\n",
    "    \n",
    "    left_mean = y[left_mask].mean()\n",
    "    right_mean = y[right_mask].mean()\n",
    "    \n",
    "    # assign predictions based on which group each point falls into\n",
    "    preds = np.where(left_mask, left_mean, right_mean)\n",
    "    errors = (y - preds) ** 2\n",
    "    total_error = errors.sum()\n",
    "    \n",
    "    print(f\"Split at {split:.1f}: left mean={left_mean:.1f}, right mean={right_mean:.1f}, total error={total_error:.2f}\")\n",
    "    \n",
    "    if total_error < best_error:\n",
    "        best_error = total_error\n",
    "        best_split = split\n",
    "        best_left_mean = left_mean\n",
    "        best_right_mean = right_mean\n",
    "\n",
    "print(\"\\nBest split at:\", best_split)\n",
    "print(\"Left mean prediction:\", best_left_mean)\n",
    "print(\"Right mean prediction:\", best_right_mean)\n"
   ]
  },
  {
   "cell_type": "code",
   "execution_count": 6,
   "id": "e84f1b6f",
   "metadata": {},
   "outputs": [
    {
     "name": "stdout",
     "output_type": "stream",
     "text": [
      "x=1 => predicted y=2.0\n",
      "x=2 => predicted y=2.0\n",
      "x=3 => predicted y=5.0\n",
      "x=4 => predicted y=5.0\n",
      "x=5 => predicted y=5.0\n"
     ]
    }
   ],
   "source": [
    "# prediction function\n",
    "def predict(val):\n",
    "    if val <= best_split:\n",
    "        return best_left_mean\n",
    "    else:\n",
    "        return best_right_mean\n",
    "\n",
    "# test predictions\n",
    "for test_x in [1, 2, 3, 4, 5]:\n",
    "    print(f\"x={test_x} => predicted y={predict(test_x):.1f}\")"
   ]
  },
  {
   "cell_type": "code",
   "execution_count": null,
   "id": "397f2d3b",
   "metadata": {},
   "outputs": [],
   "source": []
  }
 ],
 "metadata": {
  "kernelspec": {
   "display_name": "env",
   "language": "python",
   "name": "python3"
  },
  "language_info": {
   "codemirror_mode": {
    "name": "ipython",
    "version": 3
   },
   "file_extension": ".py",
   "mimetype": "text/x-python",
   "name": "python",
   "nbconvert_exporter": "python",
   "pygments_lexer": "ipython3",
   "version": "3.11.0"
  }
 },
 "nbformat": 4,
 "nbformat_minor": 5
}
