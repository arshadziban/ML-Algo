{
 "cells": [
  {
   "cell_type": "markdown",
   "id": "13e482d9",
   "metadata": {},
   "source": [
    "## What is Bayesian Regression? (Simple Definition)\n",
    "\n",
    "Bayesian Regression is a way to make predictions by starting with a guess (called a **prior**), then looking at real data, and updating that guess to make a better one (called a **posterior**).\n",
    "\n",
    "It uses **Bayes’ Theorem**, a rule that helps combine your old belief and new evidence to get a smarter answer.\n",
    "\n",
    "---\n",
    "\n",
    "## Why Use Bayesian Regression?\n",
    "\n",
    "| Reason                        | Explanation                                                                              |\n",
    "| ----------------------------- | ---------------------------------------------------------------------------------------- |\n",
    "| Starts with your own idea     | You can begin with your own guess or expert knowledge before seeing new data.            |\n",
    "| Works with small data         | Useful when you don’t have much data to train a model.                                   |\n",
    "| Learns and improves over time | As more data comes in, the model gets better.                                            |\n",
    "| Tells you how confident it is | Instead of just saying \"the answer is 5\", it says \"I'm 80% sure the answer is around 5\". |\n",
    "| Helps in important decisions  | Great for cases where being careful is important, like health, money, or safety.         |\n",
    "\n",
    "---\n",
    "\n",
    "## When to Use Bayesian Regression\n",
    "\n",
    "| Situation                          | Why Bayesian is Good                                                |\n",
    "| ---------------------------------- | ------------------------------------------------------------------- |\n",
    "| You have limited data              | It can make good guesses even with a few examples.                  |\n",
    "| You want to include expert opinion | You can start with what an expert says and update it with new data. |\n",
    "| You care about uncertainty         | It shows how sure or unsure it is about the answer.                 |\n",
    "| You keep getting new data          | You can update your model without training from scratch.            |\n",
    "| You are working in risky areas     | It’s safer when you need reliable and careful predictions.          |\n",
    "\n",
    "---\n",
    "\n",
    "## Real-Life Examples\n",
    "\n",
    "| Field     | Use Case                                                                                  |\n",
    "| --------- | ----------------------------------------------------------------------------------------- |\n",
    "| Weather   | You believe it rains often in July, but check past 7 days to improve your guess.          |\n",
    "| Education | A teacher guesses a student is average, but updates that belief after seeing test scores. |\n",
    "| Medicine  | A doctor starts with a guess about a disease, then updates it after test results.         |\n",
    "| Finance   | An investor guesses a stock will go up but adjusts based on market trends.                |\n",
    "\n",
    "---\n"
   ]
  },
  {
   "cell_type": "markdown",
   "id": "26a0a0c0",
   "metadata": {},
   "source": [
    "## Mathematical Example – Step by Step\n",
    "\n",
    "---\n",
    "\n",
    "### Step 1: Prior Belief\n",
    "\n",
    "We **believe** the slope of the line is:\n",
    "\n",
    "$$\n",
    "\\text{Prior: } m = 1.0\n",
    "$$\n",
    "\n",
    "That means our starting model is:\n",
    "\n",
    "$$\n",
    "y = 1.0 \\cdot x\n",
    "$$\n",
    "\n",
    "---\n",
    "\n",
    "### Step 2: Observed Data\n",
    "\n",
    "We are given three data points:\n",
    "\n",
    "| x | y   |\n",
    "| - | --- |\n",
    "| 1 | 2.1 |\n",
    "| 2 | 3.9 |\n",
    "| 3 | 6.2 |\n",
    "\n",
    "This data looks close to a line with slope around 2.\n",
    "\n",
    "---\n",
    "\n",
    "### Step 3: Update Belief Using Data (Posterior)\n",
    "\n",
    "We estimate the new slope using this simplified formula (similar to ordinary least squares, acting as the **posterior mean** in Bayesian linear regression with uniform priors):\n",
    "\n",
    "$$\n",
    "m = \\frac{\\sum (x_i \\cdot y_i)}{\\sum (x_i^2)}\n",
    "$$\n",
    "\n",
    "Let’s compute each part:\n",
    "\n",
    "#### Compute $\\sum x_i y_i$\n",
    "\n",
    "$$\n",
    "\\sum x_i y_i = (1 \\cdot 2.1) + (2 \\cdot 3.9) + (3 \\cdot 6.2)\n",
    "= 2.1 + 7.8 + 18.6 = 28.5\n",
    "$$\n",
    "\n",
    "#### Compute $\\sum x_i^2$\n",
    "\n",
    "$$\n",
    "\\sum x_i^2 = 1^2 + 2^2 + 3^2 = 1 + 4 + 9 = 14\n",
    "$$\n",
    "\n",
    "#### Calculate Posterior Slope\n",
    "\n",
    "$$\n",
    "m = \\frac{28.5}{14} = 2.04\n",
    "$$\n",
    "\n",
    "---\n",
    "\n",
    "### Step 4: Final Model\n",
    "\n",
    "Now our updated belief (posterior) is:\n",
    "\n",
    "$$\n",
    "y = 2.04 \\cdot x\n",
    "$$\n",
    "\n",
    "This new line fits the data better than our original guess (which was $y = 1.0 \\cdot x$).\n",
    "\n",
    "---\n",
    "\n",
    "### Step 5: Prediction\n",
    "\n",
    "Let’s use our final model to predict new values.\n",
    "\n",
    "#### Predict when $x = 4$:\n",
    "\n",
    "$$\n",
    "y = 2.04 \\cdot 4 = 8.16\n",
    "$$\n",
    "\n",
    "#### Predict when $x = 5$:\n",
    "\n",
    "$$\n",
    "y = 2.04 \\cdot 5 = 10.20\n",
    "$$\n",
    "\n",
    "---\n",
    "\n",
    "### Final Summary\n",
    "\n",
    "| Step                   | Result                         |\n",
    "| ---------------------- | ------------------------------ |\n",
    "| Prior slope            | $m = 1.0$                      |\n",
    "| Observed Data          | $(1, 2.1), (2, 3.9), (3, 6.2)$ |\n",
    "| Posterior slope        | $m = 2.04$                     |\n",
    "| Final model            | $y = 2.04 \\cdot x$             |\n",
    "| Prediction for $x = 4$ | $y = 8.16$                     |\n",
    "| Prediction for $x = 5$ | $y = 10.20$                    |\n",
    "\n"
   ]
  },
  {
   "cell_type": "code",
   "execution_count": 1,
   "id": "866656fa",
   "metadata": {},
   "outputs": [],
   "source": [
    "import numpy as np"
   ]
  },
  {
   "cell_type": "code",
   "execution_count": 2,
   "id": "c44a2e0b",
   "metadata": {},
   "outputs": [],
   "source": [
    "prior_slope = 1.0"
   ]
  },
  {
   "cell_type": "code",
   "execution_count": 3,
   "id": "67cf1bc5",
   "metadata": {},
   "outputs": [],
   "source": [
    "# observed data (x and y)\n",
    "x = np.array([1, 2, 3])\n",
    "y = np.array([2.1, 3.9, 6.2])"
   ]
  },
  {
   "cell_type": "code",
   "execution_count": 4,
   "id": "0c12d484",
   "metadata": {},
   "outputs": [],
   "source": [
    "xy = x * y\n",
    "x_squared = x ** 2"
   ]
  },
  {
   "cell_type": "code",
   "execution_count": 5,
   "id": "9b51dfe6",
   "metadata": {},
   "outputs": [],
   "source": [
    "numerator = np.sum(xy)\n",
    "denominator = np.sum(x_squared)\n",
    "posterior_slope = numerator / denominator"
   ]
  },
  {
   "cell_type": "code",
   "execution_count": 6,
   "id": "ca8fd721",
   "metadata": {},
   "outputs": [
    {
     "data": {
      "text/plain": [
       "np.float64(2.0357142857142856)"
      ]
     },
     "execution_count": 6,
     "metadata": {},
     "output_type": "execute_result"
    }
   ],
   "source": [
    "posterior_slope"
   ]
  },
  {
   "cell_type": "code",
   "execution_count": 7,
   "id": "9b356c55",
   "metadata": {},
   "outputs": [],
   "source": [
    "x_new = np.array([4, 5])\n",
    "y_pred = posterior_slope * x_new"
   ]
  },
  {
   "cell_type": "code",
   "execution_count": 8,
   "id": "1e815d93",
   "metadata": {},
   "outputs": [
    {
     "name": "stdout",
     "output_type": "stream",
     "text": [
      "Prediction: x = 4 --> y = 8.14\n",
      "Prediction: x = 5 --> y = 10.18\n"
     ]
    }
   ],
   "source": [
    "for i in range(len(x_new)):\n",
    "    print(f\"Prediction: x = {x_new[i]} --> y = {round(y_pred[i], 2)}\")"
   ]
  }
 ],
 "metadata": {
  "kernelspec": {
   "display_name": "env",
   "language": "python",
   "name": "python3"
  },
  "language_info": {
   "codemirror_mode": {
    "name": "ipython",
    "version": 3
   },
   "file_extension": ".py",
   "mimetype": "text/x-python",
   "name": "python",
   "nbconvert_exporter": "python",
   "pygments_lexer": "ipython3",
   "version": "3.11.0"
  }
 },
 "nbformat": 4,
 "nbformat_minor": 5
}
