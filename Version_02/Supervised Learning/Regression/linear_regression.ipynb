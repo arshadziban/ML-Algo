{
 "cells": [
  {
   "cell_type": "markdown",
   "id": "c8c282ef",
   "metadata": {},
   "source": [
    "Linear Regression is one of the most fundamental and widely used algorithms in supervised machine learning and statistics. It models the relationship between an independent variable (x) and a dependent variable (y) by fitting a straight line (called the regression line) to the data."
   ]
  },
  {
   "cell_type": "code",
   "execution_count": 2,
   "id": "4ed97c64",
   "metadata": {},
   "outputs": [],
   "source": [
    "# Sample dataset\n",
    "x = [1, 2, 3]\n",
    "y = [2, 3, 5]"
   ]
  },
  {
   "cell_type": "code",
   "execution_count": 3,
   "id": "f812c127",
   "metadata": {},
   "outputs": [],
   "source": [
    "# Step 1: Calculate means\n",
    "x_mean = sum(x) / len(x)\n",
    "y_mean = sum(y) / len(y)"
   ]
  },
  {
   "cell_type": "code",
   "execution_count": 4,
   "id": "babb6d23",
   "metadata": {},
   "outputs": [
    {
     "data": {
      "text/plain": [
       "(2.0, 3.3333333333333335)"
      ]
     },
     "execution_count": 4,
     "metadata": {},
     "output_type": "execute_result"
    }
   ],
   "source": [
    "x_mean, y_mean"
   ]
  },
  {
   "cell_type": "code",
   "execution_count": 5,
   "id": "ddc00460",
   "metadata": {},
   "outputs": [],
   "source": [
    "# Step 2: Calculate the slope (w)\n",
    "numerator = sum((xi - x_mean) * (yi - y_mean) for xi, yi in zip(x, y))\n",
    "denominator = sum((xi - x_mean) ** 2 for xi in x)\n",
    "w = numerator / denominator"
   ]
  },
  {
   "cell_type": "code",
   "execution_count": 6,
   "id": "1f0a6991",
   "metadata": {},
   "outputs": [
    {
     "data": {
      "text/plain": [
       "1.5"
      ]
     },
     "execution_count": 6,
     "metadata": {},
     "output_type": "execute_result"
    }
   ],
   "source": [
    "w"
   ]
  },
  {
   "cell_type": "code",
   "execution_count": 7,
   "id": "4b132379",
   "metadata": {},
   "outputs": [],
   "source": [
    "# Step 3: Calculate the intercept (b)\n",
    "b = y_mean - w * x_mean"
   ]
  },
  {
   "cell_type": "code",
   "execution_count": 8,
   "id": "dafbb980",
   "metadata": {},
   "outputs": [],
   "source": [
    "# Step 4: Define the prediction function\n",
    "def predict(x_val):\n",
    "    return w * x_val + b"
   ]
  },
  {
   "cell_type": "code",
   "execution_count": 9,
   "id": "67118737",
   "metadata": {},
   "outputs": [
    {
     "name": "stdout",
     "output_type": "stream",
     "text": [
      "Regression Line: ŷ = 1.50x + 0.33\n"
     ]
    }
   ],
   "source": [
    "# Output the equation of the line\n",
    "print(f\"Regression Line: ŷ = {w:.2f}x + {b:.2f}\")"
   ]
  },
  {
   "cell_type": "code",
   "execution_count": 10,
   "id": "30ebcfd8",
   "metadata": {},
   "outputs": [
    {
     "name": "stdout",
     "output_type": "stream",
     "text": [
      "Prediction for x = 4: ŷ = 6.33\n"
     ]
    }
   ],
   "source": [
    "# Step 5: Make a prediction for x = 4\n",
    "x_test = 4\n",
    "y_pred = predict(x_test)\n",
    "print(f\"Prediction for x = {x_test}: ŷ = {y_pred:.2f}\")"
   ]
  },
  {
   "cell_type": "markdown",
   "id": "919c5a3d",
   "metadata": {},
   "source": [
    " # Manual Least Squares Implementation"
   ]
  },
  {
   "cell_type": "code",
   "execution_count": 11,
   "id": "3ca6ce3a",
   "metadata": {},
   "outputs": [],
   "source": [
    "# Number of data points\n",
    "n = len(x)"
   ]
  },
  {
   "cell_type": "code",
   "execution_count": 12,
   "id": "157321bc",
   "metadata": {},
   "outputs": [
    {
     "data": {
      "text/plain": [
       "3"
      ]
     },
     "execution_count": 12,
     "metadata": {},
     "output_type": "execute_result"
    }
   ],
   "source": [
    "n"
   ]
  },
  {
   "cell_type": "code",
   "execution_count": 13,
   "id": "db84028e",
   "metadata": {},
   "outputs": [],
   "source": [
    "# Compute sums\n",
    "sum_x = sum(x)\n",
    "sum_y = sum(y)\n",
    "sum_xy = sum(x[i] * y[i] for i in range(n))\n",
    "sum_x_squared = sum(x[i] ** 2 for i in range(n))"
   ]
  },
  {
   "cell_type": "code",
   "execution_count": 14,
   "id": "aa28e7f3",
   "metadata": {},
   "outputs": [
    {
     "data": {
      "text/plain": [
       "(6, 10, 23, 14)"
      ]
     },
     "execution_count": 14,
     "metadata": {},
     "output_type": "execute_result"
    }
   ],
   "source": [
    "sum_x, sum_y, sum_xy, sum_x_squared"
   ]
  },
  {
   "cell_type": "code",
   "execution_count": 15,
   "id": "82121f20",
   "metadata": {},
   "outputs": [],
   "source": [
    "# Calculate weight (w) and bias (b)\n",
    "w = (n * sum_xy - sum_x * sum_y) / (n * sum_x_squared - sum_x ** 2)\n",
    "b = (sum_y - w * sum_x) / n"
   ]
  },
  {
   "cell_type": "code",
   "execution_count": 16,
   "id": "0b621450",
   "metadata": {},
   "outputs": [],
   "source": [
    "x_value = 4\n",
    "y_pred = w * x_value + b"
   ]
  },
  {
   "cell_type": "code",
   "execution_count": 17,
   "id": "ac0c1064",
   "metadata": {},
   "outputs": [
    {
     "data": {
      "text/plain": [
       "6.333333333333333"
      ]
     },
     "execution_count": 17,
     "metadata": {},
     "output_type": "execute_result"
    }
   ],
   "source": [
    "y_pred"
   ]
  }
 ],
 "metadata": {
  "kernelspec": {
   "display_name": "base",
   "language": "python",
   "name": "python3"
  },
  "language_info": {
   "codemirror_mode": {
    "name": "ipython",
    "version": 3
   },
   "file_extension": ".py",
   "mimetype": "text/x-python",
   "name": "python",
   "nbconvert_exporter": "python",
   "pygments_lexer": "ipython3",
   "version": "3.12.8"
  }
 },
 "nbformat": 4,
 "nbformat_minor": 5
}
