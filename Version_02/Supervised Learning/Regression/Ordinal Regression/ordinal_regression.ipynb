{
 "cells": [
  {
   "cell_type": "markdown",
   "id": "070f2f0b",
   "metadata": {},
   "source": [
    "**Ordinal regression** is a statistical technique used to predict an outcome that can be sorted in a natural order, such as “low,” “medium,” and “high.” The method is helpful when the results are categories that have a clear ranking, but the exact distance between each category is not known. For example, ordinal regression can predict if someone’s satisfaction is “dissatisfied,” “neutral,” or “satisfied” based on other information.\n"
   ]
  },
  {
   "cell_type": "markdown",
   "id": "e51bcc62",
   "metadata": {},
   "source": [
    "**Ordinal regression is used when**:\n",
    "\n",
    "* The outcome or target you want to predict is made up of categories that have a natural order, but are **not numbers**.\n",
    "* The categories are ranked, such as “bad,” “average,” and “good,” or “low,” “medium,” and “high.”\n",
    "* You want to predict which ordered group or level something belongs to, based on other features or information.\n",
    "\n",
    "**Examples of when to use ordinal regression:**\n",
    "\n",
    "* Predicting satisfaction levels: “unsatisfied,” “neutral,” or “satisfied.”\n",
    "* Predicting customer ratings: 1 star, 2 stars, 3 stars, etc.\n",
    "* Predicting a student’s grade: A, B, C, D, or F.\n",
    "* Predicting pain levels: “none,” “mild,” “moderate,” “severe.”"
   ]
  },
  {
   "cell_type": "code",
   "execution_count": 11,
   "id": "b39625a0",
   "metadata": {},
   "outputs": [],
   "source": [
    "import pandas as pd"
   ]
  },
  {
   "cell_type": "code",
   "execution_count": 12,
   "id": "84617fbf",
   "metadata": {},
   "outputs": [],
   "source": [
    "data = {\n",
    "    'study_hours': [2, 4, 5, 7],\n",
    "    'satisfaction': [1, 2, 3, 4]  # 1: Poor, 2: Average, 3: Good, 4: Excellent\n",
    "}"
   ]
  },
  {
   "cell_type": "code",
   "execution_count": 13,
   "id": "37472b94",
   "metadata": {},
   "outputs": [],
   "source": [
    "df = pd.DataFrame(data)"
   ]
  },
  {
   "cell_type": "code",
   "execution_count": 14,
   "id": "5f944953",
   "metadata": {},
   "outputs": [
    {
     "data": {
      "text/html": [
       "<div>\n",
       "<style scoped>\n",
       "    .dataframe tbody tr th:only-of-type {\n",
       "        vertical-align: middle;\n",
       "    }\n",
       "\n",
       "    .dataframe tbody tr th {\n",
       "        vertical-align: top;\n",
       "    }\n",
       "\n",
       "    .dataframe thead th {\n",
       "        text-align: right;\n",
       "    }\n",
       "</style>\n",
       "<table border=\"1\" class=\"dataframe\">\n",
       "  <thead>\n",
       "    <tr style=\"text-align: right;\">\n",
       "      <th></th>\n",
       "      <th>study_hours</th>\n",
       "      <th>satisfaction</th>\n",
       "    </tr>\n",
       "  </thead>\n",
       "  <tbody>\n",
       "    <tr>\n",
       "      <th>0</th>\n",
       "      <td>2</td>\n",
       "      <td>1</td>\n",
       "    </tr>\n",
       "    <tr>\n",
       "      <th>1</th>\n",
       "      <td>4</td>\n",
       "      <td>2</td>\n",
       "    </tr>\n",
       "    <tr>\n",
       "      <th>2</th>\n",
       "      <td>5</td>\n",
       "      <td>3</td>\n",
       "    </tr>\n",
       "    <tr>\n",
       "      <th>3</th>\n",
       "      <td>7</td>\n",
       "      <td>4</td>\n",
       "    </tr>\n",
       "  </tbody>\n",
       "</table>\n",
       "</div>"
      ],
      "text/plain": [
       "   study_hours  satisfaction\n",
       "0            2             1\n",
       "1            4             2\n",
       "2            5             3\n",
       "3            7             4"
      ]
     },
     "execution_count": 14,
     "metadata": {},
     "output_type": "execute_result"
    }
   ],
   "source": [
    "df"
   ]
  },
  {
   "cell_type": "code",
   "execution_count": 15,
   "id": "df4e0eed",
   "metadata": {},
   "outputs": [],
   "source": [
    "from statsmodels.miscmodels.ordinal_model import OrderedModel"
   ]
  },
  {
   "cell_type": "code",
   "execution_count": 16,
   "id": "6120fdfa",
   "metadata": {},
   "outputs": [],
   "source": [
    "model = OrderedModel(\n",
    "    df['satisfaction'],         \n",
    "    df[['study_hours']],        \n",
    "    distr='logit'               \n",
    ")\n",
    "result = model.fit(method='bfgs', disp=False)"
   ]
  },
  {
   "cell_type": "code",
   "execution_count": 17,
   "id": "360ef32b",
   "metadata": {},
   "outputs": [],
   "source": [
    "new_data = pd.DataFrame({'study_hours': [5]})\n",
    "probs = result.predict(new_data)"
   ]
  },
  {
   "cell_type": "code",
   "execution_count": 18,
   "id": "43fba0a7",
   "metadata": {},
   "outputs": [
    {
     "data": {
      "text/html": [
       "<div>\n",
       "<style scoped>\n",
       "    .dataframe tbody tr th:only-of-type {\n",
       "        vertical-align: middle;\n",
       "    }\n",
       "\n",
       "    .dataframe tbody tr th {\n",
       "        vertical-align: top;\n",
       "    }\n",
       "\n",
       "    .dataframe thead th {\n",
       "        text-align: right;\n",
       "    }\n",
       "</style>\n",
       "<table border=\"1\" class=\"dataframe\">\n",
       "  <thead>\n",
       "    <tr style=\"text-align: right;\">\n",
       "      <th></th>\n",
       "      <th>0</th>\n",
       "      <th>1</th>\n",
       "      <th>2</th>\n",
       "      <th>3</th>\n",
       "    </tr>\n",
       "  </thead>\n",
       "  <tbody>\n",
       "    <tr>\n",
       "      <th>0</th>\n",
       "      <td>1.888738e-26</td>\n",
       "      <td>3.963454e-07</td>\n",
       "      <td>1.0</td>\n",
       "      <td>0.0</td>\n",
       "    </tr>\n",
       "  </tbody>\n",
       "</table>\n",
       "</div>"
      ],
      "text/plain": [
       "              0             1    2    3\n",
       "0  1.888738e-26  3.963454e-07  1.0  0.0"
      ]
     },
     "execution_count": 18,
     "metadata": {},
     "output_type": "execute_result"
    }
   ],
   "source": [
    "probs"
   ]
  },
  {
   "cell_type": "code",
   "execution_count": 20,
   "id": "cb6dbea1",
   "metadata": {},
   "outputs": [
    {
     "name": "stdout",
     "output_type": "stream",
     "text": [
      "Probability for each satisfaction level when study_hours=5:\n",
      "Poor: 0.00\n",
      "Average: 0.00\n",
      "Good: 1.00\n",
      "Excellent: 0.00\n"
     ]
    }
   ],
   "source": [
    "print(\"Probability for each satisfaction level when study_hours=5:\")\n",
    "for i, category in enumerate(['Poor', 'Average', 'Good', 'Excellent']):\n",
    "    print(f\"{category}: {probs.iloc[0, i]:.2f}\")"
   ]
  },
  {
   "cell_type": "code",
   "execution_count": null,
   "id": "b56a70a6",
   "metadata": {},
   "outputs": [],
   "source": []
  }
 ],
 "metadata": {
  "kernelspec": {
   "display_name": "env",
   "language": "python",
   "name": "python3"
  },
  "language_info": {
   "codemirror_mode": {
    "name": "ipython",
    "version": 3
   },
   "file_extension": ".py",
   "mimetype": "text/x-python",
   "name": "python",
   "nbconvert_exporter": "python",
   "pygments_lexer": "ipython3",
   "version": "3.11.0"
  }
 },
 "nbformat": 4,
 "nbformat_minor": 5
}
