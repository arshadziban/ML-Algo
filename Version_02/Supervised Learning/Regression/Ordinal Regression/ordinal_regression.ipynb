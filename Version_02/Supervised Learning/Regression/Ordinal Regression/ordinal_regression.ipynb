{
 "cells": [
  {
   "cell_type": "markdown",
   "id": "070f2f0b",
   "metadata": {},
   "source": [
    "**Ordinal regression** is a statistical technique used to predict an outcome that can be sorted in a natural order, such as “low,” “medium,” and “high.” The method is helpful when the results are categories that have a clear ranking, but the exact distance between each category is not known. For example, ordinal regression can predict if someone’s satisfaction is “dissatisfied,” “neutral,” or “satisfied” based on other information.\n"
   ]
  },
  {
   "cell_type": "markdown",
   "id": "e51bcc62",
   "metadata": {},
   "source": [
    "**Ordinal regression is used when**:\n",
    "\n",
    "* The outcome or target you want to predict is made up of categories that have a natural order, but are **not numbers**.\n",
    "* The categories are ranked, such as “bad,” “average,” and “good,” or “low,” “medium,” and “high.”\n",
    "* You want to predict which ordered group or level something belongs to, based on other features or information.\n",
    "\n",
    "**Examples of when to use ordinal regression:**\n",
    "\n",
    "* Predicting satisfaction levels: “unsatisfied,” “neutral,” or “satisfied.”\n",
    "* Predicting customer ratings: 1 star, 2 stars, 3 stars, etc.\n",
    "* Predicting a student’s grade: A, B, C, D, or F.\n",
    "* Predicting pain levels: “none,” “mild,” “moderate,” “severe.”"
   ]
  },
  {
   "cell_type": "markdown",
   "id": "b9d8e7f0",
   "metadata": {},
   "source": []
  }
 ],
 "metadata": {
  "language_info": {
   "name": "python"
  }
 },
 "nbformat": 4,
 "nbformat_minor": 5
}
