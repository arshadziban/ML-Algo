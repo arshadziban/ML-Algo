{
 "cells": [
  {
   "cell_type": "markdown",
   "id": "070f2f0b",
   "metadata": {},
   "source": [
    "**Ordinal regression** is a statistical technique used to predict an outcome that can be sorted in a natural order, such as “low,” “medium,” and “high.” The method is helpful when the results are categories that have a clear ranking, but the exact distance between each category is not known. For example, ordinal regression can predict if someone’s satisfaction is “dissatisfied,” “neutral,” or “satisfied” based on other information.\n"
   ]
  },
  {
   "cell_type": "markdown",
   "id": "e51bcc62",
   "metadata": {},
   "source": []
  },
  {
   "cell_type": "markdown",
   "id": "b9d8e7f0",
   "metadata": {},
   "source": []
  }
 ],
 "metadata": {
  "language_info": {
   "name": "python"
  }
 },
 "nbformat": 4,
 "nbformat_minor": 5
}
