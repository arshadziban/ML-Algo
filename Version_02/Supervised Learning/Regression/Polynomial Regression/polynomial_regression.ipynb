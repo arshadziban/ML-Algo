{
 "cells": [
  {
   "cell_type": "markdown",
   "id": "392aab66",
   "metadata": {},
   "source": [
    "# Polynomial Regression\n",
    "\n",
    "---\n",
    "\n",
    "## What is Polynomial Regression?\n",
    "\n",
    "**Polynomial Regression** is a type of regression analysis where the relationship between the **independent variable** \\( x \\) and the **dependent variable** \\( y \\) is modeled as an **nth-degree polynomial**.\n",
    "\n",
    "It is an extension of **Linear Regression**, but instead of fitting a straight line, it fits a **curved line** to the data.\n",
    "\n",
    "### General form:\n",
    "\n",
    "$$\n",
    "\\hat{y} = w_0 + w_1x + w_2x^2 + w_3x^3 + \\cdots + w_nx^n\n",
    "$$\n",
    "\n",
    "- $\\hat{y}$ : predicted output  \n",
    "- $x$ : input variable  \n",
    "- $w_0, w_1, w_2, \\dots, w_n$ : coefficients (learned from data)\n",
    "\n",
    "---\n",
    "\n",
    "## Why Use Polynomial Regression?\n",
    "\n",
    "We use **Polynomial Regression** when the **data shows a curved or non-linear pattern** — meaning:\n",
    "\n",
    "-  A **straight line** (from linear regression) doesn't fit the data well  \n",
    "-  A **curved line** (polynomial regression) fits much better  \n",
    "\n",
    "---\n",
    "\n",
    "### Real-life examples:\n",
    "\n",
    "- Predicting **population growth** (which often curves upward)\n",
    "- Modeling **COVID-19 spread** over time\n",
    "- Estimating **sales trends** that rise and fall seasonally\n",
    "- Forecasting **temperature patterns** over months\n",
    "\n",
    "---\n",
    "\n",
    "## Comparison:\n",
    "\n",
    "| Model Type            | Shape of Fit       | Use When...                        |\n",
    "|----------------------|--------------------|------------------------------------|\n",
    "| Linear Regression     | Straight line      | Data looks like a line             |\n",
    "| Polynomial Regression | Curve (U, ∩, etc.) | Data curves or bends (non-linear)  |\n",
    "\n",
    "---\n",
    "\n",
    "## In Simple Terms:\n",
    "\n",
    "> Polynomial regression helps us draw a **smooth curve** through data when a **straight line is not enough**."
   ]
  },
  {
   "cell_type": "markdown",
   "id": "c80823e6",
   "metadata": {},
   "source": [
    "#Polynomial Regression (Degree 2) - Step-by-Step Example\n",
    "\n",
    "---\n",
    "\n",
    "## Goal:\n",
    "\n",
    "We want to **fit a quadratic curve** (polynomial of degree 2) through 3 points.\n",
    "\n",
    "Let’s say the data points are:\n",
    "\n",
    "| x | y  |\n",
    "|---|----|\n",
    "| 1 | 2  |\n",
    "| 2 | 5  |\n",
    "| 3 | 10 |\n",
    "\n",
    "We want to find the best-fitting curve:\n",
    "\n",
    "$$\n",
    "\\hat{y} = w_1 x + w_2 x^2 + b\n",
    "$$\n",
    "\n",
    "---\n",
    "\n",
    "## Step 1: Write the equation for each point\n",
    "\n",
    "We plug each x and y into the equation:\n",
    "\n",
    "$$\n",
    "y = w_1 x + w_2 x^2 + b\n",
    "$$\n",
    "\n",
    "---\n",
    "\n",
    "### For point (1, 2):\n",
    "\n",
    "$$\n",
    "2 = w_1 \\cdot 1 + w_2 \\cdot 1^2 + b \\\\\n",
    "\\Rightarrow w_1 + w_2 + b = 2 \\quad \\text{(Equation ①)}\n",
    "$$\n",
    "\n",
    "---\n",
    "\n",
    "### For point (2, 5):\n",
    "\n",
    "$$\n",
    "5 = w_1 \\cdot 2 + w_2 \\cdot 4 + b \\\\\n",
    "\\Rightarrow 2w_1 + 4w_2 + b = 5 \\quad \\text{(Equation ②)}\n",
    "$$\n",
    "\n",
    "---\n",
    "\n",
    "### For point (3, 10):\n",
    "\n",
    "$$\n",
    "10 = w_1 \\cdot 3 + w_2 \\cdot 9 + b \\\\\n",
    "\\Rightarrow 3w_1 + 9w_2 + b = 10 \\quad \\text{(Equation ③)}\n",
    "$$\n",
    "\n",
    "---\n",
    "\n",
    "## Step 2: Solve the system of equations\n",
    "\n",
    "We now solve the following system:"
   ]
  },
  {
   "cell_type": "markdown",
   "id": "28c93551",
   "metadata": {},
   "source": [
    "① w_1 + w_2 + b = 2\n",
    "\n",
    "② 2w_1 + 4w_2 + b = 5\n",
    "\n",
    "③ 3w_1 + 9w_2 + b = 10"
   ]
  },
  {
   "cell_type": "markdown",
   "id": "54b2b91a",
   "metadata": {},
   "source": [
    "\n",
    "---\n",
    "\n",
    "### Step A: Subtract Equation ① from Equation ②\n",
    "\n",
    "$$\n",
    "(2w_1 + 4w_2 + b) - (w_1 + w_2 + b) = 5 - 2 \\\\\n",
    "\\Rightarrow w_1 + 3w_2 = 3 \\quad \\text{(Equation ④)}\n",
    "$$\n",
    "\n",
    "---\n",
    "\n",
    "### Step B: Subtract Equation ② from Equation ③\n",
    "\n",
    "$$\n",
    "(3w_1 + 9w_2 + b) - (2w_1 + 4w_2 + b) = 10 - 5 \\\\\n",
    "\\Rightarrow w_1 + 5w_2 = 5 \\quad \\text{(Equation ⑤)}\n",
    "$$\n",
    "\n",
    "---\n",
    "\n",
    "### Step C: Subtract Equation ④ from Equation ⑤\n",
    "\n",
    "$$\n",
    "(w_1 + 5w_2) - (w_1 + 3w_2) = 5 - 3 \\\\\n",
    "\\Rightarrow 2w_2 = 2 \\Rightarrow w_2 = 1\n",
    "$$\n",
    "\n",
    "---\n",
    "\n",
    "### Step D: Plug \\( w_2 = 1 \\) into Equation ④\n",
    "\n",
    "$$\n",
    "w_1 + 3(1) = 3 \\Rightarrow w_1 = 0\n",
    "$$\n",
    "\n",
    "---\n",
    "\n",
    "### Step E: Plug \\( w_1 = 0, w_2 = 1 \\) into Equation ①\n",
    "\n",
    "$$\n",
    "0 + 1 + b = 2 \\Rightarrow b = 1\n",
    "$$\n",
    "\n",
    "---\n",
    "\n",
    "##  Final Answer:\n",
    "\n",
    "- \\( w_1 = 0 \\)\n",
    "- \\( w_2 = 1 \\)\n",
    "- \\( b = 1 \\)\n",
    "\n",
    "So the final equation is:\n",
    "\n",
    "$$\n",
    "\\hat{y} = x^2 + 1\n",
    "$$\n",
    "\n",
    "---\n",
    "\n",
    "## Let’s Verify:\n",
    "\n",
    "| x |         Prediction            | Actual y |\n",
    "|---|-------------------------------|----------|\n",
    "| 1 | \\( 1^2 + 1 = 2 \\)             | 2        |\n",
    "| 2 | \\( 2^2 + 1 = 5 \\)             | 5        |\n",
    "| 3 | \\( 3^2 + 1 = 10 \\)            | 10       |\n",
    "\n",
    "The model fits **perfectly**.\n",
    "\n"
   ]
  },
  {
   "cell_type": "markdown",
   "id": "0b3975d0",
   "metadata": {},
   "source": [
    "## How to Decide the Polynomial Degree?\n",
    "\n",
    "Choosing the right degree for polynomial regression depends on the **pattern in your data** and **model performance**.\n",
    "\n",
    "---\n",
    "\n",
    "### 1. Plot the Data\n",
    "\n",
    "- If the data points look like a **U** or an **∩** shape → try **degree 2** (quadratic).\n",
    "- If the data shows a **wave-like** or **multiple bends** → try **degree 3** (cubic) or higher.\n",
    "\n",
    "---\n",
    "\n",
    "### 2. Use Trial and Error\n",
    "\n",
    "- Start with degree 2  \n",
    "- Then try degree 3  \n",
    "- Compare results and **check the curve fit visually**\n",
    "\n",
    "---\n",
    "\n",
    "### 3. Use Evaluation Metrics\n",
    "\n",
    "Compare performance using metrics such as:\n",
    "\n",
    "- **Mean Squared Error (MSE)** — lower is better\n",
    "- **R² Score** — closer to 1 is better\n",
    "\n",
    "Evaluate these metrics on **test data**, not just training data, to avoid overfitting.\n"
   ]
  },
  {
   "cell_type": "code",
   "execution_count": 6,
   "id": "391e4faf",
   "metadata": {},
   "outputs": [],
   "source": [
    "# Step 1: Data points\n",
    "x_values = [1, 2, 3]\n",
    "y_values = [2, 5, 10]"
   ]
  },
  {
   "cell_type": "code",
   "execution_count": 7,
   "id": "81fd016b",
   "metadata": {},
   "outputs": [
    {
     "data": {
      "text/plain": [
       "([1, 2, 3], [2, 5, 10])"
      ]
     },
     "execution_count": 7,
     "metadata": {},
     "output_type": "execute_result"
    }
   ],
   "source": [
    "x_values,y_values"
   ]
  },
  {
   "cell_type": "code",
   "execution_count": 8,
   "id": "21fd921a",
   "metadata": {},
   "outputs": [],
   "source": [
    "# Step 2: Create equations in the form:\n",
    "# y = w1*x + w2*x^2 + b\n",
    "\n",
    "equations = []\n",
    "for i in range(3):\n",
    "    x = x_values[i]\n",
    "    y = y_values[i]\n",
    "    w1 = x\n",
    "    w2 = x * x\n",
    "    b = 1\n",
    "    equations.append([w1, w2, b, y])\n"
   ]
  },
  {
   "cell_type": "code",
   "execution_count": 9,
   "id": "e19de77c",
   "metadata": {},
   "outputs": [
    {
     "data": {
      "text/plain": [
       "[[1, 1, 1, 2], [2, 4, 1, 5], [3, 9, 1, 10]]"
      ]
     },
     "execution_count": 9,
     "metadata": {},
     "output_type": "execute_result"
    }
   ],
   "source": [
    "equations"
   ]
  },
  {
   "cell_type": "code",
   "execution_count": 10,
   "id": "7ff7adb0",
   "metadata": {},
   "outputs": [
    {
     "name": "stdout",
     "output_type": "stream",
     "text": [
      "Step 1: Equations\n",
      "Equation 1: 1*w1 + 1*w2 + 1*b = 2\n",
      "Equation 2: 2*w1 + 4*w2 + 1*b = 5\n",
      "Equation 3: 3*w1 + 9*w2 + 1*b = 10\n",
      "\n"
     ]
    }
   ],
   "source": [
    "# Show all 3 equations\n",
    "print(\"Step 1: Equations\")\n",
    "for i, eq in enumerate(equations):\n",
    "    print(f\"Equation {i+1}: {eq[0]}*w1 + {eq[1]}*w2 + {eq[2]}*b = {eq[3]}\")\n",
    "print()"
   ]
  },
  {
   "cell_type": "code",
   "execution_count": 11,
   "id": "d8b2f395",
   "metadata": {},
   "outputs": [],
   "source": [
    "# Step 3: Subtract Equation 1 from Equation 2\n",
    "eq1 = equations[0]\n",
    "eq2 = equations[1]\n",
    "eq3 = equations[2]"
   ]
  },
  {
   "cell_type": "code",
   "execution_count": 12,
   "id": "31c30cd7",
   "metadata": {},
   "outputs": [],
   "source": [
    "eq4 = [\n",
    "    eq2[0] - eq1[0],\n",
    "    eq2[1] - eq1[1],\n",
    "    eq2[2] - eq1[2],\n",
    "    eq2[3] - eq1[3]\n",
    "]\n"
   ]
  },
  {
   "cell_type": "code",
   "execution_count": 13,
   "id": "66250844",
   "metadata": {},
   "outputs": [
    {
     "data": {
      "text/plain": [
       "[1, 3, 0, 3]"
      ]
     },
     "execution_count": 13,
     "metadata": {},
     "output_type": "execute_result"
    }
   ],
   "source": [
    "eq4"
   ]
  },
  {
   "cell_type": "code",
   "execution_count": 14,
   "id": "2cd2b265",
   "metadata": {},
   "outputs": [],
   "source": [
    "# Step 4: Subtract Equation 2 from Equation 3\n",
    "eq5 = [\n",
    "    eq3[0] - eq2[0],\n",
    "    eq3[1] - eq2[1],\n",
    "    eq3[2] - eq2[2],\n",
    "    eq3[3] - eq2[3]\n",
    "]"
   ]
  },
  {
   "cell_type": "code",
   "execution_count": 15,
   "id": "f8618dbc",
   "metadata": {},
   "outputs": [
    {
     "name": "stdout",
     "output_type": "stream",
     "text": [
      "Step 2: Simplified Equations\n",
      "Equation 4 (2-1): 1*w1 + 3*w2 = 3\n",
      "Equation 5 (3-2): 1*w1 + 5*w2 = 5\n",
      "\n"
     ]
    }
   ],
   "source": [
    "print(\"Step 2: Simplified Equations\")\n",
    "print(f\"Equation 4 (2-1): {eq4[0]}*w1 + {eq4[1]}*w2 = {eq4[3]}\")\n",
    "print(f\"Equation 5 (3-2): {eq5[0]}*w1 + {eq5[1]}*w2 = {eq5[3]}\")\n",
    "print()\n"
   ]
  },
  {
   "cell_type": "code",
   "execution_count": 16,
   "id": "9bf0a6ce",
   "metadata": {},
   "outputs": [],
   "source": [
    "# Step 5: Subtract Equation 4 from Equation 5 to get w2\n",
    "a = eq4[1]\n",
    "b = eq5[1]\n",
    "result1 = eq4[3]\n",
    "result2 = eq5[3]"
   ]
  },
  {
   "cell_type": "code",
   "execution_count": 17,
   "id": "2684d65f",
   "metadata": {},
   "outputs": [
    {
     "name": "stdout",
     "output_type": "stream",
     "text": [
      "Step 3: w2 = 1.0\n"
     ]
    }
   ],
   "source": [
    "# (w1 + 5w2) - (w1 + 3w2) = 5 - 3 → 2w2 = 2 → w2 = 1\n",
    "w2 = (result2 - result1) / (b - a)\n",
    "print(f\"Step 3: w2 = {w2}\")"
   ]
  },
  {
   "cell_type": "code",
   "execution_count": 18,
   "id": "6e629166",
   "metadata": {},
   "outputs": [
    {
     "name": "stdout",
     "output_type": "stream",
     "text": [
      "Step 4: w1 = 0.0\n"
     ]
    }
   ],
   "source": [
    "# Step 6: Put w2 into Equation 4 to find w1\n",
    "# Equation: w1 + 3*w2 = 3\n",
    "w1 = result1 - 3 * w2\n",
    "print(f\"Step 4: w1 = {w1}\")"
   ]
  },
  {
   "cell_type": "code",
   "execution_count": 19,
   "id": "50e07400",
   "metadata": {},
   "outputs": [
    {
     "name": "stdout",
     "output_type": "stream",
     "text": [
      "Step 5: b = 1.0\n",
      "\n"
     ]
    }
   ],
   "source": [
    "# Step 7: Put w1 and w2 into Equation 1 to get b\n",
    "# Equation: w1 + w2 + b = 2\n",
    "b = equations[0][3] - w1 - w2\n",
    "print(f\"Step 5: b = {b}\")\n",
    "print()"
   ]
  },
  {
   "cell_type": "code",
   "execution_count": 21,
   "id": "9e4b8b9c",
   "metadata": {},
   "outputs": [
    {
     "name": "stdout",
     "output_type": "stream",
     "text": [
      "Final Equation: y = 1.0*x^2 + 0.0*x + 1.0\n",
      "\n"
     ]
    }
   ],
   "source": [
    "# Final equation\n",
    "print(f\"Final Equation: y = {w2}*x^2 + {w1}*x + {b}\")\n",
    "print()"
   ]
  },
  {
   "cell_type": "code",
   "execution_count": 22,
   "id": "c690531b",
   "metadata": {},
   "outputs": [
    {
     "name": "stdout",
     "output_type": "stream",
     "text": [
      "x | Actual y | Predicted y\n",
      "1 |    2     |     2.0\n",
      "2 |    5     |     5.0\n",
      "3 |    10     |     10.0\n"
     ]
    }
   ],
   "source": [
    "# Step 8: Check predictions\n",
    "print(\"x | Actual y | Predicted y\")\n",
    "for i in range(3):\n",
    "    x = x_values[i]\n",
    "    y_real = y_values[i]\n",
    "    y_pred = w1 * x + w2 * x**2 + b\n",
    "    print(f\"{x} |    {y_real}     |     {y_pred}\")"
   ]
  },
  {
   "cell_type": "code",
   "execution_count": null,
   "id": "4ab814de",
   "metadata": {},
   "outputs": [],
   "source": []
  }
 ],
 "metadata": {
  "kernelspec": {
   "display_name": "env",
   "language": "python",
   "name": "python3"
  },
  "language_info": {
   "codemirror_mode": {
    "name": "ipython",
    "version": 3
   },
   "file_extension": ".py",
   "mimetype": "text/x-python",
   "name": "python",
   "nbconvert_exporter": "python",
   "pygments_lexer": "ipython3",
   "version": "3.11.0"
  }
 },
 "nbformat": 4,
 "nbformat_minor": 5
}
