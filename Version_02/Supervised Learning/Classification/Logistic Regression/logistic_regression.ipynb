{
 "cells": [
  {
   "cell_type": "markdown",
   "id": "80c3e0c7",
   "metadata": {},
   "source": [
    "### 1. **Logistic Regression**\n",
    "\n",
    "A machine learning algorithm used for predicting the probability that an input belongs to a certain class, mainly used for classification problems.\n",
    "\n",
    "---\n",
    "\n",
    "### 2. **Sigmoid Function**\n",
    "\n",
    "A mathematical function that maps any real number to a value between 0 and 1, often used to convert scores into probabilities.\n",
    "\n",
    "---\n",
    "\n",
    "### 3. **Binary/Multiclass Classification**\n",
    "\n",
    "* **Binary Classification:** Predicting one of two possible classes (e.g., yes/no).\n",
    "* **Multiclass Classification:** Predicting one of three or more possible classes (e.g., cat/dog/rabbit).\n",
    "\n",
    "---\n",
    "\n",
    "### 4. **Cross-Entropy Loss**\n",
    "\n",
    "A loss function that measures how well predicted probabilities match the actual class labels in classification tasks.\n",
    "\n"
   ]
  },
  {
   "cell_type": "markdown",
   "id": "e23ce69c",
   "metadata": {},
   "source": [
    "### **Dataset**\n",
    "\n",
    "| x | y |\n",
    "| - | - |\n",
    "| 0 | 0 |\n",
    "| 1 | 0 |\n",
    "| 2 | 1 |\n",
    "| 3 | 1 |\n",
    "\n",
    "---\n",
    "\n",
    "### **Model Parameters**\n",
    "\n",
    "* Weight: $w = 1.2$\n",
    "* Bias: $b = -2$\n",
    "\n",
    "---\n",
    "\n",
    "### **Step 1: Calculate z and Probability**\n",
    "\n",
    "The logistic regression formula:\n",
    "\n",
    "$$\n",
    "z = w \\cdot x + b\n",
    "$$\n",
    "\n",
    "$$\n",
    "\\text{Probability} = \\frac{1}{1 + e^{-z}}\n",
    "$$\n",
    "\n",
    "Now, calculate for each data point:\n",
    "\n",
    "| x | y | z (1.2·x – 2) | Probability ($\\frac{1}{1 + e^{-z}}$) |\n",
    "| - | - | ------------- | ------------------------------------ |\n",
    "| 0 | 0 | -2.0          | 0.12                                 |\n",
    "| 1 | 0 | -0.8          | 0.31                                 |\n",
    "| 2 | 1 | 0.4           | 0.60                                 |\n",
    "| 3 | 1 | 1.6           | 0.83                                 |\n",
    "\n",
    "---\n",
    "\n",
    "### **Step 2: Cross-Entropy Loss Calculation**\n",
    "\n",
    "For each row, use:\n",
    "\n",
    "$$\n",
    "\\text{Loss} = -[y \\cdot \\log(\\text{Probability}) + (1 - y) \\cdot \\log(1 - \\text{Probability})]\n",
    "$$\n",
    "\n",
    "**Calculation Table:**\n",
    "\n",
    "| x | y | Probability | Loss (approx) |\n",
    "| - | - | ----------- | ------------- |\n",
    "| 0 | 0 | 0.12        | 0.127         |\n",
    "| 1 | 0 | 0.31        | 0.369         |\n",
    "| 2 | 1 | 0.60        | 0.511         |\n",
    "| 3 | 1 | 0.83        | 0.186         |\n",
    "\n",
    "---\n",
    "\n",
    "### **Step 3: Average Loss**\n",
    "\n",
    "$$\n",
    "\\text{Average Loss} = \\frac{0.127 + 0.369 + 0.511 + 0.186}{4} \\approx 0.298\n",
    "$$\n",
    "\n",
    "---\n",
    "\n",
    "### **Summary Table**\n",
    "\n",
    "| x | y | z    | Probability | Loss  |\n",
    "| - | - | ---- | ----------- | ----- |\n",
    "| 0 | 0 | -2.0 | 0.12        | 0.127 |\n",
    "| 1 | 0 | -0.8 | 0.31        | 0.369 |\n",
    "| 2 | 1 | 0.4  | 0.60        | 0.511 |\n",
    "| 3 | 1 | 1.6  | 0.83        | 0.186 |\n",
    "\n",
    "\n"
   ]
  },
  {
   "cell_type": "code",
   "execution_count": 1,
   "id": "3369f198",
   "metadata": {},
   "outputs": [],
   "source": [
    "import numpy as np"
   ]
  },
  {
   "cell_type": "code",
   "execution_count": 2,
   "id": "33823b7d",
   "metadata": {},
   "outputs": [],
   "source": [
    "x = np.array([0, 1, 2, 3])\n",
    "y = np.array([0, 0, 1, 1])"
   ]
  },
  {
   "cell_type": "code",
   "execution_count": 3,
   "id": "1497d7cd",
   "metadata": {},
   "outputs": [],
   "source": [
    "# Model parameters\n",
    "w = 1.2\n",
    "b = -2"
   ]
  },
  {
   "cell_type": "code",
   "execution_count": 4,
   "id": "13d5a600",
   "metadata": {},
   "outputs": [],
   "source": [
    "z = w * x + b"
   ]
  },
  {
   "cell_type": "code",
   "execution_count": 5,
   "id": "5a5a36e7",
   "metadata": {},
   "outputs": [],
   "source": [
    "def sigmoid(z):\n",
    "    return 1 / (1 + np.exp(-z))"
   ]
  },
  {
   "cell_type": "code",
   "execution_count": 6,
   "id": "3f47eff7",
   "metadata": {},
   "outputs": [],
   "source": [
    "prob = sigmoid(z)"
   ]
  },
  {
   "cell_type": "code",
   "execution_count": 7,
   "id": "86b124c8",
   "metadata": {},
   "outputs": [],
   "source": [
    "loss = - (y * np.log(prob) + (1 - y) * np.log(1 - prob))"
   ]
  },
  {
   "cell_type": "code",
   "execution_count": 8,
   "id": "61857ebd",
   "metadata": {},
   "outputs": [
    {
     "name": "stdout",
     "output_type": "stream",
     "text": [
      " x  y     z      probability     loss\n",
      " 0  0   -2.00          0.12       0.127\n",
      " 1  0   -0.80          0.31       0.371\n",
      " 2  1    0.40          0.60       0.513\n",
      " 3  1    1.60          0.83       0.184\n"
     ]
    }
   ],
   "source": [
    "print(\" x  y     z      probability     loss\")\n",
    "for xi, yi, zi, pi, li in zip(x, y, z, prob, loss):\n",
    "    print(f\"{xi:2}  {yi}  {zi:6.2f}    {pi:10.2f}    {li:8.3f}\")\n"
   ]
  },
  {
   "cell_type": "code",
   "execution_count": 9,
   "id": "46874eb7",
   "metadata": {},
   "outputs": [
    {
     "name": "stdout",
     "output_type": "stream",
     "text": [
      "\n",
      "Average loss: 0.299\n"
     ]
    }
   ],
   "source": [
    "avg_loss = np.mean(loss)\n",
    "print(\"\\nAverage loss:\", round(avg_loss, 3))"
   ]
  },
  {
   "cell_type": "code",
   "execution_count": null,
   "id": "09646416",
   "metadata": {},
   "outputs": [],
   "source": []
  }
 ],
 "metadata": {
  "kernelspec": {
   "display_name": "env",
   "language": "python",
   "name": "python3"
  },
  "language_info": {
   "codemirror_mode": {
    "name": "ipython",
    "version": 3
   },
   "file_extension": ".py",
   "mimetype": "text/x-python",
   "name": "python",
   "nbconvert_exporter": "python",
   "pygments_lexer": "ipython3",
   "version": "3.11.0"
  }
 },
 "nbformat": 4,
 "nbformat_minor": 5
}
