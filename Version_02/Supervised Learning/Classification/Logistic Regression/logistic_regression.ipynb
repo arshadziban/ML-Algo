{
 "cells": [
  {
   "cell_type": "markdown",
   "id": "80c3e0c7",
   "metadata": {},
   "source": [
    "### 1. **Logistic Regression**\n",
    "\n",
    "A machine learning algorithm used for predicting the probability that an input belongs to a certain class, mainly used for classification problems.\n",
    "\n",
    "---\n",
    "\n",
    "### 2. **Sigmoid Function**\n",
    "\n",
    "A mathematical function that maps any real number to a value between 0 and 1, often used to convert scores into probabilities.\n",
    "\n",
    "---\n",
    "\n",
    "### 3. **Binary/Multiclass Classification**\n",
    "\n",
    "* **Binary Classification:** Predicting one of two possible classes (e.g., yes/no).\n",
    "* **Multiclass Classification:** Predicting one of three or more possible classes (e.g., cat/dog/rabbit).\n",
    "\n",
    "---\n",
    "\n",
    "### 4. **Cross-Entropy Loss**\n",
    "\n",
    "A loss function that measures how well predicted probabilities match the actual class labels in classification tasks.\n",
    "\n"
   ]
  },
  {
   "cell_type": "markdown",
   "id": "e23ce69c",
   "metadata": {},
   "source": []
  }
 ],
 "metadata": {
  "language_info": {
   "name": "python"
  }
 },
 "nbformat": 4,
 "nbformat_minor": 5
}
