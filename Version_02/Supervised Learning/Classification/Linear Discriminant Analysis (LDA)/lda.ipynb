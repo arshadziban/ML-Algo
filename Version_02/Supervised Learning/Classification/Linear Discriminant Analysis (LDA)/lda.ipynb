{
 "cells": [
  {
   "cell_type": "markdown",
   "id": "8a560e6c",
   "metadata": {},
   "source": []
  },
  {
   "cell_type": "markdown",
   "id": "17a9e0e1",
   "metadata": {},
   "source": [
    "## Dataset\n",
    "\n",
    "| Animal | Height (cm) | Weight (kg) | Class |\n",
    "| ------ | ----------- | ----------- | ----- |\n",
    "| Cat 1  | 25          | 4           | Cat   |\n",
    "| Cat 2  | 30          | 5           | Cat   |\n",
    "| Dog 1  | 50          | 20          | Dog   |\n",
    "| Dog 2  | 55          | 25          | Dog   |\n",
    "\n",
    "---\n",
    "\n",
    "## Step 1: Calculate Mean Vectors (Already Done)\n",
    "\n",
    "$$\n",
    "\\mu_{Cat} = \\begin{bmatrix} 27.5 \\\\ 4.5 \\end{bmatrix}, \\quad \\mu_{Dog} = \\begin{bmatrix} 52.5 \\\\ 22.5 \\end{bmatrix}\n",
    "$$\n",
    "\n",
    "---\n",
    "\n",
    "## Step 2: Calculate Within-Class Scatter Matrix $S_W$\n",
    "\n",
    "For each class, compute deviations from mean:\n",
    "\n",
    "* **Cats:**\n",
    "\n",
    "$$\n",
    "\\mathbf{d}_{Cat1} = \\begin{bmatrix} 25 - 27.5 \\\\ 4 - 4.5 \\end{bmatrix} = \\begin{bmatrix} -2.5 \\\\ -0.5 \\end{bmatrix}, \\quad\n",
    "\\mathbf{d}_{Cat2} = \\begin{bmatrix} 30 - 27.5 \\\\ 5 - 4.5 \\end{bmatrix} = \\begin{bmatrix} 2.5 \\\\ 0.5 \\end{bmatrix}\n",
    "$$\n",
    "\n",
    "Calculate scatter matrix for Cats:\n",
    "\n",
    "$$\n",
    "S_{Cat} = \\mathbf{d}_{Cat1} \\mathbf{d}_{Cat1}^T + \\mathbf{d}_{Cat2} \\mathbf{d}_{Cat2}^T\n",
    "$$\n",
    "\n",
    "$$\n",
    "= \\begin{bmatrix} -2.5 \\\\ -0.5 \\end{bmatrix} \\begin{bmatrix} -2.5 & -0.5 \\end{bmatrix} + \\begin{bmatrix} 2.5 \\\\ 0.5 \\end{bmatrix} \\begin{bmatrix} 2.5 & 0.5 \\end{bmatrix}\n",
    "$$\n",
    "\n",
    "$$\n",
    "= \\begin{bmatrix} 6.25 & 1.25 \\\\ 1.25 & 0.25 \\end{bmatrix} + \\begin{bmatrix} 6.25 & 1.25 \\\\ 1.25 & 0.25 \\end{bmatrix} = \\begin{bmatrix} 12.5 & 2.5 \\\\ 2.5 & 0.5 \\end{bmatrix}\n",
    "$$\n",
    "\n",
    "* **Dogs:**\n",
    "\n",
    "$$\n",
    "\\mathbf{d}_{Dog1} = \\begin{bmatrix} 50 - 52.5 \\\\ 20 - 22.5 \\end{bmatrix} = \\begin{bmatrix} -2.5 \\\\ -2.5 \\end{bmatrix}, \\quad\n",
    "\\mathbf{d}_{Dog2} = \\begin{bmatrix} 55 - 52.5 \\\\ 25 - 22.5 \\end{bmatrix} = \\begin{bmatrix} 2.5 \\\\ 2.5 \\end{bmatrix}\n",
    "$$\n",
    "\n",
    "Calculate scatter matrix for Dogs:\n",
    "\n",
    "$$\n",
    "S_{Dog} = \\mathbf{d}_{Dog1} \\mathbf{d}_{Dog1}^T + \\mathbf{d}_{Dog2} \\mathbf{d}_{Dog2}^T\n",
    "$$\n",
    "\n",
    "$$\n",
    "= \\begin{bmatrix} -2.5 \\\\ -2.5 \\end{bmatrix} \\begin{bmatrix} -2.5 & -2.5 \\end{bmatrix} + \\begin{bmatrix} 2.5 \\\\ 2.5 \\end{bmatrix} \\begin{bmatrix} 2.5 & 2.5 \\end{bmatrix}\n",
    "$$\n",
    "\n",
    "$$\n",
    "= \\begin{bmatrix} 6.25 & 6.25 \\\\ 6.25 & 6.25 \\end{bmatrix} + \\begin{bmatrix} 6.25 & 6.25 \\\\ 6.25 & 6.25 \\end{bmatrix} = \\begin{bmatrix} 12.5 & 12.5 \\\\ 12.5 & 12.5 \\end{bmatrix}\n",
    "$$\n",
    "\n",
    "---\n",
    "\n",
    "## Step 3: Compute Total Within-Class Scatter Matrix\n",
    "\n",
    "$$\n",
    "S_W = S_{Cat} + S_{Dog} = \\begin{bmatrix} 12.5 & 2.5 \\\\ 2.5 & 0.5 \\end{bmatrix} + \\begin{bmatrix} 12.5 & 12.5 \\\\ 12.5 & 12.5 \\end{bmatrix} = \\begin{bmatrix} 25 & 15 \\\\ 15 & 13 \\end{bmatrix}\n",
    "$$\n",
    "\n",
    "---\n",
    "\n",
    "## Step 4: Compute Projection Vector $\\mathbf{w}$\n",
    "\n",
    "$$\n",
    "\\mathbf{w} = S_W^{-1} (\\mu_{Dog} - \\mu_{Cat})\n",
    "$$\n",
    "\n",
    "Calculate difference of means:\n",
    "\n",
    "$$\n",
    "\\mu_{Dog} - \\mu_{Cat} = \\begin{bmatrix} 52.5 - 27.5 \\\\ 22.5 - 4.5 \\end{bmatrix} = \\begin{bmatrix} 25 \\\\ 18 \\end{bmatrix}\n",
    "$$\n",
    "\n",
    "Calculate inverse of $S_W$:\n",
    "\n",
    "$$\n",
    "S_W^{-1} = \\frac{1}{(25)(13) - (15)(15)} \\begin{bmatrix} 13 & -15 \\\\ -15 & 25 \\end{bmatrix} = \\frac{1}{325 - 225} \\begin{bmatrix} 13 & -15 \\\\ -15 & 25 \\end{bmatrix} = \\frac{1}{100} \\begin{bmatrix} 13 & -15 \\\\ -15 & 25 \\end{bmatrix}\n",
    "$$\n",
    "\n",
    "So,\n",
    "\n",
    "$$\n",
    "\\mathbf{w} = \\frac{1}{100} \\begin{bmatrix} 13 & -15 \\\\ -15 & 25 \\end{bmatrix} \\begin{bmatrix} 25 \\\\ 18 \\end{bmatrix} = \\frac{1}{100} \\begin{bmatrix} 13 \\times 25 + (-15) \\times 18 \\\\ -15 \\times 25 + 25 \\times 18 \\end{bmatrix}\n",
    "$$\n",
    "\n",
    "$$\n",
    "= \\frac{1}{100} \\begin{bmatrix} 325 - 270 \\\\ -375 + 450 \\end{bmatrix} = \\frac{1}{100} \\begin{bmatrix} 55 \\\\ 75 \\end{bmatrix} = \\begin{bmatrix} 0.55 \\\\ 0.75 \\end{bmatrix}\n",
    "$$\n",
    "\n",
    "---\n",
    "\n",
    "## Step 5: Project Points onto $\\mathbf{w}$\n",
    "\n",
    "Calculate projection $y = \\mathbf{w}^T \\mathbf{x}$ for each point:\n",
    "\n",
    "* Cat 1:\n",
    "\n",
    "$$\n",
    "y = 0.55 \\times 25 + 0.75 \\times 4 = 13.75 + 3 = 16.75\n",
    "$$\n",
    "\n",
    "* Cat 2:\n",
    "\n",
    "$$\n",
    "y = 0.55 \\times 30 + 0.75 \\times 5 = 16.5 + 3.75 = 20.25\n",
    "$$\n",
    "\n",
    "* Dog 1:\n",
    "\n",
    "$$\n",
    "y = 0.55 \\times 50 + 0.75 \\times 20 = 27.5 + 15 = 42.5\n",
    "$$\n",
    "\n",
    "* Dog 2:\n",
    "\n",
    "$$\n",
    "y = 0.55 \\times 55 + 0.75 \\times 25 = 30.25 + 18.75 = 49\n",
    "$$\n",
    "\n",
    "---\n",
    "\n",
    "## Step 6: Choose a Threshold and Predict New Point\n",
    "\n",
    "Choose threshold halfway between the closest points:\n",
    "\n",
    "Between 20.25 (Cat 2) and 42.5 (Dog 1), midpoint is:\n",
    "\n",
    "$$\n",
    "\\frac{20.25 + 42.5}{2} = 31.375\n",
    "$$\n",
    "\n",
    "---\n",
    "\n",
    "## Step 7: Predict New Animal\n",
    "\n",
    "New animal has features:\n",
    "\n",
    "$$\n",
    "\\mathbf{x} = \\begin{bmatrix} 40 \\\\ 10 \\end{bmatrix}\n",
    "$$\n",
    "\n",
    "Project onto $\\mathbf{w}$:\n",
    "\n",
    "$$\n",
    "y = 0.55 \\times 40 + 0.75 \\times 10 = 22 + 7.5 = 29.5\n",
    "$$\n",
    "\n",
    "Compare to threshold 31.375:\n",
    "\n",
    "* $29.5 < 31.375 \\Rightarrow$ Classified as **Cat**\n",
    "\n",
    "---\n",
    "\n",
    "# **Summary Table**\n",
    "\n",
    "| Animal | Projection $y$ | Class           |\n",
    "| ------ | -------------- | --------------- |\n",
    "| Cat 1  | 16.75          | Cat             |\n",
    "| Cat 2  | 20.25          | Cat             |\n",
    "| Dog 1  | 42.5           | Dog             |\n",
    "| Dog 2  | 49             | Dog             |\n",
    "| New    | 29.5           | Cat (Predicted) |"
   ]
  },
  {
   "cell_type": "code",
   "execution_count": 13,
   "id": "2fafcd66",
   "metadata": {},
   "outputs": [],
   "source": [
    "import numpy as np"
   ]
  },
  {
   "cell_type": "code",
   "execution_count": 14,
   "id": "4ff118a1",
   "metadata": {},
   "outputs": [],
   "source": [
    "# Labels: 'Cat' or 'Dog'\n",
    "cat_points = np.array([[25, 4], [30, 5]])\n",
    "dog_points = np.array([[50, 20], [55, 25]])"
   ]
  },
  {
   "cell_type": "code",
   "execution_count": 15,
   "id": "f457f3f3",
   "metadata": {},
   "outputs": [],
   "source": [
    "# Step 1: Calculate mean vector for each class\n",
    "cat_mean = np.mean(cat_points, axis=0)\n",
    "dog_mean = np.mean(dog_points, axis=0)\n"
   ]
  },
  {
   "cell_type": "code",
   "execution_count": 16,
   "id": "4d267006",
   "metadata": {},
   "outputs": [
    {
     "name": "stdout",
     "output_type": "stream",
     "text": [
      "Cat mean: [27.5  4.5]\n",
      "Dog mean: [52.5 22.5]\n"
     ]
    }
   ],
   "source": [
    "print(\"Cat mean:\", cat_mean)\n",
    "print(\"Dog mean:\", dog_mean)"
   ]
  },
  {
   "cell_type": "code",
   "execution_count": 17,
   "id": "44177899",
   "metadata": {},
   "outputs": [],
   "source": [
    "# Step 2: Calculate the within-class scatter matrix (S_W)\n",
    "# This measures how spread out points are within each class\n",
    "\n",
    "def scatter_matrix(points, mean_vec):\n",
    "    scatter = np.zeros((2, 2))  # Initialize 2x2 matrix\n",
    "    for point in points:\n",
    "        diff = (point - mean_vec).reshape(2, 1)  # Column vector\n",
    "        scatter += diff.dot(diff.T)  # Outer product and sum\n",
    "    return scatter\n"
   ]
  },
  {
   "cell_type": "code",
   "execution_count": 18,
   "id": "840a845d",
   "metadata": {},
   "outputs": [],
   "source": [
    "S_W_cat = scatter_matrix(cat_points, cat_mean)\n",
    "S_W_dog = scatter_matrix(dog_points, dog_mean)\n",
    "S_W = S_W_cat + S_W_dog"
   ]
  },
  {
   "cell_type": "code",
   "execution_count": 19,
   "id": "fe7509e1",
   "metadata": {},
   "outputs": [
    {
     "data": {
      "text/plain": [
       "array([[25., 15.],\n",
       "       [15., 13.]])"
      ]
     },
     "execution_count": 19,
     "metadata": {},
     "output_type": "execute_result"
    }
   ],
   "source": [
    "S_W"
   ]
  },
  {
   "cell_type": "code",
   "execution_count": 20,
   "id": "6bf08ede",
   "metadata": {},
   "outputs": [],
   "source": [
    "# Step 3: Calculate the projection vector w\n",
    "# Formula: w = S_W_inv * (mean_dog - mean_cat)\n",
    "mean_diff = (dog_mean - cat_mean).reshape(2, 1)  # Column vector\n",
    "S_W_inv = np.linalg.inv(S_W)\n",
    "w = S_W_inv.dot(mean_diff)\n"
   ]
  },
  {
   "cell_type": "code",
   "execution_count": 21,
   "id": "0374d1db",
   "metadata": {},
   "outputs": [
    {
     "data": {
      "text/plain": [
       "array([0.55, 0.75])"
      ]
     },
     "execution_count": 21,
     "metadata": {},
     "output_type": "execute_result"
    }
   ],
   "source": [
    "w.flatten()"
   ]
  },
  {
   "cell_type": "code",
   "execution_count": 22,
   "id": "70a95023",
   "metadata": {},
   "outputs": [],
   "source": [
    "# Step 4: Project each point onto the vector w\n",
    "# Projection = dot product of w^T and the feature vector x\n",
    "def project_point(point, w_vector):\n",
    "    return np.dot(w_vector.T, point.reshape(2,1))[0]"
   ]
  },
  {
   "cell_type": "code",
   "execution_count": 25,
   "id": "2cec756c",
   "metadata": {},
   "outputs": [
    {
     "name": "stdout",
     "output_type": "stream",
     "text": [
      "Cat 1: Projection = 16.75\n",
      "Cat 2: Projection = 20.25\n",
      "Dog 1: Projection = 42.50\n",
      "Dog 2: Projection = 49.00\n"
     ]
    }
   ],
   "source": [
    "cat_projections = []\n",
    "for i, point in enumerate(cat_points):\n",
    "    proj = project_point(point, w).item()  # convert to scalar\n",
    "    cat_projections.append(proj)\n",
    "    print(f\"Cat {i+1}: Projection = {proj:.2f}\")\n",
    "\n",
    "dog_projections = []\n",
    "for i, point in enumerate(dog_points):\n",
    "    proj = project_point(point, w).item()  # convert to scalar\n",
    "    dog_projections.append(proj)\n",
    "    print(f\"Dog {i+1}: Projection = {proj:.2f}\")"
   ]
  },
  {
   "cell_type": "code",
   "execution_count": 26,
   "id": "d57f1639",
   "metadata": {},
   "outputs": [],
   "source": [
    "# Step 5: Calculate the threshold to separate classes\n",
    "# Choose midpoint between max projection of Cats and min projection of Dogs\n",
    "threshold = (max(cat_projections) + min(dog_projections)) / 2"
   ]
  },
  {
   "cell_type": "code",
   "execution_count": 27,
   "id": "af818507",
   "metadata": {},
   "outputs": [
    {
     "data": {
      "text/plain": [
       "31.375000000000014"
      ]
     },
     "execution_count": 27,
     "metadata": {},
     "output_type": "execute_result"
    }
   ],
   "source": [
    "threshold"
   ]
  },
  {
   "cell_type": "code",
   "execution_count": 28,
   "id": "f021ffc0",
   "metadata": {},
   "outputs": [],
   "source": [
    "# Step 6: Predict class of a new point\n",
    "new_point = np.array([40, 10])\n",
    "new_proj = project_point(new_point, w)"
   ]
  },
  {
   "cell_type": "code",
   "execution_count": 29,
   "id": "beedaecb",
   "metadata": {},
   "outputs": [
    {
     "name": "stdout",
     "output_type": "stream",
     "text": [
      "Predicted class: Cat\n"
     ]
    }
   ],
   "source": [
    "if new_proj < threshold:\n",
    "    print(\"Predicted class: Cat\")\n",
    "else:\n",
    "    print(\"Predicted class: Dog\")"
   ]
  },
  {
   "cell_type": "code",
   "execution_count": null,
   "id": "736f7dc6",
   "metadata": {},
   "outputs": [],
   "source": []
  }
 ],
 "metadata": {
  "kernelspec": {
   "display_name": "env",
   "language": "python",
   "name": "python3"
  },
  "language_info": {
   "codemirror_mode": {
    "name": "ipython",
    "version": 3
   },
   "file_extension": ".py",
   "mimetype": "text/x-python",
   "name": "python",
   "nbconvert_exporter": "python",
   "pygments_lexer": "ipython3",
   "version": "3.11.0"
  }
 },
 "nbformat": 4,
 "nbformat_minor": 5
}
