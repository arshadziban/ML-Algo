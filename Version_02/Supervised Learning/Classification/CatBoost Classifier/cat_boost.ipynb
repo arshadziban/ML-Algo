{
 "cells": [
  {
   "cell_type": "markdown",
   "id": "ac38a59f",
   "metadata": {},
   "source": [
    "## CatBoost Classifier:\n",
    "\n",
    "**CatBoost** is a gradient boosting algorithm designed to efficiently handle datasets containing categorical features and to reduce overfitting during training.\n",
    "\n",
    "### Key Features\n",
    "\n",
    "#### 1. Native Categorical Feature Support\n",
    "\n",
    "* Unlike many traditional algorithms that require preprocessing categorical variables into numeric representations (e.g., one-hot encoding), CatBoost **processes categorical features natively**.\n",
    "* It employs a technique known as **Ordered Target Statistics**, which computes category-based statistics in a manner that prevents information leakage from the target variable, thereby reducing the risk of overfitting.\n",
    "\n",
    "#### 2. Ordered Boosting Technique\n",
    "\n",
    "* Conventional gradient boosting methods often suffer from **prediction shift** due to the use of the same dataset for model training and residual calculation, which can lead to overfitting.\n",
    "* CatBoost mitigates this issue through **ordered boosting**, where data is processed sequentially to ensure that predictions for each instance are generated without using its own target information.\n",
    "* This approach improves generalization and model robustness.\n"
   ]
  },
  {
   "cell_type": "markdown",
   "id": "df4fd1a9",
   "metadata": {},
   "source": [
    "## Mathematical Calculation of CatBoost’s Categorical Encoding\n",
    "\n",
    "### Dataset\n",
    "\n",
    "| Index | Color | Class (Y) |\n",
    "| ----- | ----- | --------- |\n",
    "| 1     | Red   | 0         |\n",
    "| 2     | Blue  | 1         |\n",
    "| 3     | Green | 0         |\n",
    "| 4     | Blue  | 1         |\n",
    "\n",
    "---\n",
    "\n",
    "### Goal\n",
    "\n",
    "Convert the categorical feature **Color** into numbers, but **without “peeking” at the current example’s target value** (to avoid overfitting).\n",
    "\n",
    "---\n",
    "\n",
    "### Step-by-step Calculation\n",
    "\n",
    "For each example, the encoded value of **Color** is the **average target value** of all **previous** examples with the same category.\n",
    "\n",
    "If there is no previous example with that category, use a **prior value**, for example, the global average target.\n",
    "\n",
    "---\n",
    "\n",
    "### Calculate global average target\n",
    "\n",
    "$$\n",
    "\\text{Global mean} = \\frac{0 + 1 + 0 + 1}{4} = \\frac{2}{4} = 0.5\n",
    "$$\n",
    "\n",
    "---\n",
    "\n",
    "### Encoding for each example\n",
    "\n",
    "| Index | Color | Target $y_i$ | Previous targets with same Color | Encoding (Ordered Target Statistic) |\n",
    "| ----- | ----- | ------------ | -------------------------------- | ----------------------------------- |\n",
    "| 1     | Red   | 0            | None                             | Prior = 0.5                         |\n",
    "| 2     | Blue  | 1            | None                             | Prior = 0.5                         |\n",
    "| 3     | Green | 0            | None                             | Prior = 0.5                         |\n",
    "| 4     | Blue  | 1            | Index 2 (target = 1)             | $\\frac{1}{1} = 1.0$                 |\n",
    "\n",
    "---\n",
    "\n",
    "### Summary Table\n",
    "\n",
    "| Index | Color | Encoded Value |\n",
    "| ----- | ----- | ------------- |\n",
    "| 1     | Red   | 0.5           |\n",
    "| 2     | Blue  | 0.5           |\n",
    "| 3     | Green | 0.5           |\n",
    "| 4     | Blue  | 1.0           |\n",
    "\n",
    "---\n",
    "\n",
    "### Explanation\n",
    "\n",
    "* For **example 1**, “Red” has no previous occurrence, so we use the global average 0.5.\n",
    "* For **example 2**, “Blue” first time — again, use 0.5.\n",
    "* For **example 3**, “Green” first time — 0.5.\n",
    "* For **example 4**, “Blue” appeared before at example 2 with target 1, so encoding is 1.0.\n"
   ]
  },
  {
   "cell_type": "code",
   "execution_count": 2,
   "id": "71c5c556",
   "metadata": {},
   "outputs": [],
   "source": [
    "data = [\n",
    "    {'Index': 1, 'Color': 'Red', 'Target': 0},\n",
    "    {'Index': 2, 'Color': 'Blue', 'Target': 1},\n",
    "    {'Index': 3, 'Color': 'Green', 'Target': 0},\n",
    "    {'Index': 4, 'Color': 'Blue', 'Target': 1},\n",
    "]"
   ]
  },
  {
   "cell_type": "code",
   "execution_count": 3,
   "id": "6a77cf60",
   "metadata": {},
   "outputs": [
    {
     "data": {
      "text/plain": [
       "[{'Index': 1, 'Color': 'Red', 'Target': 0},\n",
       " {'Index': 2, 'Color': 'Blue', 'Target': 1},\n",
       " {'Index': 3, 'Color': 'Green', 'Target': 0},\n",
       " {'Index': 4, 'Color': 'Blue', 'Target': 1}]"
      ]
     },
     "execution_count": 3,
     "metadata": {},
     "output_type": "execute_result"
    }
   ],
   "source": [
    "data"
   ]
  },
  {
   "cell_type": "code",
   "execution_count": 4,
   "id": "c78238b1",
   "metadata": {},
   "outputs": [],
   "source": [
    "# Calculate global mean of target (prior)\n",
    "global_mean = sum(row['Target'] for row in data) / len(data)"
   ]
  },
  {
   "cell_type": "code",
   "execution_count": 5,
   "id": "a74885b4",
   "metadata": {},
   "outputs": [],
   "source": [
    "# Dictionary to keep track of previous targets per category\n",
    "category_history = {}"
   ]
  },
  {
   "cell_type": "code",
   "execution_count": 6,
   "id": "a79731e3",
   "metadata": {},
   "outputs": [],
   "source": [
    "# List to store encoded values\n",
    "encoded_values = []\n",
    "\n",
    "for row in data:\n",
    "    cat = row['Color']\n",
    "    # Check if we have previous targets for this category\n",
    "    if cat in category_history and category_history[cat]:\n",
    "        # Calculate mean of previous targets\n",
    "        encoded = sum(category_history[cat]) / len(category_history[cat])\n",
    "    else:\n",
    "        # Use global mean if no previous data\n",
    "        encoded = global_mean\n",
    "\n",
    "    encoded_values.append(encoded)\n",
    "\n",
    "    # Update history with current target\n",
    "    if cat not in category_history:\n",
    "        category_history[cat] = []\n",
    "    category_history[cat].append(row['Target'])\n"
   ]
  },
  {
   "cell_type": "code",
   "execution_count": 7,
   "id": "04b66429",
   "metadata": {},
   "outputs": [
    {
     "name": "stdout",
     "output_type": "stream",
     "text": [
      "Index | Color  | Target | Encoded Value\n",
      "---------------------------------------\n",
      "    1 | Red    |      0 |         0.500\n",
      "    2 | Blue   |      1 |         0.500\n",
      "    3 | Green  |      0 |         0.500\n",
      "    4 | Blue   |      1 |         1.000\n"
     ]
    }
   ],
   "source": [
    "# Print results\n",
    "print(\"Index | Color  | Target | Encoded Value\")\n",
    "print(\"---------------------------------------\")\n",
    "for i, row in enumerate(data):\n",
    "    print(f\"{row['Index']:5} | {row['Color']:6} | {row['Target']:6} | {encoded_values[i]:13.3f}\")"
   ]
  }
 ],
 "metadata": {
  "kernelspec": {
   "display_name": "env",
   "language": "python",
   "name": "python3"
  },
  "language_info": {
   "codemirror_mode": {
    "name": "ipython",
    "version": 3
   },
   "file_extension": ".py",
   "mimetype": "text/x-python",
   "name": "python",
   "nbconvert_exporter": "python",
   "pygments_lexer": "ipython3",
   "version": "3.11.0"
  }
 },
 "nbformat": 4,
 "nbformat_minor": 5
}
