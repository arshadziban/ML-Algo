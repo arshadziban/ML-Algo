{
 "cells": [
  {
   "cell_type": "markdown",
   "id": "c0c378f1",
   "metadata": {},
   "source": [
    "## 1. Gaussian Mixture Models (GMM)\n",
    "\n",
    "* **What is GMM?**\n",
    "  It is a way to group data by assuming that the data comes from several groups (clusters), each shaped like a bell curve (Gaussian/normal distribution).\n",
    "\n",
    "* **Why use GMM?**\n",
    "  Unlike K-Means that puts each data point into only one group, GMM says each data point can belong to several groups at the same time, but with different probabilities.\n",
    "\n",
    "* **How does it work?**\n",
    "  The data’s overall shape is made by mixing several bell curves. Each curve has its own center (mean), shape (covariance), and weight (how big it is).\n",
    "\n",
    "---\n",
    "\n",
    "## 2. Expectation-Maximization (EM) Algorithm\n",
    "\n",
    "* **What is EM?**\n",
    "  It’s a step-by-step method to find the best guess for the parameters (centers, shapes, and weights) of those bell curves.\n",
    "\n",
    "* **How EM works in GMM:**\n",
    "\n",
    "  1. **Start:** Guess the centers, shapes, and weights for each group.\n",
    "  2. **E-step:** For each data point, calculate how likely it belongs to each group (soft assignment).\n",
    "  3. **M-step:** Update the centers, shapes, and weights based on these likelihoods.\n",
    "  4. **Repeat** these two steps until the parameters don’t change much.\n",
    "\n",
    "---\n",
    "\n",
    "## 3. Soft Clustering\n",
    "\n",
    "* **What is soft clustering?**\n",
    "  Instead of forcing a point into just one cluster, soft clustering says a point can belong to multiple clusters with some probability.\n",
    "\n",
    "* **Why is it useful?**\n",
    "  It helps when groups overlap or when we aren’t sure which group a point belongs to. It gives more information about the data structure.\n",
    "\n",
    "---\n",
    "\n",
    "### Simple Summary Table\n",
    "\n",
    "| Concept                  | What it Means                                | Main Idea                                   |\n",
    "| ------------------------ | -------------------------------------------- | ------------------------------------------- |\n",
    "| Gaussian Mixture Model   | Data comes from several bell curves          | Mix of multiple Gaussian distributions      |\n",
    "| Expectation-Maximization | Step-by-step way to find best groups         | Calculate probabilities, then update groups |\n",
    "| Soft Clustering          | Points belong to clusters with probabilities | Probabilistic membership, not hard labels   |\n"
   ]
  },
  {
   "cell_type": "markdown",
   "id": "24181078",
   "metadata": {},
   "source": []
  }
 ],
 "metadata": {
  "language_info": {
   "name": "python"
  }
 },
 "nbformat": 4,
 "nbformat_minor": 5
}
