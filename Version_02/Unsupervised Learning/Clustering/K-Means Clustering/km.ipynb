{
 "cells": [
  {
   "cell_type": "markdown",
   "id": "2cfb7f46",
   "metadata": {},
   "source": [
    "## K-Means Clustering\n",
    "\n",
    "K-Means is an **unsupervised learning algorithm** used to group data into **clusters** based on similarity.\n",
    "\n",
    "### Key Concepts\n",
    "\n",
    "#### 1. Centroids\n",
    "\n",
    "* Each cluster is represented by a **centroid**, which is the mean (average) of all points assigned to that cluster.\n",
    "* The centroid acts as the \"center\" of the cluster.\n",
    "* During the algorithm, centroids move as points get assigned or reassigned to clusters.\n",
    "\n",
    "#### 2. Inertia\n",
    "\n",
    "* **Inertia** measures how internally coherent clusters are.\n",
    "* It is calculated as the **sum of squared distances** between each data point and its assigned cluster centroid.\n",
    "* Lower inertia means points are closer to their centroids, indicating tighter clusters.\n",
    "\n",
    "#### 3. The Elbow Method\n",
    "\n",
    "* The elbow method helps choose the **optimal number of clusters (K)**.\n",
    "* Run K-Means with different values of $K$ (e.g., 1 to 10) and plot the inertia for each.\n",
    "* The plot typically shows a sharp decrease in inertia at first, then levels off.\n",
    "* The **“elbow” point**—where the decrease slows—is considered the best choice for $K$, balancing cluster compactness and simplicity.\n",
    "\n",
    "---\n",
    "\n",
    "## How K-Means Works (Simplified)\n",
    "\n",
    "1. Choose $K$ initial centroids (randomly or by other methods).\n",
    "2. Assign each data point to the nearest centroid.\n",
    "3. Update centroids by computing the mean of assigned points.\n",
    "4. Repeat steps 2 and 3 until assignments don’t change or maximum iterations reached.\n",
    "\n",
    "---\n",
    "\n",
    "## Summary\n",
    "\n",
    "* **Centroids** are the centers of clusters.\n",
    "* **Inertia** measures cluster tightness; lower is better.\n",
    "* **Elbow method** helps pick the right number of clusters by finding where adding more clusters doesn’t improve inertia much."
   ]
  },
  {
   "cell_type": "markdown",
   "id": "b637b824",
   "metadata": {},
   "source": [
    "## Dataset: Points and Goal\n",
    "\n",
    "| Point | Coordinates (x, y) |\n",
    "| ----- | ------------------ |\n",
    "| A     | (1, 2)             |\n",
    "| B     | (1, 4)             |\n",
    "| C     | (3, 2)             |\n",
    "| D     | (5, 8)             |\n",
    "| E     | (6, 9)             |\n",
    "\n",
    "Goal: Group these into **2 clusters**.\n",
    "\n",
    "---\n",
    "\n",
    "## Step 1: Initialize Centroids\n",
    "\n",
    "Pick initial centroids — for example:\n",
    "\n",
    "* Centroid 1: Point A → (1, 2)\n",
    "* Centroid 2: Point D → (5, 8)\n",
    "\n",
    "---\n",
    "\n",
    "## Step 2: Assign Each Point to Closest Centroid\n",
    "\n",
    "Calculate Euclidean distance from each point to each centroid.\n",
    "\n",
    "Distance formula:\n",
    "\n",
    "$$\n",
    "d = \\sqrt{(x_1 - x_2)^2 + (y_1 - y_2)^2}\n",
    "$$\n",
    "\n",
    "Calculate and assign:\n",
    "\n",
    "| Point   | Distance to $C_1$                       | Distance to $C_2$                       | Assigned Cluster |\n",
    "| ------- | --------------------------------------- | --------------------------------------- | ---------------- |\n",
    "| A (1,2) | $\\sqrt{(1-1)^2 + (2-2)^2} = 0$          | $\\sqrt{(1-5)^2 + (2-8)^2} \\approx 7.21$ | 1                |\n",
    "| B (1,4) | $\\sqrt{(1-1)^2 + (4-2)^2} = 2$          | $\\sqrt{(1-5)^2 + (4-8)^2} \\approx 5.66$ | 1                |\n",
    "| C (3,2) | $\\sqrt{(3-1)^2 + (2-2)^2} = 2$          | $\\sqrt{(3-5)^2 + (2-8)^2} \\approx 6.32$ | 1                |\n",
    "| D (5,8) | $\\sqrt{(5-1)^2 + (8-2)^2} \\approx 7.21$ | $\\sqrt{(5-5)^2 + (8-8)^2} = 0$          | 2                |\n",
    "| E (6,9) | $\\sqrt{(6-1)^2 + (9-2)^2} \\approx 8.60$ | $\\sqrt{(6-5)^2 + (9-8)^2} \\approx 1.41$ | 2                |\n",
    "\n",
    "---\n",
    "\n",
    "## Step 3: Update Centroids\n",
    "\n",
    "Calculate new centroids by averaging points in each cluster.\n",
    "\n",
    "* Cluster 1 points: A (1,2), B (1,4), C (3,2)\n",
    "\n",
    "$$\n",
    "C_1 = \\left( \\frac{1 + 1 + 3}{3}, \\frac{2 + 4 + 2}{3} \\right) = (1.67, 2.67)\n",
    "$$\n",
    "\n",
    "* Cluster 2 points: D (5,8), E (6,9)\n",
    "\n",
    "$$\n",
    "C_2 = \\left( \\frac{5 + 6}{2}, \\frac{8 + 9}{2} \\right) = (5.5, 8.5)\n",
    "$$\n",
    "\n",
    "---\n",
    "\n",
    "## Step 4: Re-Assign Points to Closest Centroid\n",
    "\n",
    "Calculate distances with new centroids:\n",
    "\n",
    "| Point   | Distance to $C_1$                             | Distance to $C_2$                           | Assigned Cluster |\n",
    "| ------- | --------------------------------------------- | ------------------------------------------- | ---------------- |\n",
    "| A (1,2) | $\\sqrt{(1-1.67)^2 + (2-2.67)^2} \\approx 0.94$ | $\\sqrt{(1-5.5)^2 + (2-8.5)^2} \\approx 7.29$ | 1                |\n",
    "| B (1,4) | $\\sqrt{(1-1.67)^2 + (4-2.67)^2} \\approx 1.54$ | $\\sqrt{(1-5.5)^2 + (4-8.5)^2} \\approx 5.84$ | 1                |\n",
    "| C (3,2) | $\\sqrt{(3-1.67)^2 + (2-2.67)^2} \\approx 1.43$ | $\\sqrt{(3-5.5)^2 + (2-8.5)^2} \\approx 6.56$ | 1                |\n",
    "| D (5,8) | $\\sqrt{(5-1.67)^2 + (8-2.67)^2} \\approx 6.62$ | $\\sqrt{(5-5.5)^2 + (8-8.5)^2} \\approx 0.71$ | 2                |\n",
    "| E (6,9) | $\\sqrt{(6-1.67)^2 + (9-2.67)^2} \\approx 8.05$ | $\\sqrt{(6-5.5)^2 + (9-8.5)^2} \\approx 0.71$ | 2                |\n",
    "\n",
    "---\n",
    "\n",
    "## Step 5: Calculate Inertia\n",
    "\n",
    "Inertia is sum of squared distances of points to their centroids.\n",
    "\n",
    "* Cluster 1:\n",
    "\n",
    "$$\n",
    "0.94^2 + 1.54^2 + 1.43^2 = 0.88 + 2.37 + 2.04 = 5.29\n",
    "$$\n",
    "\n",
    "* Cluster 2:\n",
    "\n",
    "$$\n",
    "0.71^2 + 0.71^2 = 0.50 + 0.50 = 1.0\n",
    "$$\n",
    "\n",
    "* Total inertia:\n",
    "\n",
    "$$\n",
    "5.29 + 1.0 = 6.29\n",
    "$$\n",
    "\n",
    "---\n",
    "\n",
    "## Step 6: Repeat Steps 3-5\n",
    "\n",
    "You repeat updating centroids and assigning points until the assignments no longer change or inertia stabilizes.\n",
    "\n",
    "---\n",
    "\n",
    "## Summary\n",
    "\n",
    "* Calculate distances using Euclidean formula.\n",
    "* Assign points to closest centroid.\n",
    "* Update centroids by averaging cluster points.\n",
    "* Calculate inertia to measure clustering quality.\n",
    "* Repeat until stable.\n"
   ]
  },
  {
   "cell_type": "code",
   "execution_count": 8,
   "id": "0ebf2904",
   "metadata": {},
   "outputs": [],
   "source": [
    "import numpy as np\n",
    "\n",
    "# Our points (x, y)\n",
    "points = np.array([\n",
    "    [1, 2],  # Point A\n",
    "    [1, 4],  # Point B\n",
    "    [3, 2],  # Point C\n",
    "    [5, 8],  # Point D\n",
    "    [6, 9]   # Point E\n",
    "])"
   ]
  },
  {
   "cell_type": "code",
   "execution_count": 9,
   "id": "9cc672b4",
   "metadata": {},
   "outputs": [],
   "source": [
    "# Step 1: Choose two starting centroids manually\n",
    "centroid1 = points[0]  # (1, 2)\n",
    "centroid2 = points[3]  # (5, 8)"
   ]
  },
  {
   "cell_type": "code",
   "execution_count": 10,
   "id": "be36397a",
   "metadata": {},
   "outputs": [],
   "source": [
    "# Function to calculate distance between two points\n",
    "def distance(p1, p2):\n",
    "    return np.sqrt((p1[0] - p2[0])**2 + (p1[1] - p2[1])**2)"
   ]
  },
  {
   "cell_type": "code",
   "execution_count": 11,
   "id": "cf1f1039",
   "metadata": {},
   "outputs": [],
   "source": [
    "cluster1 = []\n",
    "cluster2 = []\n",
    "\n",
    "for point in points:\n",
    "    dist1 = distance(point, centroid1)\n",
    "    dist2 = distance(point, centroid2)\n",
    "    \n",
    "    if dist1 < dist2:\n",
    "        cluster1.append(point)\n",
    "    else:\n",
    "        cluster2.append(point)\n",
    "\n",
    "cluster1 = np.array(cluster1)\n",
    "cluster2 = np.array(cluster2)"
   ]
  },
  {
   "cell_type": "code",
   "execution_count": 12,
   "id": "1ea3c223",
   "metadata": {},
   "outputs": [],
   "source": [
    "# Step 3: Calculate new centroids by averaging points in clusters\n",
    "def calculate_centroid(cluster):\n",
    "    x_mean = np.mean(cluster[:, 0])\n",
    "    y_mean = np.mean(cluster[:, 1])\n",
    "    return np.array([x_mean, y_mean])\n",
    "\n",
    "centroid1_new = calculate_centroid(cluster1)\n",
    "centroid2_new = calculate_centroid(cluster2)"
   ]
  },
  {
   "cell_type": "code",
   "execution_count": 13,
   "id": "ae73c049",
   "metadata": {},
   "outputs": [],
   "source": [
    "# --- New Step: Predict which cluster a new point belongs to ---\n",
    "new_point = np.array([4, 5])  # Example new point\n",
    "\n",
    "dist_to_c1 = distance(new_point, centroid1_new)\n",
    "dist_to_c2 = distance(new_point, centroid2_new)"
   ]
  },
  {
   "cell_type": "code",
   "execution_count": 14,
   "id": "e5e167c0",
   "metadata": {},
   "outputs": [
    {
     "data": {
      "text/plain": [
       "np.float64(3.2998316455372216)"
      ]
     },
     "execution_count": 14,
     "metadata": {},
     "output_type": "execute_result"
    }
   ],
   "source": [
    "dist_to_c1"
   ]
  },
  {
   "cell_type": "code",
   "execution_count": 15,
   "id": "f9106a54",
   "metadata": {},
   "outputs": [
    {
     "data": {
      "text/plain": [
       "np.float64(3.8078865529319543)"
      ]
     },
     "execution_count": 15,
     "metadata": {},
     "output_type": "execute_result"
    }
   ],
   "source": [
    "dist_to_c2"
   ]
  },
  {
   "cell_type": "code",
   "execution_count": 16,
   "id": "f0bd5f91",
   "metadata": {},
   "outputs": [
    {
     "name": "stdout",
     "output_type": "stream",
     "text": [
      "New point belongs to Cluster 1\n"
     ]
    }
   ],
   "source": [
    "if dist_to_c1 < dist_to_c2:\n",
    "    print(\"New point belongs to Cluster 1\")\n",
    "else:\n",
    "    print(\"New point belongs to Cluster 2\")"
   ]
  },
  {
   "cell_type": "code",
   "execution_count": 17,
   "id": "e4b53b00",
   "metadata": {},
   "outputs": [],
   "source": [
    "from sklearn.cluster import KMeans"
   ]
  },
  {
   "cell_type": "code",
   "execution_count": 18,
   "id": "ce629d87",
   "metadata": {},
   "outputs": [
    {
     "name": "stdout",
     "output_type": "stream",
     "text": [
      "Centroids:\n",
      "[[1.66666667 2.66666667]\n",
      " [5.5        8.5       ]]\n",
      "\n",
      "Cluster assignments for each point:\n",
      "Point [1 2] is in Cluster 0\n",
      "Point [1 4] is in Cluster 0\n",
      "Point [3 2] is in Cluster 0\n",
      "Point [5 8] is in Cluster 1\n",
      "Point [6 9] is in Cluster 1\n",
      "\n",
      "New point [4 5] belongs to Cluster 0\n"
     ]
    }
   ],
   "source": [
    "# Our points (x, y)\n",
    "points = np.array([\n",
    "    [1, 2],  # Point A\n",
    "    [1, 4],  # Point B\n",
    "    [3, 2],  # Point C\n",
    "    [5, 8],  # Point D\n",
    "    [6, 9]   # Point E\n",
    "])\n",
    "\n",
    "# Create and fit KMeans model with 2 clusters\n",
    "kmeans = KMeans(n_clusters=2, random_state=0)\n",
    "kmeans.fit(points)\n",
    "\n",
    "# Print the cluster centers (centroids)\n",
    "print(\"Centroids:\")\n",
    "print(kmeans.cluster_centers_)\n",
    "\n",
    "# Print cluster labels for each point\n",
    "print(\"\\nCluster assignments for each point:\")\n",
    "for i, label in enumerate(kmeans.labels_):\n",
    "    print(f\"Point {points[i]} is in Cluster {label}\")\n",
    "\n",
    "# Predict cluster for a new point\n",
    "new_point = np.array([[4, 5]])\n",
    "predicted_cluster = kmeans.predict(new_point)\n",
    "\n",
    "print(f\"\\nNew point {new_point[0]} belongs to Cluster {predicted_cluster[0]}\")"
   ]
  }
 ],
 "metadata": {
  "kernelspec": {
   "display_name": "env",
   "language": "python",
   "name": "python3"
  },
  "language_info": {
   "codemirror_mode": {
    "name": "ipython",
    "version": 3
   },
   "file_extension": ".py",
   "mimetype": "text/x-python",
   "name": "python",
   "nbconvert_exporter": "python",
   "pygments_lexer": "ipython3",
   "version": "3.11.0"
  }
 },
 "nbformat": 4,
 "nbformat_minor": 5
}
