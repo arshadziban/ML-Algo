{
 "cells": [
  {
   "cell_type": "code",
   "execution_count": 1,
   "metadata": {},
   "outputs": [],
   "source": [
    "import numpy as np"
   ]
  },
  {
   "cell_type": "code",
   "execution_count": 2,
   "metadata": {},
   "outputs": [],
   "source": [
    "# Step 1: Data Setup\n",
    "X = np.array([1, 2, 3])  # Features\n",
    "y = np.array([3, 5, 7])  # True values (targets)"
   ]
  },
  {
   "cell_type": "code",
   "execution_count": 3,
   "metadata": {},
   "outputs": [],
   "source": [
    "# Step 2: Initialize Predictions (mean of the target values)\n",
    "initial_prediction = np.mean(y)\n",
    "predictions = np.full_like(y, initial_prediction, dtype=np.float32)"
   ]
  },
  {
   "cell_type": "code",
   "execution_count": 4,
   "metadata": {},
   "outputs": [
    {
     "name": "stdout",
     "output_type": "stream",
     "text": [
      "Residuals: [-2.  0.  2.]\n"
     ]
    }
   ],
   "source": [
    "# Step 3: Compute Residuals (Errors)\n",
    "residuals = y - predictions\n",
    "print(\"Residuals:\", residuals)"
   ]
  },
  {
   "cell_type": "code",
   "execution_count": 6,
   "metadata": {},
   "outputs": [],
   "source": [
    "# Step 4: Fit a Simple Tree (Prediction of Residuals)\n",
    "# For simplicity, assume a tree prediction based on the data points\n",
    "tree_predictions = np.array([-1, 0, 1])  # Predicted residuals for each data point"
   ]
  },
  {
   "cell_type": "code",
   "execution_count": 7,
   "metadata": {},
   "outputs": [
    {
     "data": {
      "text/plain": [
       "array([-1,  0,  1])"
      ]
     },
     "execution_count": 7,
     "metadata": {},
     "output_type": "execute_result"
    }
   ],
   "source": [
    "tree_predictions"
   ]
  },
  {
   "cell_type": "code",
   "execution_count": 8,
   "metadata": {},
   "outputs": [
    {
     "name": "stdout",
     "output_type": "stream",
     "text": [
      "Updated Predictions: [4.9 5.  5.1]\n"
     ]
    }
   ],
   "source": [
    "# Step 5: Update Predictions with Learning Rate (η = 0.1)\n",
    "learning_rate = 0.1\n",
    "updated_predictions = predictions + learning_rate * tree_predictions\n",
    "print(\"Updated Predictions:\", updated_predictions)"
   ]
  },
  {
   "cell_type": "code",
   "execution_count": 9,
   "metadata": {},
   "outputs": [],
   "source": [
    "# Step 6: Predict for a New Data Point (X = 5)\n",
    "# Assume the tree predicts a residual of 0.5 for X = 5\n",
    "new_data_point = 5\n",
    "initial_new_prediction = initial_prediction  # Mean value for the new point\n",
    "tree_prediction_new = 0.5  # Arbitrary residual prediction from the tree"
   ]
  },
  {
   "cell_type": "code",
   "execution_count": 10,
   "metadata": {},
   "outputs": [
    {
     "name": "stdout",
     "output_type": "stream",
     "text": [
      "Prediction for X = 5: 5.05\n"
     ]
    }
   ],
   "source": [
    "# Update the prediction for the new data point\n",
    "new_prediction = initial_new_prediction + learning_rate * tree_prediction_new\n",
    "print(\"Prediction for X = 5:\", new_prediction)"
   ]
  }
 ],
 "metadata": {
  "kernelspec": {
   "display_name": "base",
   "language": "python",
   "name": "python3"
  },
  "language_info": {
   "codemirror_mode": {
    "name": "ipython",
    "version": 3
   },
   "file_extension": ".py",
   "mimetype": "text/x-python",
   "name": "python",
   "nbconvert_exporter": "python",
   "pygments_lexer": "ipython3",
   "version": "3.12.8"
  }
 },
 "nbformat": 4,
 "nbformat_minor": 2
}
