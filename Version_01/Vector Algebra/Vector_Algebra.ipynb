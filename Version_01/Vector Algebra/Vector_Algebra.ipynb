{
  "nbformat": 4,
  "nbformat_minor": 0,
  "metadata": {
    "colab": {
      "provenance": []
    },
    "kernelspec": {
      "name": "python3",
      "display_name": "Python 3"
    },
    "language_info": {
      "name": "python"
    }
  },
  "cells": [
    {
      "cell_type": "code",
      "execution_count": 5,
      "metadata": {
        "id": "HED3k63XsKFz"
      },
      "outputs": [],
      "source": [
        "import numpy as np\n",
        "\n",
        "# Step 1: Define X (with bias column) and y\n",
        "X = np.array([\n",
        "    [1, 1],\n",
        "    [1, 2],\n",
        "    [1, 3],\n",
        "    [1, 4]\n",
        "], dtype=float)\n",
        "\n",
        "y = np.array([2, 4, 6, 8], dtype=float)  # Target values"
      ]
    },
    {
      "cell_type": "code",
      "source": [
        "beta = np.linalg.inv(X.T @ X) @ X.T @ y"
      ],
      "metadata": {
        "id": "eaf-oOJztl3a"
      },
      "execution_count": 6,
      "outputs": []
    },
    {
      "cell_type": "code",
      "source": [
        "beta"
      ],
      "metadata": {
        "colab": {
          "base_uri": "https://localhost:8080/"
        },
        "id": "xxDBzRbXwiJ0",
        "outputId": "ffda63b5-830b-436a-c9da-ca1e7713e128"
      },
      "execution_count": 7,
      "outputs": [
        {
          "output_type": "execute_result",
          "data": {
            "text/plain": [
              "array([0., 2.])"
            ]
          },
          "metadata": {},
          "execution_count": 7
        }
      ]
    },
    {
      "cell_type": "code",
      "source": [
        "def predict(x):\n",
        "    return beta[1] * x + beta[0]"
      ],
      "metadata": {
        "id": "9X6lA1YIwrRB"
      },
      "execution_count": 8,
      "outputs": []
    },
    {
      "cell_type": "code",
      "source": [
        "# Predict for new values\n",
        "new_x_values = [5, 10, 15]  # Chocolates to predict for\n",
        "predictions = [predict(x) for x in new_x_values]\n",
        "\n",
        "# Display predictions\n",
        "for x, y_pred in zip(new_x_values, predictions):\n",
        "    print(f\"For x = {x} chocolates, Predicted energy = {y_pred}\")"
      ],
      "metadata": {
        "colab": {
          "base_uri": "https://localhost:8080/"
        },
        "id": "fsFKOep55Oxq",
        "outputId": "3af8737b-f080-4d0c-89f8-2d13d9dcc464"
      },
      "execution_count": 11,
      "outputs": [
        {
          "output_type": "stream",
          "name": "stdout",
          "text": [
            "For x = 5 chocolates, Predicted energy = 10.000000000000004\n",
            "For x = 10 chocolates, Predicted energy = 20.000000000000007\n",
            "For x = 15 chocolates, Predicted energy = 30.000000000000014\n"
          ]
        }
      ]
    }
  ]
}